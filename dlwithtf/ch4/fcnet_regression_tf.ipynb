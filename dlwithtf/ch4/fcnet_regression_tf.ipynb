{
 "cells": [
  {
   "cell_type": "markdown",
   "metadata": {},
   "source": [
    "# Fully-connected network (regression)"
   ]
  },
  {
   "cell_type": "code",
   "execution_count": 2,
   "metadata": {},
   "outputs": [],
   "source": [
    "# Use CPU\n",
    "import os\n",
    "os.environ['CUDA_VISIBLE_DEVICES'] = '-1' "
   ]
  },
  {
   "cell_type": "code",
   "execution_count": 3,
   "metadata": {},
   "outputs": [],
   "source": [
    "import tensorflow as tf"
   ]
  },
  {
   "cell_type": "code",
   "execution_count": 4,
   "metadata": {},
   "outputs": [
    {
     "name": "stdout",
     "output_type": "stream",
     "text": [
      "TensorFlow version: 1.15.0\n"
     ]
    }
   ],
   "source": [
    "print(\"TensorFlow version: %s\" % tf.__version__)"
   ]
  },
  {
   "cell_type": "code",
   "execution_count": 5,
   "metadata": {},
   "outputs": [],
   "source": [
    "tf.enable_eager_execution()"
   ]
  },
  {
   "cell_type": "code",
   "execution_count": 6,
   "metadata": {},
   "outputs": [],
   "source": [
    "import numpy as np\n",
    "import matplotlib.pyplot as plt\n",
    "from scipy.stats import pearsonr"
   ]
  },
  {
   "cell_type": "code",
   "execution_count": 7,
   "metadata": {},
   "outputs": [],
   "source": [
    "np.random.seed(456)\n",
    "tf.set_random_seed(456)"
   ]
  },
  {
   "cell_type": "code",
   "execution_count": 8,
   "metadata": {},
   "outputs": [],
   "source": [
    "def pearson_r2_score(y, y_pred):\n",
    "    \"\"\"Computes Pearson R^2 (square of Pearson correlation).\"\"\"\n",
    "    return pearsonr(y, y_pred)[0]**2"
   ]
  },
  {
   "cell_type": "markdown",
   "metadata": {},
   "source": [
    "## Generate synthetic data"
   ]
  },
  {
   "cell_type": "code",
   "execution_count": 9,
   "metadata": {},
   "outputs": [],
   "source": [
    "d = 1\n",
    "N = 50\n",
    "w_true = 5\n",
    "b_true = 2\n",
    "noise_scale = .1"
   ]
  },
  {
   "cell_type": "code",
   "execution_count": 10,
   "metadata": {},
   "outputs": [],
   "source": [
    "x_np = tf.random.uniform([N, 1])\n",
    "noise = tf.random.normal([N, 1], stddev=noise_scale)\n",
    "y_np = w_true * x_np + b_true + noise"
   ]
  },
  {
   "cell_type": "code",
   "execution_count": 11,
   "metadata": {},
   "outputs": [
    {
     "data": {
      "image/png": "[encoded data removed]",
      "text/plain": [
       "<Figure size 432x288 with 1 Axes>"
      ]
     },
     "metadata": {
      "needs_background": "light"
     },
     "output_type": "display_data"
    }
   ],
   "source": [
    "# Save image of the data distribution\n",
    "plt.scatter(x_np, y_np)\n",
    "plt.xlabel(\"X\")\n",
    "plt.ylabel(\"y\")\n",
    "plt.title(\"Raw Linear Regression Data\")\n",
    "plt.savefig(\"fcnet_regression_data.png\")"
   ]
  },
  {
   "cell_type": "markdown",
   "metadata": {},
   "source": [
    "- Network definition"
   ]
  },
  {
   "cell_type": "code",
   "execution_count": 12,
   "metadata": {},
   "outputs": [],
   "source": [
    "def net(x, W_1, b_1, W_2, b_2):\n",
    "    x_1 = tf.nn.relu(tf.matmul(x, W_1) + b_1)\n",
    "    Y = tf.matmul(x_1, W_2) + b_2\n",
    "    return Y"
   ]
  },
  {
   "cell_type": "code",
   "execution_count": 13,
   "metadata": {},
   "outputs": [],
   "source": [
    "x = tf.convert_to_tensor(x_np)\n",
    "y = tf.convert_to_tensor(y_np)"
   ]
  },
  {
   "cell_type": "code",
   "execution_count": 14,
   "metadata": {},
   "outputs": [],
   "source": [
    "n_hidden = 15"
   ]
  },
  {
   "cell_type": "code",
   "execution_count": 15,
   "metadata": {},
   "outputs": [],
   "source": [
    "W_1 = tf.Variable(tf.random_normal((d, n_hidden)))\n",
    "b_1 = tf.Variable(tf.random_normal((n_hidden,)))\n",
    "\n",
    "W_2 = tf.Variable(tf.random_normal((n_hidden, 1)))\n",
    "b_2 = tf.Variable(tf.random_normal((1,)))"
   ]
  },
  {
   "cell_type": "code",
   "execution_count": 16,
   "metadata": {},
   "outputs": [],
   "source": [
    "train_op = tf.train.AdamOptimizer(.001)"
   ]
  },
  {
   "cell_type": "code",
   "execution_count": 17,
   "metadata": {},
   "outputs": [
    {
     "name": "stderr",
     "output_type": "stream",
     "text": [
      "WARNING: Logging before flag parsing goes to stderr.\n",
      "W1026 10:06:07.015469 23060 lazy_loader.py:50] \n",
      "The TensorFlow contrib module will not be included in TensorFlow 2.0.\n",
      "For more information, please see:\n",
      "  * https://github.com/tensorflow/community/blob/master/rfcs/20180907-contrib-sunset.md\n",
      "  * https://github.com/tensorflow/addons\n",
      "  * https://github.com/tensorflow/io (for I/O related ops)\n",
      "If you depend on functionality not listed there, please file an issue.\n",
      "\n"
     ]
    }
   ],
   "source": [
    "summary_writer = tf.contrib.summary.create_file_writer('/tmp/fcnet-regression-train')"
   ]
  },
  {
   "cell_type": "markdown",
   "metadata": {},
   "source": [
    "## Train model"
   ]
  },
  {
   "cell_type": "code",
   "execution_count": 18,
   "metadata": {},
   "outputs": [
    {
     "name": "stdout",
     "output_type": "stream",
     "text": [
      "step 0, loss: 988.909973, loss-vec-size: (50, 1)\n",
      "step 50, loss: 727.287659, loss-vec-size: (50, 1)\n",
      "step 100, loss: 526.999512, loss-vec-size: (50, 1)\n",
      "step 150, loss: 373.754028, loss-vec-size: (50, 1)\n",
      "step 200, loss: 249.614059, loss-vec-size: (50, 1)\n",
      "step 250, loss: 176.322937, loss-vec-size: (50, 1)\n",
      "step 300, loss: 128.962173, loss-vec-size: (50, 1)\n",
      "step 350, loss: 93.599274, loss-vec-size: (50, 1)\n",
      "step 400, loss: 69.002151, loss-vec-size: (50, 1)\n",
      "step 450, loss: 51.030251, loss-vec-size: (50, 1)\n",
      "step 500, loss: 37.157726, loss-vec-size: (50, 1)\n",
      "step 550, loss: 26.624836, loss-vec-size: (50, 1)\n",
      "step 600, loss: 18.829721, loss-vec-size: (50, 1)\n",
      "step 650, loss: 13.168104, loss-vec-size: (50, 1)\n",
      "step 700, loss: 9.173429, loss-vec-size: (50, 1)\n",
      "step 750, loss: 6.397064, loss-vec-size: (50, 1)\n",
      "step 800, loss: 4.481261, loss-vec-size: (50, 1)\n",
      "step 850, loss: 3.184352, loss-vec-size: (50, 1)\n",
      "step 900, loss: 2.333014, loss-vec-size: (50, 1)\n",
      "step 950, loss: 1.782060, loss-vec-size: (50, 1)\n"
     ]
    }
   ],
   "source": [
    "n_steps = 1000\n",
    "\n",
    "for i in range(n_steps):\n",
    "    with tf.GradientTape() as tape:\n",
    "        y_pred = net(x, W_1, b_1, W_2, b_2)\n",
    "        lvec = (y - y_pred)**2\n",
    "        l = tf.reduce_sum(lvec)\n",
    "\n",
    "        grads = tape.gradient(l, (W_1, b_1, W_2, b_2) )\n",
    "        train_op.apply_gradients(zip(grads, (W_1, b_1, W_2, b_2)))\n",
    "\n",
    "        # Log\n",
    "        with summary_writer.as_default(), tf.contrib.summary.always_record_summaries():\n",
    "            tf.contrib.summary.scalar(\"loss\", l, step=i)\n",
    "\n",
    "        if i % 50 == 0:\n",
    "            print(\"step %d, loss: %f, loss-vec-size: %s\" % (i, l.numpy(), lvec.shape))"
   ]
  },
  {
   "cell_type": "code",
   "execution_count": 19,
   "metadata": {},
   "outputs": [],
   "source": [
    "summary_writer.flush()\n",
    "summary_writer.close()"
   ]
  },
  {
   "cell_type": "code",
   "execution_count": 20,
   "metadata": {},
   "outputs": [
    {
     "name": "stdout",
     "output_type": "stream",
     "text": [
      "Pearson R^2: 0.988859\n"
     ]
    }
   ],
   "source": [
    "y_pred_np = net(x, W_1, b_1, W_2, b_2)\n",
    "r2 = pearson_r2_score( np.reshape(y_np.numpy(), -1), np.reshape(y_pred_np, -1) )\n",
    "print(\"Pearson R^2: %f\" % r2)"
   ]
  },
  {
   "cell_type": "markdown",
   "metadata": {},
   "source": [
    "## Visualize result"
   ]
  },
  {
   "cell_type": "code",
   "execution_count": 21,
   "metadata": {},
   "outputs": [
    {
     "data": {
      "image/png": "[encoded data removed]",
      "text/plain": [
       "<Figure size 432x288 with 1 Axes>"
      ]
     },
     "metadata": {
      "needs_background": "light"
     },
     "output_type": "display_data"
    }
   ],
   "source": [
    "# Clear figure\n",
    "plt.clf()\n",
    "plt.xlabel(\"Y-true\")\n",
    "plt.ylabel(\"Y-pred\")\n",
    "plt.title(\"Predicted versus true values\")\n",
    "plt.scatter(y_np, y_pred_np)\n",
    "plt.savefig(\"fcnet_regression_pred.png\")\n",
    "\n",
    "# Now draw with learned regression line\n",
    "plt.clf()\n",
    "plt.xlabel(\"X\")\n",
    "plt.ylabel(\"Y\")\n",
    "plt.title(\"Predicted versus true values\")\n",
    "plt.xlim(0, 1)\n",
    "plt.scatter(x_np, y_np)\n",
    "plt.scatter(x_np, y_pred_np)\n",
    "plt.savefig(\"fcnet_regression_learned.png\")"
   ]
  },
  {
   "cell_type": "code",
   "execution_count": null,
   "metadata": {},
   "outputs": [],
   "source": []
  }
 ],
 "metadata": {
  "kernelspec": {
   "display_name": "Python 3",
   "language": "python",
   "name": "python3"
  },
  "language_info": {
   "codemirror_mode": {
    "name": "ipython",
    "version": 3
   },
   "file_extension": ".py",
   "mimetype": "text/x-python",
   "name": "python",
   "nbconvert_exporter": "python",
   "pygments_lexer": "ipython3",
   "version": "3.7.4"
  }
 },
 "nbformat": 4,
 "nbformat_minor": 4
}
