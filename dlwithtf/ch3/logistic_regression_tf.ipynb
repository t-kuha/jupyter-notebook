{
 "cells": [
  {
   "cell_type": "markdown",
   "metadata": {},
   "source": [
    "# Logistic Regression in TensorFlow\n",
    "\n",
    "- Use eager execution"
   ]
  },
  {
   "cell_type": "code",
   "execution_count": 1,
   "metadata": {},
   "outputs": [],
   "source": [
    "# Use CPU\n",
    "import os\n",
    "os.environ['CUDA_VISIBLE_DEVICES'] = '-1' "
   ]
  },
  {
   "cell_type": "code",
   "execution_count": 2,
   "metadata": {},
   "outputs": [],
   "source": [
    "import tensorflow as tf"
   ]
  },
  {
   "cell_type": "code",
   "execution_count": 3,
   "metadata": {},
   "outputs": [
    {
     "name": "stdout",
     "output_type": "stream",
     "text": [
      "TensorFlow version: 1.15.0\n"
     ]
    }
   ],
   "source": [
    "print('TensorFlow version: %s' % tf.__version__)"
   ]
  },
  {
   "cell_type": "code",
   "execution_count": 4,
   "metadata": {},
   "outputs": [],
   "source": [
    "tf.enable_eager_execution()"
   ]
  },
  {
   "cell_type": "code",
   "execution_count": 5,
   "metadata": {},
   "outputs": [],
   "source": [
    "import numpy as np\n",
    "import matplotlib.pyplot as plt\n",
    "from sklearn.metrics import accuracy_score\n",
    "from scipy.special import logit"
   ]
  },
  {
   "cell_type": "code",
   "execution_count": 6,
   "metadata": {},
   "outputs": [],
   "source": [
    "np.random.seed(456)\n",
    "tf.set_random_seed(456)"
   ]
  },
  {
   "cell_type": "markdown",
   "metadata": {},
   "source": [
    "- Generate synthetic data"
   ]
  },
  {
   "cell_type": "code",
   "execution_count": 7,
   "metadata": {},
   "outputs": [],
   "source": [
    "N = 100"
   ]
  },
  {
   "cell_type": "code",
   "execution_count": 8,
   "metadata": {},
   "outputs": [],
   "source": [
    "# Zeros form a Gaussian centered at (-1, -1)\n",
    "x_zeros = np.random.multivariate_normal(\n",
    "    mean=np.array((-1, -1)), cov=.1*np.eye(2), size=(N//2,)).astype(np.float32)\n",
    "y_zeros = np.zeros((N//2,), dtype=np.float32)\n",
    "\n",
    "# Ones form a Gaussian centered at (1, 1)\n",
    "x_ones = np.random.multivariate_normal(\n",
    "    mean=np.array((1, 1)), cov=.1*np.eye(2), size=(N//2,)).astype(np.float32)\n",
    "y_ones = np.ones((N//2,), dtype=np.float32)\n",
    "\n",
    "x_np = np.vstack([x_zeros, x_ones])\n",
    "y_np = np.concatenate([y_zeros, y_ones])"
   ]
  },
  {
   "cell_type": "code",
   "execution_count": 9,
   "metadata": {},
   "outputs": [
    {
     "data": {
      "image/png": "[encoded data removed]",
      "text/plain": [
       "<Figure size 432x288 with 1 Axes>"
      ]
     },
     "metadata": {
      "needs_background": "light"
     },
     "output_type": "display_data"
    }
   ],
   "source": [
    "# Save image of the data distribution\n",
    "plt.xlabel(r\"$x_1$\")\n",
    "plt.ylabel(r\"$x_2$\")\n",
    "plt.title(\"Toy Logistic Regression Data\")\n",
    "\n",
    "# Plot Zeros\n",
    "plt.scatter(x_zeros[:, 0], x_zeros[:, 1], color=\"blue\")\n",
    "plt.scatter(x_ones[:, 0], x_ones[:, 1], color=\"red\")\n",
    "plt.savefig(\"logistic_data.png\")"
   ]
  },
  {
   "cell_type": "code",
   "execution_count": 10,
   "metadata": {},
   "outputs": [],
   "source": [
    "x = tf.convert_to_tensor(x_np)\n",
    "y = tf.convert_to_tensor(y_np)"
   ]
  },
  {
   "cell_type": "code",
   "execution_count": 11,
   "metadata": {},
   "outputs": [],
   "source": [
    "W = tf.Variable(tf.random_normal((2, 1)))\n",
    "b = tf.Variable(tf.random_normal((1,)))"
   ]
  },
  {
   "cell_type": "code",
   "execution_count": 12,
   "metadata": {},
   "outputs": [],
   "source": [
    "# Optimizer\n",
    "train_op = tf.train.AdamOptimizer(.01)"
   ]
  },
  {
   "cell_type": "code",
   "execution_count": 13,
   "metadata": {},
   "outputs": [
    {
     "name": "stderr",
     "output_type": "stream",
     "text": [
      "WARNING: Logging before flag parsing goes to stderr.\n",
      "W1023 18:31:51.716418  1888 lazy_loader.py:50] \n",
      "The TensorFlow contrib module will not be included in TensorFlow 2.0.\n",
      "For more information, please see:\n",
      "  * https://github.com/tensorflow/community/blob/master/rfcs/20180907-contrib-sunset.md\n",
      "  * https://github.com/tensorflow/addons\n",
      "  * https://github.com/tensorflow/io (for I/O related ops)\n",
      "If you depend on functionality not listed there, please file an issue.\n",
      "\n"
     ]
    }
   ],
   "source": [
    "summary_writer = tf.contrib.summary.create_file_writer('/tmp/logistic-train')"
   ]
  },
  {
   "cell_type": "code",
   "execution_count": 14,
   "metadata": {},
   "outputs": [
    {
     "name": "stderr",
     "output_type": "stream",
     "text": [
      "W1023 18:31:54.073056  1888 deprecation.py:323] From D:\\Program\\miniconda3\\envs\\tf\\lib\\site-packages\\tensorflow_core\\python\\ops\\nn_impl.py:183: where (from tensorflow.python.ops.array_ops) is deprecated and will be removed in a future version.\n",
      "Instructions for updating:\n",
      "Use tf.where in 2.0, which has the same broadcast rule as np.where\n"
     ]
    },
    {
     "name": "stdout",
     "output_type": "stream",
     "text": [
      "step(0): loss = 69.433105\n",
      "step(100): loss = 16.942169\n",
      "step(200): loss = 7.898455\n",
      "step(300): loss = 4.878639\n",
      "step(400): loss = 3.410726\n",
      "step(500): loss = 2.557684\n",
      "step(600): loss = 2.007708\n",
      "step(700): loss = 1.627855\n",
      "step(800): loss = 1.352197\n",
      "step(900): loss = 1.144509\n"
     ]
    }
   ],
   "source": [
    "n_steps = 1000\n",
    "\n",
    "# Train model\n",
    "with summary_writer.as_default(), tf.contrib.summary.always_record_summaries():\n",
    "    for i in range(n_steps):\n",
    "        with tf.GradientTape() as tape:\n",
    "            y_logit = tf.squeeze(tf.matmul(x, W) + b)\n",
    "            y_one_prob = tf.sigmoid(y_logit)\n",
    "            # Rounding P(y=1) will give the correct prediction.\n",
    "            y_pred = tf.round(y_one_prob)\n",
    "\n",
    "            # Compute the cross-entropy term for each datapoint\n",
    "            entropy = tf.nn.sigmoid_cross_entropy_with_logits(logits=y_logit, labels=y)\n",
    "            # Sum all contributions\n",
    "            l = tf.reduce_sum(entropy)\n",
    "\n",
    "            # Log\n",
    "            tf.contrib.summary.scalar(\"loss\", l, step=i)\n",
    "\n",
    "            grads = tape.gradient(l, (W, b) )\n",
    "            train_op.apply_gradients(zip(grads, (W, b)))\n",
    "\n",
    "            if i % 100 == 0:\n",
    "                print('step(%d): loss = %f' % (i, l) )"
   ]
  },
  {
   "cell_type": "code",
   "execution_count": 15,
   "metadata": {},
   "outputs": [],
   "source": [
    "summary_writer.flush()\n",
    "summary_writer.close()"
   ]
  },
  {
   "cell_type": "code",
   "execution_count": 16,
   "metadata": {},
   "outputs": [],
   "source": [
    "W_final, b_final = W.numpy(), b.numpy()"
   ]
  },
  {
   "cell_type": "code",
   "execution_count": 17,
   "metadata": {},
   "outputs": [],
   "source": [
    "# Make Predictions\n",
    "y_logit = tf.squeeze(tf.matmul(x, W_final) + b_final)\n",
    "y_one_prob = tf.sigmoid(y_logit)\n",
    "y_pred_np = tf.round(y_one_prob)"
   ]
  },
  {
   "cell_type": "code",
   "execution_count": 18,
   "metadata": {},
   "outputs": [
    {
     "name": "stdout",
     "output_type": "stream",
     "text": [
      "Classification Accuracy: 1.000000\n"
     ]
    }
   ],
   "source": [
    "score = accuracy_score(y_np, y_pred_np)\n",
    "print(\"Classification Accuracy: %f\" % score)"
   ]
  },
  {
   "cell_type": "code",
   "execution_count": 19,
   "metadata": {},
   "outputs": [
    {
     "data": {
      "image/png": "[encoded data removed]",
      "text/plain": [
       "<Figure size 432x288 with 1 Axes>"
      ]
     },
     "metadata": {
      "needs_background": "light"
     },
     "output_type": "display_data"
    }
   ],
   "source": [
    "plt.clf()\n",
    "# Save image of the data distribution\n",
    "plt.xlabel(r\"$x_1$\")\n",
    "plt.ylabel(r\"$x_2$\")\n",
    "plt.title(\"Learned Model (Classification Accuracy: \" + str(\"%.3f\" % score) + \")\")\n",
    "plt.xlim(-2, 2)\n",
    "plt.ylim(-2, 2)\n",
    "\n",
    "# Plot Zeros\n",
    "plt.scatter(x_zeros[:, 0], x_zeros[:, 1], color=\"blue\")\n",
    "plt.scatter(x_ones[:, 0], x_ones[:, 1], color=\"red\")\n",
    "\n",
    "x_left = -2\n",
    "y_left = (1./W_final[1]) * (-b_final + logit(.5) - W_final[0]*x_left)\n",
    "\n",
    "x_right = 2\n",
    "y_right = (1./W_final[1]) * (-b_final + logit(.5) - W_final[0]*x_right)\n",
    "plt.plot([x_left, x_right], [y_left, y_right], color='k')\n",
    "\n",
    "plt.savefig(\"logistic_pred.png\")"
   ]
  },
  {
   "cell_type": "code",
   "execution_count": null,
   "metadata": {},
   "outputs": [],
   "source": []
  }
 ],
 "metadata": {
  "kernelspec": {
   "display_name": "Python 3",
   "language": "python",
   "name": "python3"
  },
  "language_info": {
   "codemirror_mode": {
    "name": "ipython",
    "version": 3
   },
   "file_extension": ".py",
   "mimetype": "text/x-python",
   "name": "python",
   "nbconvert_exporter": "python",
   "pygments_lexer": "ipython3",
   "version": "3.7.4"
  }
 },
 "nbformat": 4,
 "nbformat_minor": 4
}
