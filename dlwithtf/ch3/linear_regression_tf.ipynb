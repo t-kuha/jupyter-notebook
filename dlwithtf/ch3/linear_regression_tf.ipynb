{
 "cells": [
  {
   "cell_type": "markdown",
   "metadata": {},
   "source": [
    "# Linear Regression in TensorFlow"
   ]
  },
  {
   "cell_type": "code",
   "execution_count": 22,
   "metadata": {},
   "outputs": [],
   "source": [
    "# Use CPU\n",
    "import os\n",
    "os.environ['CUDA_VISIBLE_DEVICES'] = '-1' "
   ]
  },
  {
   "cell_type": "code",
   "execution_count": 23,
   "metadata": {},
   "outputs": [],
   "source": [
    "import tensorflow as tf"
   ]
  },
  {
   "cell_type": "code",
   "execution_count": 24,
   "metadata": {},
   "outputs": [
    {
     "name": "stdout",
     "output_type": "stream",
     "text": [
      "TensorFlow version: 1.15.0\n"
     ]
    }
   ],
   "source": [
    "print('TensorFlow version: %s' % tf.__version__)"
   ]
  },
  {
   "cell_type": "code",
   "execution_count": 25,
   "metadata": {},
   "outputs": [],
   "source": [
    "tf.enable_eager_execution()"
   ]
  },
  {
   "cell_type": "code",
   "execution_count": 26,
   "metadata": {},
   "outputs": [],
   "source": [
    "import numpy as np\n",
    "import matplotlib.pyplot as plt\n",
    "from scipy.stats import pearsonr\n",
    "from sklearn.metrics import mean_squared_error"
   ]
  },
  {
   "cell_type": "code",
   "execution_count": 27,
   "metadata": {},
   "outputs": [],
   "source": [
    "%matplotlib inline"
   ]
  },
  {
   "cell_type": "code",
   "execution_count": 28,
   "metadata": {},
   "outputs": [],
   "source": [
    "np.random.seed(456)"
   ]
  },
  {
   "cell_type": "code",
   "execution_count": 29,
   "metadata": {},
   "outputs": [],
   "source": [
    "tf.set_random_seed(456)"
   ]
  },
  {
   "cell_type": "code",
   "execution_count": 30,
   "metadata": {},
   "outputs": [],
   "source": [
    "def pearson_r2_score(y, y_pred):\n",
    "    \"\"\"Computes Pearson R^2 (square of Pearson correlation).\"\"\"\n",
    "    return pearsonr(y, y_pred)[0]**2"
   ]
  },
  {
   "cell_type": "code",
   "execution_count": 31,
   "metadata": {},
   "outputs": [],
   "source": [
    "def rms_score(y_true, y_pred):\n",
    "    \"\"\"Computes RMS error.\"\"\"\n",
    "    return np.sqrt(mean_squared_error(y_true, y_pred))"
   ]
  },
  {
   "cell_type": "code",
   "execution_count": 32,
   "metadata": {},
   "outputs": [],
   "source": [
    "# Generate synthetic data\n",
    "N = 100\n",
    "w_true = 5\n",
    "b_true = 2\n",
    "noise_scale = .1"
   ]
  },
  {
   "cell_type": "code",
   "execution_count": 33,
   "metadata": {},
   "outputs": [],
   "source": [
    "x_np = tf.random.uniform([N, 1])\n",
    "noise = tf.random.normal([N, 1], stddev=noise_scale)\n",
    "y_np = w_true * x_np + b_true + noise"
   ]
  },
  {
   "cell_type": "code",
   "execution_count": 34,
   "metadata": {},
   "outputs": [
    {
     "data": {
      "image/png": "[encoded data removed]",
      "text/plain": [
       "<Figure size 432x288 with 1 Axes>"
      ]
     },
     "metadata": {
      "needs_background": "light"
     },
     "output_type": "display_data"
    }
   ],
   "source": [
    "# Save image of the data distribution\n",
    "plt.scatter(x_np.numpy(), y_np.numpy())\n",
    "plt.xlabel(\"x\")\n",
    "plt.ylabel(\"y\")\n",
    "plt.xlim(0, 1)\n",
    "plt.title(\"Toy Linear Regression Data, \"\n",
    "          r\"$y = 5x + 2 + N(0, 1)$\")\n",
    "plt.savefig(\"lr_data.png\")"
   ]
  },
  {
   "cell_type": "code",
   "execution_count": 35,
   "metadata": {},
   "outputs": [
    {
     "name": "stdout",
     "output_type": "stream",
     "text": [
      "W = -0.901485, b = 0.854242\n"
     ]
    }
   ],
   "source": [
    "W = tf.Variable(tf.random_normal([1, 1]))\n",
    "b = tf.Variable(tf.random_normal([1,]))\n",
    "print('W = %f, b = %f' % (W.numpy(), b.numpy()) )"
   ]
  },
  {
   "cell_type": "code",
   "execution_count": 36,
   "metadata": {},
   "outputs": [],
   "source": [
    "optimizer = tf.train.AdamOptimizer()"
   ]
  },
  {
   "cell_type": "code",
   "execution_count": 37,
   "metadata": {},
   "outputs": [
    {
     "name": "stdout",
     "output_type": "stream",
     "text": [
      "step(0): loss = 1780.747681\n",
      "step(500): loss = 1245.315063\n",
      "step(1000): loss = 845.820801\n",
      "step(1500): loss = 556.800476\n",
      "step(2000): loss = 356.603302\n",
      "step(2500): loss = 226.067596\n",
      "step(3000): loss = 147.558640\n",
      "step(3500): loss = 104.666351\n",
      "step(4000): loss = 82.827446\n",
      "step(4500): loss = 70.759789\n",
      "step(5000): loss = 61.661999\n",
      "step(5500): loss = 52.795929\n",
      "step(6000): loss = 43.710075\n",
      "step(6500): loss = 34.728096\n",
      "step(7000): loss = 26.320217\n",
      "step(7500): loss = 18.913969\n",
      "step(8000): loss = 12.811761\n",
      "step(8500): loss = 8.149307\n",
      "step(9000): loss = 4.891195\n",
      "step(9500): loss = 2.854350\n",
      "step(10000): loss = 1.752921\n",
      "step(10500): loss = 1.262359\n",
      "step(11000): loss = 1.094082\n",
      "step(11500): loss = 1.053311\n"
     ]
    }
   ],
   "source": [
    "n_steps = 12000\n",
    "\n",
    "for i in range(n_steps):\n",
    "    with tf.GradientTape() as tape:\n",
    "        y_pred = tf.matmul(x_np, W) + b\n",
    "        l = tf.reduce_sum((y_np - y_pred)**2)\n",
    "        \n",
    "        grads = tape.gradient(l, (W, b) )\n",
    "        optimizer.apply_gradients(zip(grads, (W, b)))\n",
    "        \n",
    "        if i % 500 == 0:\n",
    "            print('step(%d): loss = %f' % (i, l) )"
   ]
  },
  {
   "cell_type": "code",
   "execution_count": 38,
   "metadata": {},
   "outputs": [
    {
     "name": "stdout",
     "output_type": "stream",
     "text": [
      "W = 5.042699, b = 1.988452\n"
     ]
    }
   ],
   "source": [
    "print('W = %f, b = %f' % (W.numpy(), b.numpy()) )"
   ]
  },
  {
   "cell_type": "code",
   "execution_count": 39,
   "metadata": {},
   "outputs": [],
   "source": [
    "w_final, b_final = W.numpy(), b.numpy()"
   ]
  },
  {
   "cell_type": "code",
   "execution_count": 40,
   "metadata": {},
   "outputs": [],
   "source": [
    "y_pred_np = w_final * x_np + b_final"
   ]
  },
  {
   "cell_type": "code",
   "execution_count": 41,
   "metadata": {},
   "outputs": [
    {
     "name": "stdout",
     "output_type": "stream",
     "text": [
      "Pearson R^2: 0.995081\n"
     ]
    }
   ],
   "source": [
    "r2 = pearson_r2_score( np.reshape(y_np.numpy(), -1), np.reshape(y_pred_np, -1) )\n",
    "print(\"Pearson R^2: %f\" % r2)"
   ]
  },
  {
   "cell_type": "code",
   "execution_count": 42,
   "metadata": {},
   "outputs": [
    {
     "name": "stdout",
     "output_type": "stream",
     "text": [
      "RMS: 0.102325\n"
     ]
    }
   ],
   "source": [
    "rms = rms_score(y_np, y_pred_np)\n",
    "print(\"RMS: %f\" % rms)"
   ]
  },
  {
   "cell_type": "code",
   "execution_count": 43,
   "metadata": {},
   "outputs": [
    {
     "data": {
      "image/png": "[encoded data removed]",
      "text/plain": [
       "<Figure size 432x288 with 1 Axes>"
      ]
     },
     "metadata": {
      "needs_background": "light"
     },
     "output_type": "display_data"
    }
   ],
   "source": [
    "# Clear figure\n",
    "plt.clf()\n",
    "plt.xlabel(\"Y-true\")\n",
    "plt.ylabel(\"Y-pred\")\n",
    "plt.title(\"Predicted versus True values \"\n",
    "          r\"(Pearson $R^2$: $\" + str(\"%.4f\" % r2) + \"$)\")\n",
    "plt.scatter(y_np, y_pred_np)\n",
    "plt.savefig(\"lr_pred.png\")\n",
    "\n",
    "# Now draw with learned regression line\n",
    "plt.clf()\n",
    "plt.xlabel(\"x\")\n",
    "plt.ylabel(\"y\")\n",
    "plt.title(\"True Model versus Learned Model \"\n",
    "          r\"(RMS: $\" + str( \"%.4f\" % rms) + \"$)\")\n",
    "plt.xlim(0, 1)\n",
    "plt.scatter(x_np, y_np)\n",
    "x_left = 0\n",
    "y_left = w_final[0]*x_left + b_final\n",
    "x_right = 1\n",
    "y_right = w_final[0]*x_right + b_final\n",
    "plt.plot([x_left, x_right], [y_left, y_right], color='k')\n",
    "plt.savefig(\"lr_learned.png\")"
   ]
  },
  {
   "cell_type": "code",
   "execution_count": null,
   "metadata": {},
   "outputs": [],
   "source": []
  }
 ],
 "metadata": {
  "kernelspec": {
   "display_name": "Python 3",
   "language": "python",
   "name": "python3"
  },
  "language_info": {
   "codemirror_mode": {
    "name": "ipython",
    "version": 3
   },
   "file_extension": ".py",
   "mimetype": "text/x-python",
   "name": "python",
   "nbconvert_exporter": "python",
   "pygments_lexer": "ipython3",
   "version": "3.7.4"
  }
 },
 "nbformat": 4,
 "nbformat_minor": 4
}
