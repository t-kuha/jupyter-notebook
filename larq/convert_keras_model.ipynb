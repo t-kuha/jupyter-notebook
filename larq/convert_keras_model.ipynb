{
 "cells": [
  {
   "cell_type": "markdown",
   "metadata": {},
   "source": [
    "# Convert Keras model for deployment\n",
    "\n",
    "- https://docs.larq.dev/compute-engine/end_to_end/#converting-the-model"
   ]
  },
  {
   "cell_type": "markdown",
   "metadata": {},
   "source": [
    "***\n",
    "\n",
    "## Imports"
   ]
  },
  {
   "cell_type": "code",
   "execution_count": 1,
   "metadata": {},
   "outputs": [],
   "source": [
    "import os"
   ]
  },
  {
   "cell_type": "code",
   "execution_count": 2,
   "metadata": {},
   "outputs": [],
   "source": [
    "import tensorflow as tf\n",
    "import larq as lq\n",
    "import larq_compute_engine as lce"
   ]
  },
  {
   "cell_type": "code",
   "execution_count": 3,
   "metadata": {},
   "outputs": [
    {
     "name": "stdout",
     "output_type": "stream",
     "text": [
      "TensorFlow Version: 2.4.0\n",
      "Larq Version:       0.10.3\n"
     ]
    }
   ],
   "source": [
    "print('TensorFlow Version: {}'.format(tf.__version__))\n",
    "print('Larq Version:       {}'.format(lq.__version__))"
   ]
  },
  {
   "cell_type": "markdown",
   "metadata": {},
   "source": [
    "## Load Keras model"
   ]
  },
  {
   "cell_type": "code",
   "execution_count": 4,
   "metadata": {},
   "outputs": [],
   "source": [
    "model_path = os.path.join(os.getcwd(), 'larq-cifar10-weight.h5')\n",
    "if not os.path.exists(model_path):\n",
    "    print('[ERROR] Input model weight {} does not exist...'.format(model_path))"
   ]
  },
  {
   "cell_type": "code",
   "execution_count": 5,
   "metadata": {},
   "outputs": [],
   "source": [
    "# Need to define model again\n",
    "kwargs = dict(input_quantizer=\"ste_sign\",\n",
    "              kernel_quantizer=\"ste_sign\",\n",
    "              kernel_constraint=\"weight_clip\",\n",
    "              use_bias=False)\n",
    "\n",
    "model = tf.keras.models.Sequential([\n",
    "    # In the first layer we only quantize the weights and not the input\n",
    "    lq.layers.QuantConv2D(128, 3,\n",
    "                          kernel_quantizer=\"ste_sign\",\n",
    "                          kernel_constraint=\"weight_clip\",\n",
    "                          use_bias=False,\n",
    "                          input_shape=(32, 32, 3)),\n",
    "    tf.keras.layers.BatchNormalization(momentum=0.999, scale=False),\n",
    "\n",
    "    lq.layers.QuantConv2D(128, 3, padding=\"same\", **kwargs),\n",
    "    tf.keras.layers.MaxPool2D(pool_size=(2, 2), strides=(2, 2)),\n",
    "    tf.keras.layers.BatchNormalization(momentum=0.999, scale=False),\n",
    "\n",
    "    lq.layers.QuantConv2D(256, 3, padding=\"same\", **kwargs),\n",
    "    tf.keras.layers.BatchNormalization(momentum=0.999, scale=False),\n",
    "\n",
    "    lq.layers.QuantConv2D(256, 3, padding=\"same\", **kwargs),\n",
    "    tf.keras.layers.MaxPool2D(pool_size=(2, 2), strides=(2, 2)),\n",
    "    tf.keras.layers.BatchNormalization(momentum=0.999, scale=False),\n",
    "\n",
    "    lq.layers.QuantConv2D(512, 3, padding=\"same\", **kwargs),\n",
    "    tf.keras.layers.BatchNormalization(momentum=0.999, scale=False),\n",
    "\n",
    "    lq.layers.QuantConv2D(512, 3, padding=\"same\", **kwargs),\n",
    "    tf.keras.layers.MaxPool2D(pool_size=(2, 2), strides=(2, 2)),\n",
    "    tf.keras.layers.BatchNormalization(momentum=0.999, scale=False),\n",
    "    tf.keras.layers.Flatten(),\n",
    "\n",
    "    lq.layers.QuantDense(1024, **kwargs),\n",
    "    tf.keras.layers.BatchNormalization(momentum=0.999, scale=False),\n",
    "\n",
    "    lq.layers.QuantDense(1024, **kwargs),\n",
    "    tf.keras.layers.BatchNormalization(momentum=0.999, scale=False),\n",
    "\n",
    "    lq.layers.QuantDense(10, **kwargs),\n",
    "    tf.keras.layers.BatchNormalization(momentum=0.999, scale=False),\n",
    "    tf.keras.layers.Activation(\"softmax\")\n",
    "])"
   ]
  },
  {
   "cell_type": "code",
   "execution_count": 6,
   "metadata": {},
   "outputs": [],
   "source": [
    "# Cannot use load_model()\n",
    "model.load_weights(model_path)"
   ]
  },
  {
   "cell_type": "markdown",
   "metadata": {},
   "source": [
    "## Convert"
   ]
  },
  {
   "cell_type": "code",
   "execution_count": 7,
   "metadata": {},
   "outputs": [],
   "source": [
    "with open(\"larq-cifar10.tflite\", \"wb\") as f:\n",
    "    f.write(lce.convert_keras_model(model))"
   ]
  },
  {
   "cell_type": "code",
   "execution_count": null,
   "metadata": {},
   "outputs": [],
   "source": []
  }
 ],
 "metadata": {
  "kernelspec": {
   "display_name": "Python 3",
   "language": "python",
   "name": "python3"
  },
  "language_info": {
   "codemirror_mode": {
    "name": "ipython",
    "version": 3
   },
   "file_extension": ".py",
   "mimetype": "text/x-python",
   "name": "python",
   "nbconvert_exporter": "python",
   "pygments_lexer": "ipython3",
   "version": "3.8.3"
  }
 },
 "nbformat": 4,
 "nbformat_minor": 4
}
