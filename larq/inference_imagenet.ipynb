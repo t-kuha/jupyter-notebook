{
 "cells": [
  {
   "cell_type": "markdown",
   "metadata": {},
   "source": [
    "# Inference - ImageNet"
   ]
  },
  {
   "cell_type": "markdown",
   "metadata": {},
   "source": [
    "***\n",
    "\n",
    "## Imports"
   ]
  },
  {
   "cell_type": "code",
   "execution_count": 1,
   "metadata": {},
   "outputs": [],
   "source": [
    "import os\n",
    "import glob\n",
    "import scipy.io\n",
    "import numpy as np\n",
    "import tensorflow as tf\n",
    "import larq_zoo as lqz"
   ]
  },
  {
   "cell_type": "code",
   "execution_count": 2,
   "metadata": {},
   "outputs": [
    {
     "name": "stdout",
     "output_type": "stream",
     "text": [
      "TensorFlow Version: 2.4.0\n",
      "Larq Zoo Version:   2.0.5\n"
     ]
    }
   ],
   "source": [
    "print('TensorFlow Version: {}'.format(tf.__version__))\n",
    "print('Larq Zoo Version:   {}'.format(lqz.__version__))"
   ]
  },
  {
   "cell_type": "markdown",
   "metadata": {},
   "source": [
    "## Setting"
   ]
  },
  {
   "cell_type": "code",
   "execution_count": 4,
   "metadata": {},
   "outputs": [],
   "source": [
    "# Top directory of validation dataset\n",
    "image_dir = '/Volumes/NVMe SSD/datasets/imagenet/val'\n",
    "if not os.path.exists(image_dir):\n",
    "    print('[ERROR] Input image directory {} does not exist...'.format(image_dir))"
   ]
  },
  {
   "cell_type": "markdown",
   "metadata": {},
   "source": [
    "## Load pretrained model"
   ]
  },
  {
   "cell_type": "code",
   "execution_count": 5,
   "metadata": {},
   "outputs": [],
   "source": [
    "# Load pretrained model\n",
    "model = lqz.sota.QuickNet(weights=\"imagenet\")"
   ]
  },
  {
   "cell_type": "markdown",
   "metadata": {},
   "source": [
    "## Preparation"
   ]
  },
  {
   "cell_type": "code",
   "execution_count": 6,
   "metadata": {},
   "outputs": [],
   "source": [
    "# Ground truth\n",
    "gt = list()\n",
    "with open('ILSVRC2012_validation_ground_truth.txt', 'r') as f:\n",
    "    for data in f.readlines():\n",
    "        gt.append(int(data.replace('\\n', '')))"
   ]
  },
  {
   "cell_type": "code",
   "execution_count": 7,
   "metadata": {},
   "outputs": [],
   "source": [
    "meta = scipy.io.loadmat('meta.mat')\n",
    "synsets = meta['synsets']\n",
    "\n",
    "# WNID - ILSVRC2012_ID\n",
    "keys = list()\n",
    "vals = list()\n",
    "for s in synsets:\n",
    "    vals.append(s[0][1][0])\n",
    "    keys.append(s[0][0][0][0])\n",
    "    \n",
    "d = dict(zip(keys, vals))"
   ]
  },
  {
   "cell_type": "markdown",
   "metadata": {},
   "source": [
    "## Run inference"
   ]
  },
  {
   "cell_type": "code",
   "execution_count": 8,
   "metadata": {},
   "outputs": [],
   "source": [
    "img_list = sorted(glob.glob(os.path.join(image_dir, '*.JPEG')))"
   ]
  },
  {
   "cell_type": "code",
   "execution_count": 10,
   "metadata": {},
   "outputs": [],
   "source": [
    "acc_1 = list()\n",
    "acc_5 = list()\n",
    "\n",
    "for i, file in enumerate(img_list):\n",
    "    # Load image\n",
    "    img = tf.keras.preprocessing.image.load_img(file)\n",
    "    img = tf.keras.preprocessing.image.img_to_array(img)\n",
    "    img = lqz.preprocess_input(img)\n",
    "    \n",
    "    # Run inference\n",
    "    preds = model.predict(np.expand_dims(img, axis=0))\n",
    "    names = lqz.decode_predictions(preds, top=5)\n",
    "    \n",
    "    # Accuracy\n",
    "    acc_1.append(d[gt[i]] == names[0][0][0])\n",
    "    acc_5.append(d[gt[i]] in [item[0] for item in names[0]])"
   ]
  },
  {
   "cell_type": "markdown",
   "metadata": {},
   "source": [
    "## Show result"
   ]
  },
  {
   "cell_type": "code",
   "execution_count": 11,
   "metadata": {},
   "outputs": [
    {
     "name": "stdout",
     "output_type": "stream",
     "text": [
      "----- Accuracy -----\n",
      "Top 1: 0.63298\n",
      "Top 5: 0.84422\n"
     ]
    }
   ],
   "source": [
    "print('----- Accuracy -----')\n",
    "print('Top 1: {}'.format(np.sum(acc_1)/len(acc_1)))\n",
    "print('Top 5: {}'.format(np.sum(acc_5)/len(acc_5)))"
   ]
  }
 ],
 "metadata": {
  "kernelspec": {
   "display_name": "Python 3",
   "language": "python",
   "name": "python3"
  },
  "language_info": {
   "codemirror_mode": {
    "name": "ipython",
    "version": 3
   },
   "file_extension": ".py",
   "mimetype": "text/x-python",
   "name": "python",
   "nbconvert_exporter": "python",
   "pygments_lexer": "ipython3",
   "version": "3.8.3"
  }
 },
 "nbformat": 4,
 "nbformat_minor": 4
}
