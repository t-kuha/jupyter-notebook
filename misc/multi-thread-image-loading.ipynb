{
 "cells": [
  {
   "cell_type": "markdown",
   "metadata": {},
   "source": [
    "# Multithreading in Python\n",
    "\n",
    "- https://www.shanelynn.ie/using-python-threading-for-multiple-results-queue/"
   ]
  },
  {
   "cell_type": "code",
   "execution_count": 4,
   "metadata": {},
   "outputs": [],
   "source": [
    "import glob\n",
    "import os\n",
    "import cv2\n",
    "import datetime"
   ]
  },
  {
   "cell_type": "code",
   "execution_count": 1,
   "metadata": {},
   "outputs": [],
   "source": [
    "from threading import Thread"
   ]
  },
  {
   "cell_type": "code",
   "execution_count": 2,
   "metadata": {},
   "outputs": [],
   "source": [
    "# Num. of parallelism\n",
    "NUM_PARALLEL = 10"
   ]
  },
  {
   "cell_type": "code",
   "execution_count": 3,
   "metadata": {},
   "outputs": [],
   "source": [
    "IMG_SRC = 'K:\\\\imagenet\\\\_test'"
   ]
  },
  {
   "cell_type": "code",
   "execution_count": 6,
   "metadata": {},
   "outputs": [],
   "source": [
    "img_list = glob.glob(os.path.join(IMG_SRC, '*.png'))"
   ]
  },
  {
   "cell_type": "code",
   "execution_count": 7,
   "metadata": {},
   "outputs": [],
   "source": [
    "img_list = img_list[0:10000]"
   ]
  },
  {
   "cell_type": "markdown",
   "metadata": {},
   "source": [
    "***\n",
    "\n",
    "## Single threading"
   ]
  },
  {
   "cell_type": "code",
   "execution_count": 22,
   "metadata": {},
   "outputs": [],
   "source": [
    "t0 = datetime.datetime.now()\n",
    "\n",
    "for i in img_list:\n",
    "    img = cv2.imread(i)\n",
    "    \n",
    "t1 = datetime.datetime.now()"
   ]
  },
  {
   "cell_type": "code",
   "execution_count": 39,
   "metadata": {},
   "outputs": [
    {
     "name": "stdout",
     "output_type": "stream",
     "text": [
      "Took 62449.648 [msec]\n"
     ]
    }
   ],
   "source": [
    "t = ((t1 - t0).seconds*1000) + ((t1 - t0).microseconds/1000)\n",
    "print('Took %s [msec]' % t )"
   ]
  },
  {
   "cell_type": "markdown",
   "metadata": {},
   "source": [
    "***\n",
    "\n",
    "## Multi threading"
   ]
  },
  {
   "cell_type": "code",
   "execution_count": 50,
   "metadata": {},
   "outputs": [],
   "source": [
    "def worker(img_path):\n",
    "    img = cv2.imread(img_path)\n",
    "#     result[thread_num] = thread_num\n",
    "#     print('thread = %d' % thread_num)"
   ]
  },
  {
   "cell_type": "code",
   "execution_count": 48,
   "metadata": {},
   "outputs": [
    {
     "name": "stdout",
     "output_type": "stream",
     "text": [
      "Num. of Iterations: 1000\n"
     ]
    }
   ],
   "source": [
    "num_iter = (int) (len(img_list)/NUM_PARALLEL)\n",
    "print('Num. of Iterations: %d' % num_iter)"
   ]
  },
  {
   "cell_type": "code",
   "execution_count": 51,
   "metadata": {},
   "outputs": [],
   "source": [
    "t0 = datetime.datetime.now()\n",
    "\n",
    "for n in range(num_iter):\n",
    "    # create a list of threads\n",
    "    threads = []\n",
    "\n",
    "    for img_path in img_list[n*NUM_PARALLEL:(n+1)*NUM_PARALLEL]:\n",
    "        process = Thread(target=worker, args=[img_path])\n",
    "        process.start()\n",
    "        threads.append(process)\n",
    "            \n",
    "    for process in threads:\n",
    "        process.join()\n",
    "        \n",
    "t1 = datetime.datetime.now()"
   ]
  },
  {
   "cell_type": "code",
   "execution_count": 52,
   "metadata": {},
   "outputs": [
    {
     "name": "stdout",
     "output_type": "stream",
     "text": [
      "Took 9440.574 [msec]\n"
     ]
    }
   ],
   "source": [
    "t = ((t1 - t0).seconds*1000) + ((t1 - t0).microseconds/1000)\n",
    "print('Took %s [msec]' % t )"
   ]
  },
  {
   "cell_type": "code",
   "execution_count": null,
   "metadata": {},
   "outputs": [],
   "source": []
  }
 ],
 "metadata": {
  "kernelspec": {
   "display_name": "Python 3",
   "language": "python",
   "name": "python3"
  },
  "language_info": {
   "codemirror_mode": {
    "name": "ipython",
    "version": 3
   },
   "file_extension": ".py",
   "mimetype": "text/x-python",
   "name": "python",
   "nbconvert_exporter": "python",
   "pygments_lexer": "ipython3",
   "version": "3.7.4"
  }
 },
 "nbformat": 4,
 "nbformat_minor": 4
}
