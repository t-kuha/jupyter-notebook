{
 "cells": [
  {
   "cell_type": "markdown",
   "metadata": {},
   "source": [
    "# CIFAR10 Wide ResNet 106 from TensorFlow Hub\n",
    "\n",
    "- https://tfhub.dev/deepmind/unsupervised-adversarial-training/cifar10/wrn_106/1"
   ]
  },
  {
   "cell_type": "code",
   "execution_count": 1,
   "metadata": {},
   "outputs": [],
   "source": [
    "import tensorflow as tf\n",
    "import tensorflow_hub as hub\n",
    "import numpy as np\n",
    "import collections"
   ]
  },
  {
   "cell_type": "markdown",
   "metadata": {},
   "source": [
    "## Functions"
   ]
  },
  {
   "cell_type": "code",
   "execution_count": 2,
   "metadata": {},
   "outputs": [],
   "source": [
    "Sample = collections.namedtuple('Sample', ['image', 'label'])\n",
    "def _build_dataset(raw_data, batch_size=32, shuffle=False):\n",
    "    images, labels = raw_data\n",
    "    labels = np.squeeze(labels)\n",
    "    samples = Sample(images.astype(np.float32) / 255., labels.astype(np.int64))\n",
    "    data = tf.data.Dataset.from_tensor_slices(samples)\n",
    "    if shuffle:\n",
    "        data = data.shuffle(1000)\n",
    "    return data.repeat().batch(batch_size).make_one_shot_iterator().get_next()"
   ]
  },
  {
   "cell_type": "code",
   "execution_count": 3,
   "metadata": {},
   "outputs": [],
   "source": [
    "def _cifar_meanstd_normalize(image):\n",
    "    # Channel-wise means and std devs calculated from the CIFAR-10 training set\n",
    "    cifar_means = [125.3, 123.0, 113.9]\n",
    "    cifar_devs = [63.0, 62.1, 66.7]\n",
    "    rescaled_means = [x / 255. for x in cifar_means]\n",
    "    rescaled_devs = [x / 255. for x in cifar_devs]\n",
    "    image = (image - rescaled_means) / rescaled_devs\n",
    "    return image"
   ]
  },
  {
   "cell_type": "markdown",
   "metadata": {},
   "source": [
    "## Settings"
   ]
  },
  {
   "cell_type": "code",
   "execution_count": 4,
   "metadata": {},
   "outputs": [],
   "source": [
    "batch_size = 100"
   ]
  },
  {
   "cell_type": "markdown",
   "metadata": {},
   "source": [
    "## Load dataset"
   ]
  },
  {
   "cell_type": "code",
   "execution_count": 5,
   "metadata": {},
   "outputs": [
    {
     "name": "stdout",
     "output_type": "stream",
     "text": [
      "WARNING:tensorflow:From <ipython-input-2-47f7429048a9>:9: DatasetV1.make_one_shot_iterator (from tensorflow.python.data.ops.dataset_ops) is deprecated and will be removed in a future version.\n",
      "Instructions for updating:\n",
      "Use `for ... in dataset:` to iterate over a dataset. If using `tf.estimator`, return the `Dataset` object directly from your input function. As a last resort, you can use `tf.compat.v1.data.make_one_shot_iterator(dataset)`.\n"
     ]
    }
   ],
   "source": [
    "_, data_test = tf.keras.datasets.cifar10.load_data()\n",
    "data = _build_dataset(data_test, batch_size=batch_size, shuffle=False)"
   ]
  },
  {
   "cell_type": "markdown",
   "metadata": {},
   "source": [
    "## Load UAT module"
   ]
  },
  {
   "cell_type": "code",
   "execution_count": 6,
   "metadata": {},
   "outputs": [],
   "source": [
    "UAT_HUB_URL = ('https://tfhub.dev/deepmind/unsupervised-adversarial-training/cifar10/wrn_106/1')\n",
    "def make_classifier():\n",
    "    model = hub.Module(UAT_HUB_URL, trainable=False)\n",
    "    def classifier(x):\n",
    "        x = _cifar_meanstd_normalize(x)\n",
    "        model_input = dict(x=x, decay_rate=0.1, prefix='default')\n",
    "        return model(model_input)\n",
    "    return classifier"
   ]
  },
  {
   "cell_type": "code",
   "execution_count": 7,
   "metadata": {},
   "outputs": [
    {
     "name": "stdout",
     "output_type": "stream",
     "text": [
      "INFO:tensorflow:Saver not created because there are no variables in the graph to restore\n"
     ]
    },
    {
     "name": "stderr",
     "output_type": "stream",
     "text": [
      "INFO:tensorflow:Saver not created because there are no variables in the graph to restore\n"
     ]
    }
   ],
   "source": [
    "# Note that a `classifier` is a function mapping [0,1]-scaled image Tensors to a logit Tensor. \n",
    "# In particular, it includes *both* the preprocessing function, and the neural network.\n",
    "classifier = make_classifier()\n",
    "logits = classifier(data.image)"
   ]
  },
  {
   "cell_type": "markdown",
   "metadata": {},
   "source": [
    "## Run inference"
   ]
  },
  {
   "cell_type": "code",
   "execution_count": 8,
   "metadata": {},
   "outputs": [],
   "source": [
    "iterations = int(len(data_test[0]) / batch_size)\n",
    "result = np.zeros(len(data_test[0]))"
   ]
  },
  {
   "cell_type": "code",
   "execution_count": 9,
   "metadata": {},
   "outputs": [],
   "source": [
    "with tf.compat.v1.Session() as sess:\n",
    "    sess.run([tf.compat.v1.global_variables_initializer(), tf.compat.v1.tables_initializer()])\n",
    "    for i in range(0, iterations):\n",
    "        d = sess.run(data)\n",
    "        out = sess.run(logits, feed_dict={data.image: d.image})\n",
    "        result[batch_size*i:batch_size*(i+1)] = np.argmax(out, axis=1)"
   ]
  },
  {
   "cell_type": "markdown",
   "metadata": {},
   "source": [
    "## Show result"
   ]
  },
  {
   "cell_type": "code",
   "execution_count": 10,
   "metadata": {},
   "outputs": [],
   "source": [
    "y = data_test[1]"
   ]
  },
  {
   "cell_type": "code",
   "execution_count": 11,
   "metadata": {},
   "outputs": [
    {
     "name": "stdout",
     "output_type": "stream",
     "text": [
      "Accuracy: 86.460000 [%] (8646 / 10000)\n"
     ]
    }
   ],
   "source": [
    "num_correct = np.sum(result.flatten() == y.flatten())\n",
    "print('Accuracy: %f [%%] (%d / %d)' % (num_correct/len(y)*100., num_correct, len(y)))"
   ]
  },
  {
   "cell_type": "code",
   "execution_count": null,
   "metadata": {},
   "outputs": [],
   "source": []
  }
 ],
 "metadata": {
  "kernelspec": {
   "display_name": "Python 3",
   "language": "python",
   "name": "python3"
  },
  "language_info": {
   "codemirror_mode": {
    "name": "ipython",
    "version": 3
   },
   "file_extension": ".py",
   "mimetype": "text/x-python",
   "name": "python",
   "nbconvert_exporter": "python",
   "pygments_lexer": "ipython3",
   "version": "3.7.6"
  }
 },
 "nbformat": 4,
 "nbformat_minor": 4
}
