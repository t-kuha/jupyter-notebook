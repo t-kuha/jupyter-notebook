{
 "cells": [
  {
   "cell_type": "markdown",
   "metadata": {},
   "source": [
    "# Imagenet inference via TFLite"
   ]
  },
  {
   "cell_type": "code",
   "execution_count": 1,
   "metadata": {},
   "outputs": [],
   "source": [
    "import numpy as np\n",
    "import os"
   ]
  },
  {
   "cell_type": "code",
   "execution_count": 2,
   "metadata": {},
   "outputs": [],
   "source": [
    "import urllib\n",
    "import zipfile"
   ]
  },
  {
   "cell_type": "code",
   "execution_count": 3,
   "metadata": {},
   "outputs": [],
   "source": [
    "import cv2"
   ]
  },
  {
   "cell_type": "code",
   "execution_count": 4,
   "metadata": {},
   "outputs": [],
   "source": [
    "import tensorflow as tf"
   ]
  },
  {
   "cell_type": "code",
   "execution_count": 5,
   "metadata": {},
   "outputs": [
    {
     "name": "stdout",
     "output_type": "stream",
     "text": [
      "TensorFlow Version: 1.15.0\n"
     ]
    }
   ],
   "source": [
    "print('TensorFlow Version: %s' % tf.__version__)"
   ]
  },
  {
   "cell_type": "markdown",
   "metadata": {},
   "source": [
    "- Download starter model"
   ]
  },
  {
   "cell_type": "code",
   "execution_count": 6,
   "metadata": {},
   "outputs": [],
   "source": [
    "model_zip = 'mobilenet_v1_1.0_224_quant_and_labels.zip'\n",
    "unzip_dir = '_starter_model'"
   ]
  },
  {
   "cell_type": "code",
   "execution_count": 7,
   "metadata": {},
   "outputs": [],
   "source": [
    "if not os.path.exists(model_zip):\n",
    "    urllib.request.urlretrieve(\n",
    "        'https://storage.googleapis.com/download.tensorflow.org/models/tflite/mobilenet_v1_1.0_224_quant_and_labels.zip', \n",
    "        'mobilenet_v1_1.0_224_quant_and_labels.zip')"
   ]
  },
  {
   "cell_type": "code",
   "execution_count": 8,
   "metadata": {},
   "outputs": [],
   "source": [
    "with zipfile.ZipFile(model_zip) as zf:\n",
    "    zf.extractall(unzip_dir)"
   ]
  },
  {
   "cell_type": "markdown",
   "metadata": {},
   "source": [
    "- Load labels"
   ]
  },
  {
   "cell_type": "code",
   "execution_count": 9,
   "metadata": {},
   "outputs": [],
   "source": [
    "labels = np.array(open(os.path.join(unzip_dir, 'labels_mobilenet_quant_v1_224.txt')).read().splitlines())"
   ]
  },
  {
   "cell_type": "markdown",
   "metadata": {},
   "source": [
    "- Load image"
   ]
  },
  {
   "cell_type": "code",
   "execution_count": 10,
   "metadata": {},
   "outputs": [],
   "source": [
    "img_size = 224"
   ]
  },
  {
   "cell_type": "code",
   "execution_count": 11,
   "metadata": {},
   "outputs": [],
   "source": [
    "img = cv2.imread('dog.png')"
   ]
  },
  {
   "cell_type": "code",
   "execution_count": 12,
   "metadata": {},
   "outputs": [],
   "source": [
    "# BGR-RGB conversion -> Resize -> Crop\n",
    "img2 = cv2.cvtColor(img, cv2.COLOR_BGR2RGB)\n",
    "\n",
    "sz = np.asarray(img2.shape)\n",
    "if sz[0] < sz[1]:\n",
    "    sz = sz*256/sz[0]\n",
    "else:\n",
    "    sz = sz*256/sz[1]\n",
    "sz = np.round(sz).astype(np.int32)\n",
    "img2 = cv2.resize(img2, (sz[1], sz[0]) )\n",
    "\n",
    "s0 = (int)((img2.shape[0]-img_size)/2)\n",
    "s1 = (int)((img2.shape[1]-img_size)/2)\n",
    "img2 = img2[s0:s0+img_size, s1:s1+img_size]"
   ]
  },
  {
   "cell_type": "code",
   "execution_count": 13,
   "metadata": {},
   "outputs": [],
   "source": [
    "# Normalization not necessary?\n",
    "img2.astype(np.uint8)\n",
    "img2 = np.expand_dims(img2, axis=0)"
   ]
  },
  {
   "cell_type": "markdown",
   "metadata": {},
   "source": [
    "- Load model"
   ]
  },
  {
   "cell_type": "code",
   "execution_count": 14,
   "metadata": {},
   "outputs": [],
   "source": [
    "tfl_path = os.path.join(unzip_dir, 'mobilenet_v1_1.0_224_quant.tflite')"
   ]
  },
  {
   "cell_type": "code",
   "execution_count": 15,
   "metadata": {},
   "outputs": [],
   "source": [
    "interp = tf.lite.Interpreter(model_path=tfl_path)"
   ]
  },
  {
   "cell_type": "code",
   "execution_count": 16,
   "metadata": {},
   "outputs": [
    {
     "name": "stdout",
     "output_type": "stream",
     "text": [
      "name = MobilenetV1/Logits/AvgPool_1a/AvgPool | shape = [   1    1    1 1024]\n",
      "name = MobilenetV1/Logits/Conv2d_1c_1x1/BiasAdd | shape = [   1    1    1 1001]\n",
      "name = MobilenetV1/Logits/Conv2d_1c_1x1/Conv2D_bias | shape = [1001]\n",
      "name = MobilenetV1/Logits/Conv2d_1c_1x1/weights_quant/FakeQuantWithMinMaxVars | shape = [1001    1    1 1024]\n",
      "name = MobilenetV1/Logits/SpatialSqueeze | shape = [   1 1001]\n",
      "name = MobilenetV1/Logits/SpatialSqueeze_shape | shape = [2]\n",
      "name = MobilenetV1/MobilenetV1/Conv2d_0/Conv2D_Fold_bias | shape = [32]\n",
      "name = MobilenetV1/MobilenetV1/Conv2d_0/Relu6 | shape = [  1 112 112  32]\n",
      "name = MobilenetV1/MobilenetV1/Conv2d_0/weights_quant/FakeQuantWithMinMaxVars | shape = [32  3  3  3]\n",
      "name = MobilenetV1/MobilenetV1/Conv2d_10_depthwise/Relu6 | shape = [  1  14  14 512]\n",
      "name = MobilenetV1/MobilenetV1/Conv2d_10_depthwise/depthwise_Fold_bias | shape = [512]\n",
      "name = MobilenetV1/MobilenetV1/Conv2d_10_depthwise/weights_quant/FakeQuantWithMinMaxVars | shape = [  1   3   3 512]\n",
      "name = MobilenetV1/MobilenetV1/Conv2d_10_pointwise/Conv2D_Fold_bias | shape = [512]\n",
      "name = MobilenetV1/MobilenetV1/Conv2d_10_pointwise/Relu6 | shape = [  1  14  14 512]\n",
      "name = MobilenetV1/MobilenetV1/Conv2d_10_pointwise/weights_quant/FakeQuantWithMinMaxVars | shape = [512   1   1 512]\n",
      "name = MobilenetV1/MobilenetV1/Conv2d_11_depthwise/Relu6 | shape = [  1  14  14 512]\n",
      "name = MobilenetV1/MobilenetV1/Conv2d_11_depthwise/depthwise_Fold_bias | shape = [512]\n",
      "name = MobilenetV1/MobilenetV1/Conv2d_11_depthwise/weights_quant/FakeQuantWithMinMaxVars | shape = [  1   3   3 512]\n",
      "name = MobilenetV1/MobilenetV1/Conv2d_11_pointwise/Conv2D_Fold_bias | shape = [512]\n",
      "name = MobilenetV1/MobilenetV1/Conv2d_11_pointwise/Relu6 | shape = [  1  14  14 512]\n",
      "name = MobilenetV1/MobilenetV1/Conv2d_11_pointwise/weights_quant/FakeQuantWithMinMaxVars | shape = [512   1   1 512]\n",
      "name = MobilenetV1/MobilenetV1/Conv2d_12_depthwise/Relu6 | shape = [  1   7   7 512]\n",
      "name = MobilenetV1/MobilenetV1/Conv2d_12_depthwise/depthwise_Fold_bias | shape = [512]\n",
      "name = MobilenetV1/MobilenetV1/Conv2d_12_depthwise/weights_quant/FakeQuantWithMinMaxVars | shape = [  1   3   3 512]\n",
      "name = MobilenetV1/MobilenetV1/Conv2d_12_pointwise/Conv2D_Fold_bias | shape = [1024]\n",
      "name = MobilenetV1/MobilenetV1/Conv2d_12_pointwise/Relu6 | shape = [   1    7    7 1024]\n",
      "name = MobilenetV1/MobilenetV1/Conv2d_12_pointwise/weights_quant/FakeQuantWithMinMaxVars | shape = [1024    1    1  512]\n",
      "name = MobilenetV1/MobilenetV1/Conv2d_13_depthwise/Relu6 | shape = [   1    7    7 1024]\n",
      "name = MobilenetV1/MobilenetV1/Conv2d_13_depthwise/depthwise_Fold_bias | shape = [1024]\n",
      "name = MobilenetV1/MobilenetV1/Conv2d_13_depthwise/weights_quant/FakeQuantWithMinMaxVars | shape = [   1    3    3 1024]\n",
      "name = MobilenetV1/MobilenetV1/Conv2d_13_pointwise/Conv2D_Fold_bias | shape = [1024]\n",
      "name = MobilenetV1/MobilenetV1/Conv2d_13_pointwise/Relu6 | shape = [   1    7    7 1024]\n",
      "name = MobilenetV1/MobilenetV1/Conv2d_13_pointwise/weights_quant/FakeQuantWithMinMaxVars | shape = [1024    1    1 1024]\n",
      "name = MobilenetV1/MobilenetV1/Conv2d_1_depthwise/Relu6 | shape = [  1 112 112  32]\n",
      "name = MobilenetV1/MobilenetV1/Conv2d_1_depthwise/depthwise_Fold_bias | shape = [32]\n",
      "name = MobilenetV1/MobilenetV1/Conv2d_1_depthwise/weights_quant/FakeQuantWithMinMaxVars | shape = [ 1  3  3 32]\n",
      "name = MobilenetV1/MobilenetV1/Conv2d_1_pointwise/Conv2D_Fold_bias | shape = [64]\n",
      "name = MobilenetV1/MobilenetV1/Conv2d_1_pointwise/Relu6 | shape = [  1 112 112  64]\n",
      "name = MobilenetV1/MobilenetV1/Conv2d_1_pointwise/weights_quant/FakeQuantWithMinMaxVars | shape = [64  1  1 32]\n",
      "name = MobilenetV1/MobilenetV1/Conv2d_2_depthwise/Relu6 | shape = [ 1 56 56 64]\n",
      "name = MobilenetV1/MobilenetV1/Conv2d_2_depthwise/depthwise_Fold_bias | shape = [64]\n",
      "name = MobilenetV1/MobilenetV1/Conv2d_2_depthwise/weights_quant/FakeQuantWithMinMaxVars | shape = [ 1  3  3 64]\n",
      "name = MobilenetV1/MobilenetV1/Conv2d_2_pointwise/Conv2D_Fold_bias | shape = [128]\n",
      "name = MobilenetV1/MobilenetV1/Conv2d_2_pointwise/Relu6 | shape = [  1  56  56 128]\n",
      "name = MobilenetV1/MobilenetV1/Conv2d_2_pointwise/weights_quant/FakeQuantWithMinMaxVars | shape = [128   1   1  64]\n",
      "name = MobilenetV1/MobilenetV1/Conv2d_3_depthwise/Relu6 | shape = [  1  56  56 128]\n",
      "name = MobilenetV1/MobilenetV1/Conv2d_3_depthwise/depthwise_Fold_bias | shape = [128]\n",
      "name = MobilenetV1/MobilenetV1/Conv2d_3_depthwise/weights_quant/FakeQuantWithMinMaxVars | shape = [  1   3   3 128]\n",
      "name = MobilenetV1/MobilenetV1/Conv2d_3_pointwise/Conv2D_Fold_bias | shape = [128]\n",
      "name = MobilenetV1/MobilenetV1/Conv2d_3_pointwise/Relu6 | shape = [  1  56  56 128]\n",
      "name = MobilenetV1/MobilenetV1/Conv2d_3_pointwise/weights_quant/FakeQuantWithMinMaxVars | shape = [128   1   1 128]\n",
      "name = MobilenetV1/MobilenetV1/Conv2d_4_depthwise/Relu6 | shape = [  1  28  28 128]\n",
      "name = MobilenetV1/MobilenetV1/Conv2d_4_depthwise/depthwise_Fold_bias | shape = [128]\n",
      "name = MobilenetV1/MobilenetV1/Conv2d_4_depthwise/weights_quant/FakeQuantWithMinMaxVars | shape = [  1   3   3 128]\n",
      "name = MobilenetV1/MobilenetV1/Conv2d_4_pointwise/Conv2D_Fold_bias | shape = [256]\n",
      "name = MobilenetV1/MobilenetV1/Conv2d_4_pointwise/Relu6 | shape = [  1  28  28 256]\n",
      "name = MobilenetV1/MobilenetV1/Conv2d_4_pointwise/weights_quant/FakeQuantWithMinMaxVars | shape = [256   1   1 128]\n",
      "name = MobilenetV1/MobilenetV1/Conv2d_5_depthwise/Relu6 | shape = [  1  28  28 256]\n",
      "name = MobilenetV1/MobilenetV1/Conv2d_5_depthwise/depthwise_Fold_bias | shape = [256]\n",
      "name = MobilenetV1/MobilenetV1/Conv2d_5_depthwise/weights_quant/FakeQuantWithMinMaxVars | shape = [  1   3   3 256]\n",
      "name = MobilenetV1/MobilenetV1/Conv2d_5_pointwise/Conv2D_Fold_bias | shape = [256]\n",
      "name = MobilenetV1/MobilenetV1/Conv2d_5_pointwise/Relu6 | shape = [  1  28  28 256]\n",
      "name = MobilenetV1/MobilenetV1/Conv2d_5_pointwise/weights_quant/FakeQuantWithMinMaxVars | shape = [256   1   1 256]\n",
      "name = MobilenetV1/MobilenetV1/Conv2d_6_depthwise/Relu6 | shape = [  1  14  14 256]\n",
      "name = MobilenetV1/MobilenetV1/Conv2d_6_depthwise/depthwise_Fold_bias | shape = [256]\n",
      "name = MobilenetV1/MobilenetV1/Conv2d_6_depthwise/weights_quant/FakeQuantWithMinMaxVars | shape = [  1   3   3 256]\n",
      "name = MobilenetV1/MobilenetV1/Conv2d_6_pointwise/Conv2D_Fold_bias | shape = [512]\n",
      "name = MobilenetV1/MobilenetV1/Conv2d_6_pointwise/Relu6 | shape = [  1  14  14 512]\n",
      "name = MobilenetV1/MobilenetV1/Conv2d_6_pointwise/weights_quant/FakeQuantWithMinMaxVars | shape = [512   1   1 256]\n",
      "name = MobilenetV1/MobilenetV1/Conv2d_7_depthwise/Relu6 | shape = [  1  14  14 512]\n",
      "name = MobilenetV1/MobilenetV1/Conv2d_7_depthwise/depthwise_Fold_bias | shape = [512]\n",
      "name = MobilenetV1/MobilenetV1/Conv2d_7_depthwise/weights_quant/FakeQuantWithMinMaxVars | shape = [  1   3   3 512]\n",
      "name = MobilenetV1/MobilenetV1/Conv2d_7_pointwise/Conv2D_Fold_bias | shape = [512]\n",
      "name = MobilenetV1/MobilenetV1/Conv2d_7_pointwise/Relu6 | shape = [  1  14  14 512]\n",
      "name = MobilenetV1/MobilenetV1/Conv2d_7_pointwise/weights_quant/FakeQuantWithMinMaxVars | shape = [512   1   1 512]\n",
      "name = MobilenetV1/MobilenetV1/Conv2d_8_depthwise/Relu6 | shape = [  1  14  14 512]\n",
      "name = MobilenetV1/MobilenetV1/Conv2d_8_depthwise/depthwise_Fold_bias | shape = [512]\n",
      "name = MobilenetV1/MobilenetV1/Conv2d_8_depthwise/weights_quant/FakeQuantWithMinMaxVars | shape = [  1   3   3 512]\n",
      "name = MobilenetV1/MobilenetV1/Conv2d_8_pointwise/Conv2D_Fold_bias | shape = [512]\n",
      "name = MobilenetV1/MobilenetV1/Conv2d_8_pointwise/Relu6 | shape = [  1  14  14 512]\n",
      "name = MobilenetV1/MobilenetV1/Conv2d_8_pointwise/weights_quant/FakeQuantWithMinMaxVars | shape = [512   1   1 512]\n",
      "name = MobilenetV1/MobilenetV1/Conv2d_9_depthwise/Relu6 | shape = [  1  14  14 512]\n",
      "name = MobilenetV1/MobilenetV1/Conv2d_9_depthwise/depthwise_Fold_bias | shape = [512]\n",
      "name = MobilenetV1/MobilenetV1/Conv2d_9_depthwise/weights_quant/FakeQuantWithMinMaxVars | shape = [  1   3   3 512]\n",
      "name = MobilenetV1/MobilenetV1/Conv2d_9_pointwise/Conv2D_Fold_bias | shape = [512]\n",
      "name = MobilenetV1/MobilenetV1/Conv2d_9_pointwise/Relu6 | shape = [  1  14  14 512]\n",
      "name = MobilenetV1/MobilenetV1/Conv2d_9_pointwise/weights_quant/FakeQuantWithMinMaxVars | shape = [512   1   1 512]\n",
      "name = MobilenetV1/Predictions/Reshape_1 | shape = [   1 1001]\n",
      "name = input | shape = [  1 224 224   3]\n"
     ]
    }
   ],
   "source": [
    "for t in interp.get_tensor_details():\n",
    "    print('name = %s | shape = %s' % (t['name'], t['shape']) )"
   ]
  },
  {
   "cell_type": "markdown",
   "metadata": {},
   "source": [
    "## Inference"
   ]
  },
  {
   "cell_type": "code",
   "execution_count": 17,
   "metadata": {},
   "outputs": [],
   "source": [
    "input = interp.tensor(interp.get_input_details()[0][\"index\"])\n",
    "output = interp.tensor(interp.get_output_details()[0][\"index\"])"
   ]
  },
  {
   "cell_type": "code",
   "execution_count": 18,
   "metadata": {},
   "outputs": [],
   "source": [
    "interp.allocate_tensors()"
   ]
  },
  {
   "cell_type": "code",
   "execution_count": 19,
   "metadata": {},
   "outputs": [
    {
     "name": "stdout",
     "output_type": "stream",
     "text": [
      "0\n",
      "Class = 201 (0.275)\n",
      "1\n",
      "Class = 112 (0.090)\n",
      "2\n",
      "Class = 112 (0.071)\n"
     ]
    }
   ],
   "source": [
    "img0 = img2\n",
    "for i in range(3):\n",
    "    print(i)\n",
    "    interp.set_tensor(interp.get_input_details()[0]['index'], img0)\n",
    "    interp.invoke()\n",
    "    \n",
    "    print('Class = %d (%.3f)' % (np.argmax(output()), np.max(output())/255) )\n",
    "\n",
    "    if i == 0:\n",
    "        img0 = np.zeros(img2.shape).astype(np.uint8)\n",
    "    if i == 1:\n",
    "        img0 = np.ones(img2.shape).astype(np.uint8)\n",
    "    \n",
    "    interp.reset_all_variables()"
   ]
  },
  {
   "cell_type": "markdown",
   "metadata": {},
   "source": [
    "## Show result"
   ]
  },
  {
   "cell_type": "code",
   "execution_count": 20,
   "metadata": {},
   "outputs": [
    {
     "name": "stdout",
     "output_type": "stream",
     "text": [
      "Class = nematode (0.071)\n"
     ]
    }
   ],
   "source": [
    "print('Class = %s (%.3f)' % (labels[np.argmax(output())], np.max(output())/255) )"
   ]
  },
  {
   "cell_type": "code",
   "execution_count": null,
   "metadata": {},
   "outputs": [],
   "source": []
  }
 ],
 "metadata": {
  "kernelspec": {
   "display_name": "Python 3",
   "language": "python",
   "name": "python3"
  },
  "language_info": {
   "codemirror_mode": {
    "name": "ipython",
    "version": 3
   },
   "file_extension": ".py",
   "mimetype": "text/x-python",
   "name": "python",
   "nbconvert_exporter": "python",
   "pygments_lexer": "ipython3",
   "version": "3.7.4"
  }
 },
 "nbformat": 4,
 "nbformat_minor": 4
}
