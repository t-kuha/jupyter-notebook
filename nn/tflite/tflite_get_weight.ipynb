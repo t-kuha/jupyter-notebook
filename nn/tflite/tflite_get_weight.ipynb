{
 "cells": [
  {
   "cell_type": "markdown",
   "metadata": {
    "colab_type": "text",
    "id": "ml2hPfBAAWWA"
   },
   "source": [
    "# Get weight values from .tflite file\n",
    "\n",
    "- [https://www.tensorflow.org/api_docs/python/tf/lite/Interpreter](https://www.tensorflow.org/api_docs/python/tf/lite/Interpreter)"
   ]
  },
  {
   "cell_type": "code",
   "execution_count": 1,
   "metadata": {
    "colab": {},
    "colab_type": "code",
    "id": "W_3Gb6-gAMeZ"
   },
   "outputs": [],
   "source": [
    "import tensorflow as tf\n",
    "import numpy as np"
   ]
  },
  {
   "cell_type": "code",
   "execution_count": 2,
   "metadata": {},
   "outputs": [],
   "source": [
    "import datetime"
   ]
  },
  {
   "cell_type": "code",
   "execution_count": 3,
   "metadata": {
    "colab": {
     "base_uri": "https://localhost:8080/",
     "height": 34
    },
    "colab_type": "code",
    "id": "zbO4rcWrQNO3",
    "outputId": "01e19b83-01ed-47a3-9765-2b79f050c205"
   },
   "outputs": [
    {
     "name": "stdout",
     "output_type": "stream",
     "text": [
      "TensorFlow version:  1.15.3\n"
     ]
    }
   ],
   "source": [
    "print('TensorFlow version: ', tf.__version__)"
   ]
  },
  {
   "cell_type": "markdown",
   "metadata": {
    "colab_type": "text",
    "id": "84SAn7xbSEF-"
   },
   "source": [
    "## Load .tflite file"
   ]
  },
  {
   "cell_type": "code",
   "execution_count": 4,
   "metadata": {
    "colab": {},
    "colab_type": "code",
    "id": "QqA-y2ZfAe9j"
   },
   "outputs": [],
   "source": [
    "tfl_path = 'mnist_float.tflite'"
   ]
  },
  {
   "cell_type": "code",
   "execution_count": 5,
   "metadata": {
    "colab": {},
    "colab_type": "code",
    "id": "F5cvGvi0AfAO"
   },
   "outputs": [],
   "source": [
    "interp = tf.lite.Interpreter(model_path=tfl_path)\n",
    "interp.allocate_tensors()"
   ]
  },
  {
   "cell_type": "code",
   "execution_count": 6,
   "metadata": {},
   "outputs": [
    {
     "data": {
      "text/plain": [
       "[{'name': 'batch_normalization_v1_input',\n",
       "  'index': 14,\n",
       "  'shape': array([ 1, 28, 28,  1]),\n",
       "  'dtype': numpy.float32,\n",
       "  'quantization': (0.0, 0)}]"
      ]
     },
     "execution_count": 6,
     "metadata": {},
     "output_type": "execute_result"
    }
   ],
   "source": [
    "interp.get_input_details()"
   ]
  },
  {
   "cell_type": "markdown",
   "metadata": {
    "colab_type": "text",
    "id": "79uQ9AwMSM8s"
   },
   "source": [
    "## Show tensor info\n",
    "\n",
    "- __t__ is list of tensor & type of dict ('name', 'index', 'shape', 'dtype', 'quantization')"
   ]
  },
  {
   "cell_type": "code",
   "execution_count": 7,
   "metadata": {
    "colab": {
     "base_uri": "https://localhost:8080/",
     "height": 561
    },
    "colab_type": "code",
    "id": "qN-qQ0RQPf2S",
    "outputId": "911a22be-bac2-4961-c2f4-895457060101"
   },
   "outputs": [
    {
     "name": "stdout",
     "output_type": "stream",
     "text": [
      "name = activation/Relu | shape = [  1 256]\n",
      "name = activation_1/Softmax | shape = [ 1 10]\n",
      "name = batch_normalization_v1/FusedBatchNorm | shape = [ 1 28 28  1]\n",
      "name = batch_normalization_v1/FusedBatchNorm_add_param | shape = [1]\n",
      "name = batch_normalization_v1/FusedBatchNorm_mul_0 | shape = [ 1 28 28  1]\n",
      "name = batch_normalization_v1/FusedBatchNorm_mul_0_param | shape = [1]\n",
      "name = batch_normalization_v1_1/FusedBatchNorm | shape = [ 1 14 14 64]\n",
      "name = batch_normalization_v1_1/FusedBatchNorm_add_param | shape = [64]\n",
      "name = batch_normalization_v1_1/FusedBatchNorm_mul_0 | shape = [ 1 14 14 64]\n",
      "name = batch_normalization_v1_1/FusedBatchNorm_mul_0_param | shape = [64]\n",
      "name = batch_normalization_v1_2/FusedBatchNorm | shape = [  1   7   7 128]\n",
      "name = batch_normalization_v1_2/FusedBatchNorm_add_param | shape = [128]\n",
      "name = batch_normalization_v1_2/FusedBatchNorm_mul_0 | shape = [  1   7   7 128]\n",
      "name = batch_normalization_v1_2/FusedBatchNorm_mul_0_param | shape = [128]\n",
      "name = batch_normalization_v1_input | shape = [ 1 28 28  1]\n",
      "name = conv2d/Conv2D_bias | shape = [64]\n",
      "name = conv2d/Relu | shape = [ 1 28 28 64]\n",
      "name = conv2d/kernel | shape = [ 1  5  5 64]\n",
      "name = conv2d_1/Conv2D_bias | shape = [128]\n",
      "name = conv2d_1/Relu | shape = [  1  14  14 128]\n",
      "name = conv2d_1/kernel | shape = [128   5   5  64]\n",
      "name = conv2d_2/Conv2D_bias | shape = [256]\n",
      "name = conv2d_2/Relu | shape = [  1   7   7 256]\n",
      "name = conv2d_2/kernel | shape = [256   5   5 128]\n",
      "name = dense/MatMul_bias | shape = [256]\n",
      "name = dense/kernel/transpose | shape = [ 256 2304]\n",
      "name = dense_1/BiasAdd | shape = [ 1 10]\n",
      "name = dense_1/MatMul_bias | shape = [10]\n",
      "name = dense_1/kernel/transpose | shape = [ 10 256]\n",
      "name = max_pooling2d/MaxPool | shape = [ 1 14 14 64]\n",
      "name = max_pooling2d_1/MaxPool | shape = [  1   7   7 128]\n",
      "name = max_pooling2d_2/MaxPool | shape = [  1   3   3 256]\n"
     ]
    }
   ],
   "source": [
    "for t in interp.get_tensor_details():\n",
    "    print('name = %s | shape = %s' % (t['name'], t['shape']) )"
   ]
  },
  {
   "cell_type": "markdown",
   "metadata": {
    "colab_type": "text",
    "id": "kJrRIAoC0CRY"
   },
   "source": [
    "## Show some weight"
   ]
  },
  {
   "cell_type": "code",
   "execution_count": 8,
   "metadata": {
    "colab": {
     "base_uri": "https://localhost:8080/",
     "height": 1462
    },
    "colab_type": "code",
    "id": "wgEMhy620Es0",
    "outputId": "7532737a-da15-46ec-a9a2-898b8f0f5ecd"
   },
   "outputs": [
    {
     "name": "stdout",
     "output_type": "stream",
     "text": [
      "[[[[0. 0. 0. ... 0. 0. 0.]\n",
      "   [0. 0. 0. ... 0. 0. 0.]\n",
      "   [0. 0. 0. ... 0. 0. 0.]\n",
      "   ...\n",
      "   [0. 0. 0. ... 0. 0. 0.]\n",
      "   [0. 0. 0. ... 0. 0. 0.]\n",
      "   [0. 0. 0. ... 0. 0. 0.]]\n",
      "\n",
      "  [[0. 0. 0. ... 0. 0. 0.]\n",
      "   [0. 0. 0. ... 0. 0. 0.]\n",
      "   [0. 0. 0. ... 0. 0. 0.]\n",
      "   ...\n",
      "   [0. 0. 0. ... 0. 0. 0.]\n",
      "   [0. 0. 0. ... 0. 0. 0.]\n",
      "   [0. 0. 0. ... 0. 0. 0.]]\n",
      "\n",
      "  [[0. 0. 0. ... 0. 0. 0.]\n",
      "   [0. 0. 0. ... 0. 0. 0.]\n",
      "   [0. 0. 0. ... 0. 0. 0.]\n",
      "   ...\n",
      "   [0. 0. 0. ... 0. 0. 0.]\n",
      "   [0. 0. 0. ... 0. 0. 0.]\n",
      "   [0. 0. 0. ... 0. 0. 0.]]\n",
      "\n",
      "  ...\n",
      "\n",
      "  [[0. 0. 0. ... 0. 0. 0.]\n",
      "   [0. 0. 0. ... 0. 0. 0.]\n",
      "   [0. 0. 0. ... 0. 0. 0.]\n",
      "   ...\n",
      "   [0. 0. 0. ... 0. 0. 0.]\n",
      "   [0. 0. 0. ... 0. 0. 0.]\n",
      "   [0. 0. 0. ... 0. 0. 0.]]\n",
      "\n",
      "  [[0. 0. 0. ... 0. 0. 0.]\n",
      "   [0. 0. 0. ... 0. 0. 0.]\n",
      "   [0. 0. 0. ... 0. 0. 0.]\n",
      "   ...\n",
      "   [0. 0. 0. ... 0. 0. 0.]\n",
      "   [0. 0. 0. ... 0. 0. 0.]\n",
      "   [0. 0. 0. ... 0. 0. 0.]]\n",
      "\n",
      "  [[0. 0. 0. ... 0. 0. 0.]\n",
      "   [0. 0. 0. ... 0. 0. 0.]\n",
      "   [0. 0. 0. ... 0. 0. 0.]\n",
      "   ...\n",
      "   [0. 0. 0. ... 0. 0. 0.]\n",
      "   [0. 0. 0. ... 0. 0. 0.]\n",
      "   [0. 0. 0. ... 0. 0. 0.]]]]\n"
     ]
    }
   ],
   "source": [
    "print(interp.get_tensor(12))"
   ]
  },
  {
   "cell_type": "markdown",
   "metadata": {
    "colab_type": "text",
    "id": "QkTXB72ud8DE"
   },
   "source": [
    "***\n",
    "\n",
    "## Inference"
   ]
  },
  {
   "cell_type": "code",
   "execution_count": 9,
   "metadata": {
    "colab": {},
    "colab_type": "code",
    "id": "XLy8e88Ot1Em"
   },
   "outputs": [],
   "source": [
    "# Get MNIST test data\n",
    "(x_train, y_train), (x_test, y_test) = tf.keras.datasets.mnist.load_data()\n",
    "\n",
    "x_test = x_test.astype(np.float32)\n",
    "y_test = y_test.astype(np.float32)"
   ]
  },
  {
   "cell_type": "code",
   "execution_count": 10,
   "metadata": {
    "colab": {},
    "colab_type": "code",
    "id": "Al1LS10VNUJc"
   },
   "outputs": [],
   "source": [
    "interp.allocate_tensors()\n",
    "input_ = interp.tensor(interp.get_input_details()[0][\"index\"])\n",
    "output = interp.tensor(interp.get_output_details()[0][\"index\"])"
   ]
  },
  {
   "cell_type": "code",
   "execution_count": 11,
   "metadata": {
    "colab": {
     "base_uri": "https://localhost:8080/",
     "height": 1105
    },
    "colab_type": "code",
    "id": "fDtCw-9zNX2U",
    "outputId": "f49b5d4f-8565-45e8-e57a-3e7431fd1dfa"
   },
   "outputs": [],
   "source": [
    "result = list()\n",
    "\n",
    "t_begin = datetime.datetime.now()\n",
    "for x in x_test:\n",
    "    x = np.expand_dims(np.expand_dims(x, axis=0), axis=3)\n",
    "    interp.set_tensor(interp.get_input_details()[0][\"index\"], x)\n",
    "    interp.invoke()\n",
    "    \n",
    "    result.append(np.argmax(output()))\n",
    "    \n",
    "t_end = datetime.datetime.now()"
   ]
  },
  {
   "cell_type": "code",
   "execution_count": 12,
   "metadata": {
    "colab": {
     "base_uri": "https://localhost:8080/",
     "height": 34
    },
    "colab_type": "code",
    "id": "-LhCTeeBp90_",
    "outputId": "0e4e5dbf-c4ef-40bf-8ab8-9118758b50bd"
   },
   "outputs": [
    {
     "name": "stdout",
     "output_type": "stream",
     "text": [
      "Accuracy: 9936 / 10000\n"
     ]
    }
   ],
   "source": [
    "corr = np.sum(np.array(result) == y_test)\n",
    "print('Accuracy: %d / %d' % (corr, len(x_test)))"
   ]
  },
  {
   "cell_type": "code",
   "execution_count": 13,
   "metadata": {},
   "outputs": [
    {
     "name": "stdout",
     "output_type": "stream",
     "text": [
      "Took 16.916 [sec]\n"
     ]
    }
   ],
   "source": [
    "t_ = (t_end - t_begin)\n",
    "print('Took %.3f [sec]' % (t_.seconds + t_.microseconds/1000000) )"
   ]
  }
 ],
 "metadata": {
  "colab": {
   "collapsed_sections": [],
   "name": "tflite-get-weight.ipynb",
   "provenance": [],
   "toc_visible": true,
   "version": "0.3.2"
  },
  "kernelspec": {
   "display_name": "Python 3",
   "language": "python",
   "name": "python3"
  },
  "language_info": {
   "codemirror_mode": {
    "name": "ipython",
    "version": 3
   },
   "file_extension": ".py",
   "mimetype": "text/x-python",
   "name": "python",
   "nbconvert_exporter": "python",
   "pygments_lexer": "ipython3",
   "version": "3.7.6"
  }
 },
 "nbformat": 4,
 "nbformat_minor": 4
}
