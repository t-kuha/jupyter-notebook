{
  "nbformat": 4,
  "nbformat_minor": 0,
  "metadata": {
    "colab": {
      "name": "tflite-get-weight.ipynb",
      "version": "0.3.2",
      "provenance": [],
      "collapsed_sections": [],
      "toc_visible": true
    },
    "kernelspec": {
      "name": "python3",
      "display_name": "Python 3"
    }
  },
  "cells": [
    {
      "metadata": {
        "id": "ml2hPfBAAWWA",
        "colab_type": "text"
      },
      "cell_type": "markdown",
      "source": [
        "# Get weight values from .tflite file\n",
        "\n",
        "- [https://www.tensorflow.org/api_docs/python/tf/lite/Interpreter](https://www.tensorflow.org/api_docs/python/tf/lite/Interpreter)"
      ]
    },
    {
      "metadata": {
        "id": "W_3Gb6-gAMeZ",
        "colab_type": "code",
        "colab": {}
      },
      "cell_type": "code",
      "source": [
        "import tensorflow as tf\n",
        "import numpy as np"
      ],
      "execution_count": 0,
      "outputs": []
    },
    {
      "metadata": {
        "id": "zbO4rcWrQNO3",
        "colab_type": "code",
        "colab": {
          "base_uri": "https://localhost:8080/",
          "height": 34
        },
        "outputId": "01e19b83-01ed-47a3-9765-2b79f050c205"
      },
      "cell_type": "code",
      "source": [
        "print('TensorFlow version: ', tf.__version__)"
      ],
      "execution_count": 2,
      "outputs": [
        {
          "output_type": "stream",
          "text": [
            "TensorFlow version:  1.13.1\n"
          ],
          "name": "stdout"
        }
      ]
    },
    {
      "metadata": {
        "id": "84SAn7xbSEF-",
        "colab_type": "text"
      },
      "cell_type": "markdown",
      "source": [
        "## Load .tflite file"
      ]
    },
    {
      "metadata": {
        "id": "QqA-y2ZfAe9j",
        "colab_type": "code",
        "colab": {}
      },
      "cell_type": "code",
      "source": [
        "tfl_path = 'mnist_float.tflite'"
      ],
      "execution_count": 0,
      "outputs": []
    },
    {
      "metadata": {
        "id": "F5cvGvi0AfAO",
        "colab_type": "code",
        "colab": {}
      },
      "cell_type": "code",
      "source": [
        "interp = tf.lite.Interpreter(model_path=tfl_path, model_content=None)"
      ],
      "execution_count": 0,
      "outputs": []
    },
    {
      "metadata": {
        "id": "79uQ9AwMSM8s",
        "colab_type": "text"
      },
      "cell_type": "markdown",
      "source": [
        "## Show tensor info\n",
        "\n",
        "- __tensor_list__ is list of dict ('name', 'index', 'shape', 'dtype', 'quantization')"
      ]
    },
    {
      "metadata": {
        "id": "qN-qQ0RQPf2S",
        "colab_type": "code",
        "colab": {
          "base_uri": "https://localhost:8080/",
          "height": 561
        },
        "outputId": "911a22be-bac2-4961-c2f4-895457060101"
      },
      "cell_type": "code",
      "source": [
        "tensor_list = interp.get_tensor_details()\n",
        "\n",
        "for i in range(len(tensor_list)):\n",
        "  print(i, ':', tensor_list[i]['name'], tensor_list[i]['shape'])"
      ],
      "execution_count": 5,
      "outputs": [
        {
          "output_type": "stream",
          "text": [
            "0 : activation/Relu [  1 256]\n",
            "1 : activation_1/Softmax [ 1 10]\n",
            "2 : batch_normalization_v1/FusedBatchNorm [ 1 28 28  1]\n",
            "3 : batch_normalization_v1/FusedBatchNorm_add_param [1]\n",
            "4 : batch_normalization_v1/FusedBatchNorm_mul_0 [ 1 28 28  1]\n",
            "5 : batch_normalization_v1/FusedBatchNorm_mul_0_param [1]\n",
            "6 : batch_normalization_v1_1/FusedBatchNorm [ 1 14 14 64]\n",
            "7 : batch_normalization_v1_1/FusedBatchNorm_add_param [64]\n",
            "8 : batch_normalization_v1_1/FusedBatchNorm_mul_0 [ 1 14 14 64]\n",
            "9 : batch_normalization_v1_1/FusedBatchNorm_mul_0_param [64]\n",
            "10 : batch_normalization_v1_2/FusedBatchNorm [  1   7   7 128]\n",
            "11 : batch_normalization_v1_2/FusedBatchNorm_add_param [128]\n",
            "12 : batch_normalization_v1_2/FusedBatchNorm_mul_0 [  1   7   7 128]\n",
            "13 : batch_normalization_v1_2/FusedBatchNorm_mul_0_param [128]\n",
            "14 : batch_normalization_v1_input [ 1 28 28  1]\n",
            "15 : conv2d/Conv2D_bias [64]\n",
            "16 : conv2d/Relu [ 1 28 28 64]\n",
            "17 : conv2d/kernel [ 1  5  5 64]\n",
            "18 : conv2d_1/Conv2D_bias [128]\n",
            "19 : conv2d_1/Relu [  1  14  14 128]\n",
            "20 : conv2d_1/kernel [128   5   5  64]\n",
            "21 : conv2d_2/Conv2D_bias [256]\n",
            "22 : conv2d_2/Relu [  1   7   7 256]\n",
            "23 : conv2d_2/kernel [256   5   5 128]\n",
            "24 : dense/MatMul_bias [256]\n",
            "25 : dense/kernel/transpose [ 256 2304]\n",
            "26 : dense_1/BiasAdd [ 1 10]\n",
            "27 : dense_1/MatMul_bias [10]\n",
            "28 : dense_1/kernel/transpose [ 10 256]\n",
            "29 : max_pooling2d/MaxPool [ 1 14 14 64]\n",
            "30 : max_pooling2d_1/MaxPool [  1   7   7 128]\n",
            "31 : max_pooling2d_2/MaxPool [  1   3   3 256]\n"
          ],
          "name": "stdout"
        }
      ]
    },
    {
      "metadata": {
        "id": "kJrRIAoC0CRY",
        "colab_type": "text"
      },
      "cell_type": "markdown",
      "source": [
        "## Show some weight"
      ]
    },
    {
      "metadata": {
        "id": "wgEMhy620Es0",
        "colab_type": "code",
        "colab": {
          "base_uri": "https://localhost:8080/",
          "height": 1462
        },
        "outputId": "7532737a-da15-46ec-a9a2-898b8f0f5ecd"
      },
      "cell_type": "code",
      "source": [
        "print(interp.get_tensor(6))"
      ],
      "execution_count": 12,
      "outputs": [
        {
          "output_type": "stream",
          "text": [
            "[[[[ 0.23503728 -0.23302487 -0.22928101 ... -0.31781524 -0.19408007\n",
            "    -0.20346361]\n",
            "   [ 0.23503728 -0.23302487 -0.20962898 ... -0.31781524 -0.19408007\n",
            "    -0.20346361]\n",
            "   [ 0.23503728 -0.23302487 -0.20962898 ... -0.31781524 -0.19408007\n",
            "    -0.20346361]\n",
            "   ...\n",
            "   [ 0.23503728 -0.13387382 -0.22928101 ...  0.99410504  0.3374843\n",
            "    -0.20346361]\n",
            "   [ 0.23503728 -0.23302487 -0.20962898 ... -0.31781524 -0.19408007\n",
            "    -0.20346361]\n",
            "   [ 0.23503728 -0.23302487 -0.22928101 ... -0.31781524 -0.19408007\n",
            "    -0.20346361]]\n",
            "\n",
            "  [[ 0.23503728 -0.23302487 -0.22928101 ... -0.31781524 -0.19408007\n",
            "    -0.20346361]\n",
            "   [ 0.23503728 -0.23302487 -0.06280945 ... -0.31781524 -0.19408007\n",
            "    -0.20346361]\n",
            "   [ 0.23503728 -0.23302487 -0.06280945 ... -0.31781524 -0.19408007\n",
            "    -0.20346361]\n",
            "   ...\n",
            "   [ 0.23503728  0.1988411  -0.22928101 ... -0.02760372  1.5867637\n",
            "    -0.20346361]\n",
            "   [ 0.23503728 -0.23302487 -0.06280945 ... -0.31781524 -0.19408007\n",
            "    -0.20346361]\n",
            "   [ 0.23503728 -0.23302487 -0.22928101 ... -0.31781524 -0.19408007\n",
            "    -0.20346361]]\n",
            "\n",
            "  [[ 0.23503728 -0.23302487 -0.22928101 ... -0.31781524 -0.19408007\n",
            "    -0.20346361]\n",
            "   [ 0.23503728 -0.23302487 -0.06280945 ... -0.31781524 -0.19408007\n",
            "    -0.20346361]\n",
            "   [ 0.23503728 -0.23302487 -0.06280945 ... -0.31781524 -0.19408007\n",
            "    -0.20346361]\n",
            "   ...\n",
            "   [ 0.23503728 -0.23302487  1.3006456  ... -0.31781524 -0.19408007\n",
            "     1.2255106 ]\n",
            "   [ 0.23503728 -0.23302487 -0.06280945 ... -0.31781524 -0.19408007\n",
            "    -0.20346361]\n",
            "   [ 0.23503728 -0.23302487 -0.22928101 ... -0.31781524 -0.19408007\n",
            "    -0.20346361]]\n",
            "\n",
            "  ...\n",
            "\n",
            "  [[ 0.23503728 -0.23302487 -0.22928101 ... -0.31781524 -0.19408007\n",
            "    -0.20346361]\n",
            "   [ 0.23503728 -0.23302487 -0.06280945 ... -0.31781524 -0.19408007\n",
            "    -0.20346361]\n",
            "   [ 0.23503728 -0.23302487 -0.06280945 ...  0.7607557   0.07754506\n",
            "    -0.20346361]\n",
            "   ...\n",
            "   [ 0.23503728 -0.23302487  0.24726322 ... -0.31781524 -0.19408007\n",
            "    -0.20346361]\n",
            "   [ 0.23503728 -0.23302487 -0.06280945 ... -0.31781524 -0.19408007\n",
            "    -0.20346361]\n",
            "   [ 0.23503728 -0.23302487 -0.22928101 ... -0.31781524 -0.19408007\n",
            "    -0.20346361]]\n",
            "\n",
            "  [[ 0.23503728 -0.23302487 -0.22928101 ... -0.31781524 -0.19408007\n",
            "    -0.20346361]\n",
            "   [ 0.23503728 -0.23302487 -0.06280945 ... -0.31781524 -0.19408007\n",
            "    -0.20346361]\n",
            "   [ 0.23503728 -0.23302487 -0.06280945 ... -0.31781524 -0.19408007\n",
            "    -0.20346361]\n",
            "   ...\n",
            "   [ 0.23503728 -0.23302487 -0.06280945 ... -0.31781524 -0.19408007\n",
            "    -0.20346361]\n",
            "   [ 0.23503728 -0.23302487 -0.06280945 ... -0.31781524 -0.19408007\n",
            "    -0.20346361]\n",
            "   [ 0.23503728 -0.23302487 -0.22928101 ... -0.31781524 -0.19408007\n",
            "    -0.20346361]]\n",
            "\n",
            "  [[ 0.23503728 -0.23302487 -0.22928101 ... -0.31781524 -0.19408007\n",
            "    -0.20346361]\n",
            "   [ 0.23503728 -0.23302487 -0.22132334 ... -0.31781524 -0.19408007\n",
            "    -0.20346361]\n",
            "   [ 0.23503728 -0.23302487 -0.22132334 ... -0.31781524 -0.19408007\n",
            "    -0.20346361]\n",
            "   ...\n",
            "   [ 0.23503728 -0.23302487 -0.22132334 ... -0.31781524 -0.19408007\n",
            "    -0.20346361]\n",
            "   [ 0.23503728 -0.23302487 -0.22132334 ... -0.31781524 -0.19408007\n",
            "    -0.20346361]\n",
            "   [ 0.23503728 -0.23302487 -0.22928101 ... -0.31781524 -0.19408007\n",
            "    -0.20346361]]]]\n"
          ],
          "name": "stdout"
        }
      ]
    },
    {
      "metadata": {
        "id": "QkTXB72ud8DE",
        "colab_type": "text"
      },
      "cell_type": "markdown",
      "source": [
        "***\n",
        "\n",
        "## Inference"
      ]
    },
    {
      "metadata": {
        "id": "XLy8e88Ot1Em",
        "colab_type": "code",
        "colab": {}
      },
      "cell_type": "code",
      "source": [
        "# Get MNIST test data\n",
        "(x_train, y_train), (x_test, y_test) = tf.keras.datasets.mnist.load_data()\n",
        "\n",
        "x_test = x_test.astype(np.float32)\n",
        "y_test = y_test.astype(np.float32)"
      ],
      "execution_count": 0,
      "outputs": []
    },
    {
      "metadata": {
        "id": "Al1LS10VNUJc",
        "colab_type": "code",
        "colab": {}
      },
      "cell_type": "code",
      "source": [
        "interp.allocate_tensors()\n",
        "input = interp.tensor(interp.get_input_details()[0][\"index\"])\n",
        "output = interp.tensor(interp.get_output_details()[0][\"index\"])"
      ],
      "execution_count": 0,
      "outputs": []
    },
    {
      "metadata": {
        "id": "fDtCw-9zNX2U",
        "colab_type": "code",
        "colab": {
          "base_uri": "https://localhost:8080/",
          "height": 1105
        },
        "outputId": "f49b5d4f-8565-45e8-e57a-3e7431fd1dfa"
      },
      "cell_type": "code",
      "source": [
        "corr = 0\n",
        "for i in range(len(x_test)):\n",
        "  x = np.expand_dims(np.expand_dims(x_test[i], axis=0), axis=3)\n",
        "  interp.set_tensor(interp.get_input_details()[0]['index'], x)\n",
        "  interp.invoke()\n",
        "  if np.argmax(output()) == y_test[i]:\n",
        "    corr = corr + 1\n",
        "  else:\n",
        "    print(\"fail: %s vs. %d\" % (np.argmax(output()), y_test[i]) )"
      ],
      "execution_count": 10,
      "outputs": [
        {
          "output_type": "stream",
          "text": [
            "fail: 0 vs. 6\n",
            "fail: 4 vs. 8\n",
            "fail: 0 vs. 6\n",
            "fail: 1 vs. 2\n",
            "fail: 9 vs. 8\n",
            "fail: 5 vs. 6\n",
            "fail: 1 vs. 7\n",
            "fail: 6 vs. 4\n",
            "fail: 2 vs. 7\n",
            "fail: 4 vs. 9\n",
            "fail: 1 vs. 7\n",
            "fail: 3 vs. 5\n",
            "fail: 3 vs. 8\n",
            "fail: 4 vs. 9\n",
            "fail: 3 vs. 5\n",
            "fail: 9 vs. 4\n",
            "fail: 0 vs. 2\n",
            "fail: 0 vs. 6\n",
            "fail: 9 vs. 4\n",
            "fail: 1 vs. 6\n",
            "fail: 3 vs. 1\n",
            "fail: 0 vs. 9\n",
            "fail: 3 vs. 5\n",
            "fail: 0 vs. 9\n",
            "fail: 0 vs. 2\n",
            "fail: 3 vs. 5\n",
            "fail: 1 vs. 6\n",
            "fail: 4 vs. 9\n",
            "fail: 0 vs. 8\n",
            "fail: 1 vs. 9\n",
            "fail: 1 vs. 7\n",
            "fail: 0 vs. 6\n",
            "fail: 0 vs. 5\n",
            "fail: 9 vs. 8\n",
            "fail: 8 vs. 6\n",
            "fail: 2 vs. 7\n",
            "fail: 0 vs. 6\n",
            "fail: 1 vs. 7\n",
            "fail: 1 vs. 3\n",
            "fail: 4 vs. 9\n",
            "fail: 0 vs. 6\n",
            "fail: 1 vs. 6\n",
            "fail: 5 vs. 3\n",
            "fail: 4 vs. 9\n",
            "fail: 0 vs. 8\n",
            "fail: 0 vs. 6\n",
            "fail: 4 vs. 9\n",
            "fail: 0 vs. 9\n",
            "fail: 4 vs. 8\n",
            "fail: 2 vs. 7\n",
            "fail: 3 vs. 5\n",
            "fail: 9 vs. 3\n",
            "fail: 9 vs. 5\n",
            "fail: 9 vs. 8\n",
            "fail: 7 vs. 9\n",
            "fail: 1 vs. 7\n",
            "fail: 7 vs. 0\n",
            "fail: 1 vs. 8\n",
            "fail: 8 vs. 2\n",
            "fail: 9 vs. 4\n",
            "fail: 2 vs. 7\n",
            "fail: 7 vs. 9\n",
            "fail: 1 vs. 6\n",
            "fail: 6 vs. 5\n"
          ],
          "name": "stdout"
        }
      ]
    },
    {
      "metadata": {
        "id": "-LhCTeeBp90_",
        "colab_type": "code",
        "colab": {
          "base_uri": "https://localhost:8080/",
          "height": 34
        },
        "outputId": "0e4e5dbf-c4ef-40bf-8ab8-9118758b50bd"
      },
      "cell_type": "code",
      "source": [
        "print('Accuracy: %d / %d' % (corr, len(x_test)))"
      ],
      "execution_count": 9,
      "outputs": [
        {
          "output_type": "stream",
          "text": [
            "Accuracy: 9936 / 10000\n"
          ],
          "name": "stdout"
        }
      ]
    }
  ]
}