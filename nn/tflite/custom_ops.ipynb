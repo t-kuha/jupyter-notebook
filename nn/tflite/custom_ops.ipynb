{
 "cells": [
  {
   "cell_type": "markdown",
   "metadata": {},
   "source": [
    "### tflite custom operator\n",
    "\n",
    "- https://github.com/tensorflow/tensorflow/blob/master/tensorflow/lite/g3doc/custom_operators.md"
   ]
  },
  {
   "cell_type": "code",
   "execution_count": 1,
   "metadata": {},
   "outputs": [],
   "source": [
    "import tensorflow as tf\n",
    "import numpy as np\n",
    "import os"
   ]
  },
  {
   "cell_type": "markdown",
   "metadata": {},
   "source": [
    "#### Model\n",
    "\n",
    "- y = arcsin(x + 0.2)"
   ]
  },
  {
   "cell_type": "code",
   "execution_count": 2,
   "metadata": {},
   "outputs": [],
   "source": [
    "offset_initializer = tf.constant_initializer(value=0.0)"
   ]
  },
  {
   "cell_type": "code",
   "execution_count": 3,
   "metadata": {},
   "outputs": [],
   "source": [
    "offset = tf.get_variable(\"offset\", [1,], tf.float32, initializer=offset_initializer)\n",
    "x = tf.placeholder(tf.float32, shape=(1,17))\n",
    "y = tf.asin(x + offset)\n",
    "y_ = tf.placeholder(tf.float32, shape=(1,17))\n",
    "loss = tf.reduce_sum(tf.square(y - y_))\n",
    "optimizer = tf.train.GradientDescentOptimizer(0.001)\n",
    "train = optimizer.minimize(loss)"
   ]
  },
  {
   "cell_type": "markdown",
   "metadata": {},
   "source": [
    "#### Input data"
   ]
  },
  {
   "cell_type": "code",
   "execution_count": 4,
   "metadata": {},
   "outputs": [],
   "source": [
    "np_x = np.array([-0.9, -0.8, -0.7, -0.6, -0.5, -0.4, -0.3, -0.2, -0.1, 0.0, 0.1, 0.2, 0.3, 0.4, 0.5, 0.6, 0.7], dtype=np.float32, ndmin=2)\n",
    "np_y_ = np.array([-0.7754, -0.6435, -0.5236, -0.4115, -0.3047, -0.2014, -0.1002, 0.0000, 0.1002, 0.2014, 0.3047, 0.4115, 0.5236,\n",
    "                  0.6435, 0.7754, 0.9273, 1.1198], dtype=np.float32, ndmin=2)"
   ]
  },
  {
   "cell_type": "markdown",
   "metadata": {},
   "source": [
    "#### Fit & convert to tflite model\n",
    "\n",
    "- https://www.tensorflow.org/lite/convert/python_api"
   ]
  },
  {
   "cell_type": "code",
   "execution_count": 5,
   "metadata": {},
   "outputs": [
    {
     "name": "stdout",
     "output_type": "stream",
     "text": [
      "\t loss =   7.084212E-09\n",
      "\t offset = 0.2000\n",
      "INFO:tensorflow:Froze 1 variables.\n",
      "INFO:tensorflow:Converted 1 variables to const ops.\n"
     ]
    }
   ],
   "source": [
    "saver = tf.train.Saver()\n",
    "\n",
    "with tf.Session() as sess:\n",
    "    sess.run(tf.global_variables_initializer())\n",
    "    \n",
    "    for i in range(500):\n",
    "        sess.run(train, feed_dict={x: np_x, y_: np_y_})\n",
    "    \n",
    "    print('\\t loss =   %E' % sess.run(loss, feed_dict={x: np_x, y_: np_y_}))\n",
    "    print('\\t offset = %.4f' % sess.run(offset, feed_dict={x: np_x, y_: np_y_}))\n",
    "    \n",
    "    converter = tf.contrib.lite.TFLiteConverter.from_session(sess, [x], [y])\n",
    "    converter.allow_custom_ops=True\n",
    "    tflite_model = converter.convert()\n",
    "    open(\"tflite_op_sine.tflite\", \"wb\").write(tflite_model)"
   ]
  }
 ],
 "metadata": {
  "kernelspec": {
   "display_name": "Python 3",
   "language": "python",
   "name": "python3"
  },
  "language_info": {
   "codemirror_mode": {
    "name": "ipython",
    "version": 3
   },
   "file_extension": ".py",
   "mimetype": "text/x-python",
   "name": "python",
   "nbconvert_exporter": "python",
   "pygments_lexer": "ipython3",
   "version": "3.7.1"
  }
 },
 "nbformat": 4,
 "nbformat_minor": 2
}
