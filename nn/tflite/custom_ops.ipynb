{
 "cells": [
  {
   "cell_type": "markdown",
   "metadata": {},
   "source": [
    "### tflite custom operator\n",
    "\n",
    "- https://github.com/tensorflow/tensorflow/blob/master/tensorflow/lite/g3doc/custom_operators.md"
   ]
  },
  {
   "cell_type": "code",
   "execution_count": 1,
   "metadata": {},
   "outputs": [],
   "source": [
    "import tensorflow as tf\n",
    "import numpy as np\n",
    "import os"
   ]
  },
  {
   "cell_type": "markdown",
   "metadata": {},
   "source": [
    "#### Model\n",
    "\n",
    "- y = sin(x + 0.4)"
   ]
  },
  {
   "cell_type": "code",
   "execution_count": 2,
   "metadata": {},
   "outputs": [],
   "source": [
    "offset = tf.get_variable(\"offset\", [1,], tf.float32)\n",
    "x = tf.placeholder(tf.float32, shape=(1,17))\n",
    "y = tf.sin(x + offset)\n",
    "y_ = tf.placeholder(tf.float32, shape=(1,17))\n",
    "loss = tf.reduce_sum(tf.square(y - y_))\n",
    "optimizer = tf.train.GradientDescentOptimizer(0.001)\n",
    "train = optimizer.minimize(loss)"
   ]
  },
  {
   "cell_type": "markdown",
   "metadata": {},
   "source": [
    "#### Input data"
   ]
  },
  {
   "cell_type": "code",
   "execution_count": 3,
   "metadata": {},
   "outputs": [],
   "source": [
    "np_x = np.array([-4.0, -3.5, -3.0, -2.5, -2.0, -1.5, -1.0, -0.5, 0.0, 0.5, 1.0, 1.5, 2.0, 2.5, 3.0, 3.5, 4.0], dtype=np.float32, ndmin=2)\n",
    "np_y_ = np.array([0.4425, -0.0416, -0.5155, -0.8632, -0.9996, -0.8912, -0.5646, -0.0998, 0.3894, 0.7833, 0.9854, \n",
    "              0.9463, 0.6755, 0.2392, -0.2555, -0.6878, -0.9516], dtype=np.float32, ndmin=2)"
   ]
  },
  {
   "cell_type": "markdown",
   "metadata": {},
   "source": [
    "#### Fit & convert to tflite model\n",
    "\n",
    "- https://www.tensorflow.org/lite/convert/python_api"
   ]
  },
  {
   "cell_type": "code",
   "execution_count": 4,
   "metadata": {},
   "outputs": [
    {
     "name": "stdout",
     "output_type": "stream",
     "text": [
      "\t loss =   1.698754E-08\n",
      "\t offset = 0.4000\n",
      "INFO:tensorflow:Froze 1 variables.\n",
      "INFO:tensorflow:Converted 1 variables to const ops.\n"
     ]
    }
   ],
   "source": [
    "saver = tf.train.Saver()\n",
    "\n",
    "with tf.Session() as sess:\n",
    "    sess.run(tf.global_variables_initializer())\n",
    "    \n",
    "    for i in range(500):\n",
    "        sess.run(train, feed_dict={x: np_x, y_: np_y_})\n",
    "    \n",
    "    print('\\t loss =   %E' % sess.run(loss, feed_dict={x: np_x, y_: np_y_}))\n",
    "    print('\\t offset = %.4f' % sess.run(offset, feed_dict={x: np_x, y_: np_y_}))\n",
    "        \n",
    "    save_path = saver.save(sess, os.path.join(os.getcwd(), 'sin.ckpt'))\n",
    "    \n",
    "    converter = tf.contrib.lite.TFLiteConverter.from_session(sess, [x], [y])\n",
    "    tflite_model = converter.convert()\n",
    "    open(\"tflite_op_sine.tflite\", \"wb\").write(tflite_model)"
   ]
  }
 ],
 "metadata": {
  "kernelspec": {
   "display_name": "Python 3",
   "language": "python",
   "name": "python3"
  },
  "language_info": {
   "codemirror_mode": {
    "name": "ipython",
    "version": 3
   },
   "file_extension": ".py",
   "mimetype": "text/x-python",
   "name": "python",
   "nbconvert_exporter": "python",
   "pygments_lexer": "ipython3",
   "version": "3.7.1"
  }
 },
 "nbformat": 4,
 "nbformat_minor": 2
}
