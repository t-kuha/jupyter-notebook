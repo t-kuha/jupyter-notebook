{
 "cells": [
  {
   "cell_type": "markdown",
   "metadata": {},
   "source": [
    "# Downloading pretrained model"
   ]
  },
  {
   "cell_type": "markdown",
   "metadata": {},
   "source": [
    "## Imports"
   ]
  },
  {
   "cell_type": "code",
   "execution_count": 2,
   "metadata": {},
   "outputs": [],
   "source": [
    "from torchvision import models\n",
    "import torch"
   ]
  },
  {
   "cell_type": "code",
   "execution_count": 3,
   "metadata": {},
   "outputs": [
    {
     "name": "stdout",
     "output_type": "stream",
     "text": [
      "PyTorch version: 1.4.0a0\n"
     ]
    }
   ],
   "source": [
    "print('PyTorch version: %s' % torch.__version__)"
   ]
  },
  {
   "cell_type": "markdown",
   "metadata": {},
   "source": [
    "***\n",
    "\n",
    "## Load pretrained model"
   ]
  },
  {
   "cell_type": "code",
   "execution_count": 4,
   "metadata": {},
   "outputs": [],
   "source": [
    "squeezenet = models.squeezenet1_0(pretrained=True)"
   ]
  },
  {
   "cell_type": "markdown",
   "metadata": {},
   "source": [
    "## Convert to torchscript"
   ]
  },
  {
   "cell_type": "code",
   "execution_count": 5,
   "metadata": {},
   "outputs": [
    {
     "data": {
      "text/plain": [
       "RecursiveScriptModule(\n",
       "  original_name=SqueezeNet\n",
       "  (features): RecursiveScriptModule(\n",
       "    original_name=Sequential\n",
       "    (0): RecursiveScriptModule(original_name=Conv2d)\n",
       "    (1): RecursiveScriptModule(original_name=ReLU)\n",
       "    (2): RecursiveScriptModule(original_name=MaxPool2d)\n",
       "    (3): RecursiveScriptModule(\n",
       "      original_name=Fire\n",
       "      (squeeze): RecursiveScriptModule(original_name=Conv2d)\n",
       "      (squeeze_activation): RecursiveScriptModule(original_name=ReLU)\n",
       "      (expand1x1): RecursiveScriptModule(original_name=Conv2d)\n",
       "      (expand1x1_activation): RecursiveScriptModule(original_name=ReLU)\n",
       "      (expand3x3): RecursiveScriptModule(original_name=Conv2d)\n",
       "      (expand3x3_activation): RecursiveScriptModule(original_name=ReLU)\n",
       "    )\n",
       "    (4): RecursiveScriptModule(\n",
       "      original_name=Fire\n",
       "      (squeeze): RecursiveScriptModule(original_name=Conv2d)\n",
       "      (squeeze_activation): RecursiveScriptModule(original_name=ReLU)\n",
       "      (expand1x1): RecursiveScriptModule(original_name=Conv2d)\n",
       "      (expand1x1_activation): RecursiveScriptModule(original_name=ReLU)\n",
       "      (expand3x3): RecursiveScriptModule(original_name=Conv2d)\n",
       "      (expand3x3_activation): RecursiveScriptModule(original_name=ReLU)\n",
       "    )\n",
       "    (5): RecursiveScriptModule(\n",
       "      original_name=Fire\n",
       "      (squeeze): RecursiveScriptModule(original_name=Conv2d)\n",
       "      (squeeze_activation): RecursiveScriptModule(original_name=ReLU)\n",
       "      (expand1x1): RecursiveScriptModule(original_name=Conv2d)\n",
       "      (expand1x1_activation): RecursiveScriptModule(original_name=ReLU)\n",
       "      (expand3x3): RecursiveScriptModule(original_name=Conv2d)\n",
       "      (expand3x3_activation): RecursiveScriptModule(original_name=ReLU)\n",
       "    )\n",
       "    (6): RecursiveScriptModule(original_name=MaxPool2d)\n",
       "    (7): RecursiveScriptModule(\n",
       "      original_name=Fire\n",
       "      (squeeze): RecursiveScriptModule(original_name=Conv2d)\n",
       "      (squeeze_activation): RecursiveScriptModule(original_name=ReLU)\n",
       "      (expand1x1): RecursiveScriptModule(original_name=Conv2d)\n",
       "      (expand1x1_activation): RecursiveScriptModule(original_name=ReLU)\n",
       "      (expand3x3): RecursiveScriptModule(original_name=Conv2d)\n",
       "      (expand3x3_activation): RecursiveScriptModule(original_name=ReLU)\n",
       "    )\n",
       "    (8): RecursiveScriptModule(\n",
       "      original_name=Fire\n",
       "      (squeeze): RecursiveScriptModule(original_name=Conv2d)\n",
       "      (squeeze_activation): RecursiveScriptModule(original_name=ReLU)\n",
       "      (expand1x1): RecursiveScriptModule(original_name=Conv2d)\n",
       "      (expand1x1_activation): RecursiveScriptModule(original_name=ReLU)\n",
       "      (expand3x3): RecursiveScriptModule(original_name=Conv2d)\n",
       "      (expand3x3_activation): RecursiveScriptModule(original_name=ReLU)\n",
       "    )\n",
       "    (9): RecursiveScriptModule(\n",
       "      original_name=Fire\n",
       "      (squeeze): RecursiveScriptModule(original_name=Conv2d)\n",
       "      (squeeze_activation): RecursiveScriptModule(original_name=ReLU)\n",
       "      (expand1x1): RecursiveScriptModule(original_name=Conv2d)\n",
       "      (expand1x1_activation): RecursiveScriptModule(original_name=ReLU)\n",
       "      (expand3x3): RecursiveScriptModule(original_name=Conv2d)\n",
       "      (expand3x3_activation): RecursiveScriptModule(original_name=ReLU)\n",
       "    )\n",
       "    (10): RecursiveScriptModule(\n",
       "      original_name=Fire\n",
       "      (squeeze): RecursiveScriptModule(original_name=Conv2d)\n",
       "      (squeeze_activation): RecursiveScriptModule(original_name=ReLU)\n",
       "      (expand1x1): RecursiveScriptModule(original_name=Conv2d)\n",
       "      (expand1x1_activation): RecursiveScriptModule(original_name=ReLU)\n",
       "      (expand3x3): RecursiveScriptModule(original_name=Conv2d)\n",
       "      (expand3x3_activation): RecursiveScriptModule(original_name=ReLU)\n",
       "    )\n",
       "    (11): RecursiveScriptModule(original_name=MaxPool2d)\n",
       "    (12): RecursiveScriptModule(\n",
       "      original_name=Fire\n",
       "      (squeeze): RecursiveScriptModule(original_name=Conv2d)\n",
       "      (squeeze_activation): RecursiveScriptModule(original_name=ReLU)\n",
       "      (expand1x1): RecursiveScriptModule(original_name=Conv2d)\n",
       "      (expand1x1_activation): RecursiveScriptModule(original_name=ReLU)\n",
       "      (expand3x3): RecursiveScriptModule(original_name=Conv2d)\n",
       "      (expand3x3_activation): RecursiveScriptModule(original_name=ReLU)\n",
       "    )\n",
       "  )\n",
       "  (classifier): RecursiveScriptModule(\n",
       "    original_name=Sequential\n",
       "    (0): RecursiveScriptModule(original_name=Dropout)\n",
       "    (1): RecursiveScriptModule(original_name=Conv2d)\n",
       "    (2): RecursiveScriptModule(original_name=ReLU)\n",
       "    (3): RecursiveScriptModule(original_name=AdaptiveAvgPool2d)\n",
       "  )\n",
       ")"
      ]
     },
     "execution_count": 5,
     "metadata": {},
     "output_type": "execute_result"
    }
   ],
   "source": [
    "model_script = torch.jit.script(squeezenet)\n",
    "model_script.eval()"
   ]
  },
  {
   "cell_type": "code",
   "execution_count": 7,
   "metadata": {},
   "outputs": [],
   "source": [
    "model_script.save('squeezenet.pt')"
   ]
  },
  {
   "cell_type": "markdown",
   "metadata": {},
   "source": [
    "## Convert to ONNX"
   ]
  },
  {
   "cell_type": "code",
   "execution_count": 8,
   "metadata": {
    "scrolled": true
   },
   "outputs": [
    {
     "name": "stdout",
     "output_type": "stream",
     "text": [
      "graph(%input.1 : Float(1, 3, 224, 224),\n",
      "      %features.0.weight : Float(96, 3, 7, 7),\n",
      "      %features.0.bias : Float(96),\n",
      "      %features.3.squeeze.weight : Float(16, 96, 1, 1),\n",
      "      %features.3.squeeze.bias : Float(16),\n",
      "      %features.3.expand1x1.weight : Float(64, 16, 1, 1),\n",
      "      %features.3.expand1x1.bias : Float(64),\n",
      "      %features.3.expand3x3.weight : Float(64, 16, 3, 3),\n",
      "      %features.3.expand3x3.bias : Float(64),\n",
      "      %features.4.squeeze.weight : Float(16, 128, 1, 1),\n",
      "      %features.4.squeeze.bias : Float(16),\n",
      "      %features.4.expand1x1.weight : Float(64, 16, 1, 1),\n",
      "      %features.4.expand1x1.bias : Float(64),\n",
      "      %features.4.expand3x3.weight : Float(64, 16, 3, 3),\n",
      "      %features.4.expand3x3.bias : Float(64),\n",
      "      %features.5.squeeze.weight : Float(32, 128, 1, 1),\n",
      "      %features.5.squeeze.bias : Float(32),\n",
      "      %features.5.expand1x1.weight : Float(128, 32, 1, 1),\n",
      "      %features.5.expand1x1.bias : Float(128),\n",
      "      %features.5.expand3x3.weight : Float(128, 32, 3, 3),\n",
      "      %features.5.expand3x3.bias : Float(128),\n",
      "      %features.7.squeeze.weight : Float(32, 256, 1, 1),\n",
      "      %features.7.squeeze.bias : Float(32),\n",
      "      %features.7.expand1x1.weight : Float(128, 32, 1, 1),\n",
      "      %features.7.expand1x1.bias : Float(128),\n",
      "      %features.7.expand3x3.weight : Float(128, 32, 3, 3),\n",
      "      %features.7.expand3x3.bias : Float(128),\n",
      "      %features.8.squeeze.weight : Float(48, 256, 1, 1),\n",
      "      %features.8.squeeze.bias : Float(48),\n",
      "      %features.8.expand1x1.weight : Float(192, 48, 1, 1),\n",
      "      %features.8.expand1x1.bias : Float(192),\n",
      "      %features.8.expand3x3.weight : Float(192, 48, 3, 3),\n",
      "      %features.8.expand3x3.bias : Float(192),\n",
      "      %features.9.squeeze.weight : Float(48, 384, 1, 1),\n",
      "      %features.9.squeeze.bias : Float(48),\n",
      "      %features.9.expand1x1.weight : Float(192, 48, 1, 1),\n",
      "      %features.9.expand1x1.bias : Float(192),\n",
      "      %features.9.expand3x3.weight : Float(192, 48, 3, 3),\n",
      "      %features.9.expand3x3.bias : Float(192),\n",
      "      %features.10.squeeze.weight : Float(64, 384, 1, 1),\n",
      "      %features.10.squeeze.bias : Float(64),\n",
      "      %features.10.expand1x1.weight : Float(256, 64, 1, 1),\n",
      "      %features.10.expand1x1.bias : Float(256),\n",
      "      %features.10.expand3x3.weight : Float(256, 64, 3, 3),\n",
      "      %features.10.expand3x3.bias : Float(256),\n",
      "      %features.12.squeeze.weight : Float(64, 512, 1, 1),\n",
      "      %features.12.squeeze.bias : Float(64),\n",
      "      %features.12.expand1x1.weight : Float(256, 64, 1, 1),\n",
      "      %features.12.expand1x1.bias : Float(256),\n",
      "      %features.12.expand3x3.weight : Float(256, 64, 3, 3),\n",
      "      %features.12.expand3x3.bias : Float(256),\n",
      "      %classifier.1.weight : Float(1000, 512, 1, 1),\n",
      "      %classifier.1.bias : Float(1000)):\n",
      "  %53 : Float(1, 96, 109, 109) = onnx::Conv[dilations=[1, 1], group=1, kernel_shape=[7, 7], pads=[0, 0, 0, 0], strides=[2, 2]](%input.1, %features.0.weight, %features.0.bias) # D:\\Program\\miniconda3\\envs\\pytorch\\lib\\site-packages\\torch\\nn\\modules\\conv.py:342:0\n",
      "  %54 : Float(1, 96, 109, 109) = onnx::Relu(%53) # D:\\Program\\miniconda3\\envs\\pytorch\\lib\\site-packages\\torch\\nn\\functional.py:912:0\n",
      "  %55 : Float(1, 96, 54, 54) = onnx::MaxPool[kernel_shape=[3, 3], pads=[0, 0, 1, 1], strides=[2, 2]](%54) # D:\\Program\\miniconda3\\envs\\pytorch\\lib\\site-packages\\torch\\nn\\functional.py:488:0\n",
      "  %56 : Float(1, 16, 54, 54) = onnx::Conv[dilations=[1, 1], group=1, kernel_shape=[1, 1], pads=[0, 0, 0, 0], strides=[1, 1]](%55, %features.3.squeeze.weight, %features.3.squeeze.bias) # D:\\Program\\miniconda3\\envs\\pytorch\\lib\\site-packages\\torch\\nn\\modules\\conv.py:342:0\n",
      "  %57 : Float(1, 16, 54, 54) = onnx::Relu(%56) # D:\\Program\\miniconda3\\envs\\pytorch\\lib\\site-packages\\torch\\nn\\functional.py:912:0\n",
      "  %58 : Float(1, 64, 54, 54) = onnx::Conv[dilations=[1, 1], group=1, kernel_shape=[1, 1], pads=[0, 0, 0, 0], strides=[1, 1]](%57, %features.3.expand1x1.weight, %features.3.expand1x1.bias) # D:\\Program\\miniconda3\\envs\\pytorch\\lib\\site-packages\\torch\\nn\\modules\\conv.py:342:0\n",
      "  %59 : Float(1, 64, 54, 54) = onnx::Relu(%58) # D:\\Program\\miniconda3\\envs\\pytorch\\lib\\site-packages\\torch\\nn\\functional.py:912:0\n",
      "  %60 : Float(1, 64, 54, 54) = onnx::Conv[dilations=[1, 1], group=1, kernel_shape=[3, 3], pads=[1, 1, 1, 1], strides=[1, 1]](%57, %features.3.expand3x3.weight, %features.3.expand3x3.bias) # D:\\Program\\miniconda3\\envs\\pytorch\\lib\\site-packages\\torch\\nn\\modules\\conv.py:342:0\n",
      "  %61 : Float(1, 64, 54, 54) = onnx::Relu(%60) # D:\\Program\\miniconda3\\envs\\pytorch\\lib\\site-packages\\torch\\nn\\functional.py:912:0\n",
      "  %62 : Float(1, 128, 54, 54) = onnx::Concat[axis=1](%59, %61) # D:\\Program\\miniconda3\\envs\\pytorch\\lib\\site-packages\\torchvision-0.5.0a0-py3.7-win-amd64.egg\\torchvision\\models\\squeezenet.py:34:0\n",
      "  %63 : Float(1, 16, 54, 54) = onnx::Conv[dilations=[1, 1], group=1, kernel_shape=[1, 1], pads=[0, 0, 0, 0], strides=[1, 1]](%62, %features.4.squeeze.weight, %features.4.squeeze.bias) # D:\\Program\\miniconda3\\envs\\pytorch\\lib\\site-packages\\torch\\nn\\modules\\conv.py:342:0\n",
      "  %64 : Float(1, 16, 54, 54) = onnx::Relu(%63) # D:\\Program\\miniconda3\\envs\\pytorch\\lib\\site-packages\\torch\\nn\\functional.py:912:0\n",
      "  %65 : Float(1, 64, 54, 54) = onnx::Conv[dilations=[1, 1], group=1, kernel_shape=[1, 1], pads=[0, 0, 0, 0], strides=[1, 1]](%64, %features.4.expand1x1.weight, %features.4.expand1x1.bias) # D:\\Program\\miniconda3\\envs\\pytorch\\lib\\site-packages\\torch\\nn\\modules\\conv.py:342:0\n",
      "  %66 : Float(1, 64, 54, 54) = onnx::Relu(%65) # D:\\Program\\miniconda3\\envs\\pytorch\\lib\\site-packages\\torch\\nn\\functional.py:912:0\n",
      "  %67 : Float(1, 64, 54, 54) = onnx::Conv[dilations=[1, 1], group=1, kernel_shape=[3, 3], pads=[1, 1, 1, 1], strides=[1, 1]](%64, %features.4.expand3x3.weight, %features.4.expand3x3.bias) # D:\\Program\\miniconda3\\envs\\pytorch\\lib\\site-packages\\torch\\nn\\modules\\conv.py:342:0\n",
      "  %68 : Float(1, 64, 54, 54) = onnx::Relu(%67) # D:\\Program\\miniconda3\\envs\\pytorch\\lib\\site-packages\\torch\\nn\\functional.py:912:0\n",
      "  %69 : Float(1, 128, 54, 54) = onnx::Concat[axis=1](%66, %68) # D:\\Program\\miniconda3\\envs\\pytorch\\lib\\site-packages\\torchvision-0.5.0a0-py3.7-win-amd64.egg\\torchvision\\models\\squeezenet.py:34:0\n",
      "  %70 : Float(1, 32, 54, 54) = onnx::Conv[dilations=[1, 1], group=1, kernel_shape=[1, 1], pads=[0, 0, 0, 0], strides=[1, 1]](%69, %features.5.squeeze.weight, %features.5.squeeze.bias) # D:\\Program\\miniconda3\\envs\\pytorch\\lib\\site-packages\\torch\\nn\\modules\\conv.py:342:0\n",
      "  %71 : Float(1, 32, 54, 54) = onnx::Relu(%70) # D:\\Program\\miniconda3\\envs\\pytorch\\lib\\site-packages\\torch\\nn\\functional.py:912:0\n",
      "  %72 : Float(1, 128, 54, 54) = onnx::Conv[dilations=[1, 1], group=1, kernel_shape=[1, 1], pads=[0, 0, 0, 0], strides=[1, 1]](%71, %features.5.expand1x1.weight, %features.5.expand1x1.bias) # D:\\Program\\miniconda3\\envs\\pytorch\\lib\\site-packages\\torch\\nn\\modules\\conv.py:342:0\n",
      "  %73 : Float(1, 128, 54, 54) = onnx::Relu(%72) # D:\\Program\\miniconda3\\envs\\pytorch\\lib\\site-packages\\torch\\nn\\functional.py:912:0\n",
      "  %74 : Float(1, 128, 54, 54) = onnx::Conv[dilations=[1, 1], group=1, kernel_shape=[3, 3], pads=[1, 1, 1, 1], strides=[1, 1]](%71, %features.5.expand3x3.weight, %features.5.expand3x3.bias) # D:\\Program\\miniconda3\\envs\\pytorch\\lib\\site-packages\\torch\\nn\\modules\\conv.py:342:0\n",
      "  %75 : Float(1, 128, 54, 54) = onnx::Relu(%74) # D:\\Program\\miniconda3\\envs\\pytorch\\lib\\site-packages\\torch\\nn\\functional.py:912:0\n",
      "  %76 : Float(1, 256, 54, 54) = onnx::Concat[axis=1](%73, %75) # D:\\Program\\miniconda3\\envs\\pytorch\\lib\\site-packages\\torchvision-0.5.0a0-py3.7-win-amd64.egg\\torchvision\\models\\squeezenet.py:34:0\n",
      "  %77 : Float(1, 256, 27, 27) = onnx::MaxPool[kernel_shape=[3, 3], pads=[0, 0, 2, 2], strides=[2, 2]](%76) # D:\\Program\\miniconda3\\envs\\pytorch\\lib\\site-packages\\torch\\nn\\functional.py:488:0\n",
      "  %78 : Float(1, 32, 27, 27) = onnx::Conv[dilations=[1, 1], group=1, kernel_shape=[1, 1], pads=[0, 0, 0, 0], strides=[1, 1]](%77, %features.7.squeeze.weight, %features.7.squeeze.bias) # D:\\Program\\miniconda3\\envs\\pytorch\\lib\\site-packages\\torch\\nn\\modules\\conv.py:342:0\n",
      "  %79 : Float(1, 32, 27, 27) = onnx::Relu(%78) # D:\\Program\\miniconda3\\envs\\pytorch\\lib\\site-packages\\torch\\nn\\functional.py:912:0\n",
      "  %80 : Float(1, 128, 27, 27) = onnx::Conv[dilations=[1, 1], group=1, kernel_shape=[1, 1], pads=[0, 0, 0, 0], strides=[1, 1]](%79, %features.7.expand1x1.weight, %features.7.expand1x1.bias) # D:\\Program\\miniconda3\\envs\\pytorch\\lib\\site-packages\\torch\\nn\\modules\\conv.py:342:0\n",
      "  %81 : Float(1, 128, 27, 27) = onnx::Relu(%80) # D:\\Program\\miniconda3\\envs\\pytorch\\lib\\site-packages\\torch\\nn\\functional.py:912:0\n",
      "  %82 : Float(1, 128, 27, 27) = onnx::Conv[dilations=[1, 1], group=1, kernel_shape=[3, 3], pads=[1, 1, 1, 1], strides=[1, 1]](%79, %features.7.expand3x3.weight, %features.7.expand3x3.bias) # D:\\Program\\miniconda3\\envs\\pytorch\\lib\\site-packages\\torch\\nn\\modules\\conv.py:342:0\n",
      "  %83 : Float(1, 128, 27, 27) = onnx::Relu(%82) # D:\\Program\\miniconda3\\envs\\pytorch\\lib\\site-packages\\torch\\nn\\functional.py:912:0\n",
      "  %84 : Float(1, 256, 27, 27) = onnx::Concat[axis=1](%81, %83) # D:\\Program\\miniconda3\\envs\\pytorch\\lib\\site-packages\\torchvision-0.5.0a0-py3.7-win-amd64.egg\\torchvision\\models\\squeezenet.py:34:0\n",
      "  %85 : Float(1, 48, 27, 27) = onnx::Conv[dilations=[1, 1], group=1, kernel_shape=[1, 1], pads=[0, 0, 0, 0], strides=[1, 1]](%84, %features.8.squeeze.weight, %features.8.squeeze.bias) # D:\\Program\\miniconda3\\envs\\pytorch\\lib\\site-packages\\torch\\nn\\modules\\conv.py:342:0\n",
      "  %86 : Float(1, 48, 27, 27) = onnx::Relu(%85) # D:\\Program\\miniconda3\\envs\\pytorch\\lib\\site-packages\\torch\\nn\\functional.py:912:0\n",
      "  %87 : Float(1, 192, 27, 27) = onnx::Conv[dilations=[1, 1], group=1, kernel_shape=[1, 1], pads=[0, 0, 0, 0], strides=[1, 1]](%86, %features.8.expand1x1.weight, %features.8.expand1x1.bias) # D:\\Program\\miniconda3\\envs\\pytorch\\lib\\site-packages\\torch\\nn\\modules\\conv.py:342:0\n",
      "  %88 : Float(1, 192, 27, 27) = onnx::Relu(%87) # D:\\Program\\miniconda3\\envs\\pytorch\\lib\\site-packages\\torch\\nn\\functional.py:912:0\n",
      "  %89 : Float(1, 192, 27, 27) = onnx::Conv[dilations=[1, 1], group=1, kernel_shape=[3, 3], pads=[1, 1, 1, 1], strides=[1, 1]](%86, %features.8.expand3x3.weight, %features.8.expand3x3.bias) # D:\\Program\\miniconda3\\envs\\pytorch\\lib\\site-packages\\torch\\nn\\modules\\conv.py:342:0\n",
      "  %90 : Float(1, 192, 27, 27) = onnx::Relu(%89) # D:\\Program\\miniconda3\\envs\\pytorch\\lib\\site-packages\\torch\\nn\\functional.py:912:0\n",
      "  %91 : Float(1, 384, 27, 27) = onnx::Concat[axis=1](%88, %90) # D:\\Program\\miniconda3\\envs\\pytorch\\lib\\site-packages\\torchvision-0.5.0a0-py3.7-win-amd64.egg\\torchvision\\models\\squeezenet.py:34:0\n",
      "  %92 : Float(1, 48, 27, 27) = onnx::Conv[dilations=[1, 1], group=1, kernel_shape=[1, 1], pads=[0, 0, 0, 0], strides=[1, 1]](%91, %features.9.squeeze.weight, %features.9.squeeze.bias) # D:\\Program\\miniconda3\\envs\\pytorch\\lib\\site-packages\\torch\\nn\\modules\\conv.py:342:0\n",
      "  %93 : Float(1, 48, 27, 27) = onnx::Relu(%92) # D:\\Program\\miniconda3\\envs\\pytorch\\lib\\site-packages\\torch\\nn\\functional.py:912:0\n",
      "  %94 : Float(1, 192, 27, 27) = onnx::Conv[dilations=[1, 1], group=1, kernel_shape=[1, 1], pads=[0, 0, 0, 0], strides=[1, 1]](%93, %features.9.expand1x1.weight, %features.9.expand1x1.bias) # D:\\Program\\miniconda3\\envs\\pytorch\\lib\\site-packages\\torch\\nn\\modules\\conv.py:342:0\n",
      "  %95 : Float(1, 192, 27, 27) = onnx::Relu(%94) # D:\\Program\\miniconda3\\envs\\pytorch\\lib\\site-packages\\torch\\nn\\functional.py:912:0\n",
      "  %96 : Float(1, 192, 27, 27) = onnx::Conv[dilations=[1, 1], group=1, kernel_shape=[3, 3], pads=[1, 1, 1, 1], strides=[1, 1]](%93, %features.9.expand3x3.weight, %features.9.expand3x3.bias) # D:\\Program\\miniconda3\\envs\\pytorch\\lib\\site-packages\\torch\\nn\\modules\\conv.py:342:0\n",
      "  %97 : Float(1, 192, 27, 27) = onnx::Relu(%96) # D:\\Program\\miniconda3\\envs\\pytorch\\lib\\site-packages\\torch\\nn\\functional.py:912:0\n",
      "  %98 : Float(1, 384, 27, 27) = onnx::Concat[axis=1](%95, %97) # D:\\Program\\miniconda3\\envs\\pytorch\\lib\\site-packages\\torchvision-0.5.0a0-py3.7-win-amd64.egg\\torchvision\\models\\squeezenet.py:34:0\n",
      "  %99 : Float(1, 64, 27, 27) = onnx::Conv[dilations=[1, 1], group=1, kernel_shape=[1, 1], pads=[0, 0, 0, 0], strides=[1, 1]](%98, %features.10.squeeze.weight, %features.10.squeeze.bias) # D:\\Program\\miniconda3\\envs\\pytorch\\lib\\site-packages\\torch\\nn\\modules\\conv.py:342:0\n",
      "  %100 : Float(1, 64, 27, 27) = onnx::Relu(%99) # D:\\Program\\miniconda3\\envs\\pytorch\\lib\\site-packages\\torch\\nn\\functional.py:912:0\n",
      "  %101 : Float(1, 256, 27, 27) = onnx::Conv[dilations=[1, 1], group=1, kernel_shape=[1, 1], pads=[0, 0, 0, 0], strides=[1, 1]](%100, %features.10.expand1x1.weight, %features.10.expand1x1.bias) # D:\\Program\\miniconda3\\envs\\pytorch\\lib\\site-packages\\torch\\nn\\modules\\conv.py:342:0\n",
      "  %102 : Float(1, 256, 27, 27) = onnx::Relu(%101) # D:\\Program\\miniconda3\\envs\\pytorch\\lib\\site-packages\\torch\\nn\\functional.py:912:0\n",
      "  %103 : Float(1, 256, 27, 27) = onnx::Conv[dilations=[1, 1], group=1, kernel_shape=[3, 3], pads=[1, 1, 1, 1], strides=[1, 1]](%100, %features.10.expand3x3.weight, %features.10.expand3x3.bias) # D:\\Program\\miniconda3\\envs\\pytorch\\lib\\site-packages\\torch\\nn\\modules\\conv.py:342:0\n",
      "  %104 : Float(1, 256, 27, 27) = onnx::Relu(%103) # D:\\Program\\miniconda3\\envs\\pytorch\\lib\\site-packages\\torch\\nn\\functional.py:912:0\n",
      "  %105 : Float(1, 512, 27, 27) = onnx::Concat[axis=1](%102, %104) # D:\\Program\\miniconda3\\envs\\pytorch\\lib\\site-packages\\torchvision-0.5.0a0-py3.7-win-amd64.egg\\torchvision\\models\\squeezenet.py:34:0\n",
      "  %106 : Float(1, 512, 13, 13) = onnx::MaxPool[kernel_shape=[3, 3], pads=[0, 0, 1, 1], strides=[2, 2]](%105) # D:\\Program\\miniconda3\\envs\\pytorch\\lib\\site-packages\\torch\\nn\\functional.py:488:0\n",
      "  %107 : Float(1, 64, 13, 13) = onnx::Conv[dilations=[1, 1], group=1, kernel_shape=[1, 1], pads=[0, 0, 0, 0], strides=[1, 1]](%106, %features.12.squeeze.weight, %features.12.squeeze.bias) # D:\\Program\\miniconda3\\envs\\pytorch\\lib\\site-packages\\torch\\nn\\modules\\conv.py:342:0\n",
      "  %108 : Float(1, 64, 13, 13) = onnx::Relu(%107) # D:\\Program\\miniconda3\\envs\\pytorch\\lib\\site-packages\\torch\\nn\\functional.py:912:0\n",
      "  %109 : Float(1, 256, 13, 13) = onnx::Conv[dilations=[1, 1], group=1, kernel_shape=[1, 1], pads=[0, 0, 0, 0], strides=[1, 1]](%108, %features.12.expand1x1.weight, %features.12.expand1x1.bias) # D:\\Program\\miniconda3\\envs\\pytorch\\lib\\site-packages\\torch\\nn\\modules\\conv.py:342:0\n",
      "  %110 : Float(1, 256, 13, 13) = onnx::Relu(%109) # D:\\Program\\miniconda3\\envs\\pytorch\\lib\\site-packages\\torch\\nn\\functional.py:912:0\n",
      "  %111 : Float(1, 256, 13, 13) = onnx::Conv[dilations=[1, 1], group=1, kernel_shape=[3, 3], pads=[1, 1, 1, 1], strides=[1, 1]](%108, %features.12.expand3x3.weight, %features.12.expand3x3.bias) # D:\\Program\\miniconda3\\envs\\pytorch\\lib\\site-packages\\torch\\nn\\modules\\conv.py:342:0\n",
      "  %112 : Float(1, 256, 13, 13) = onnx::Relu(%111) # D:\\Program\\miniconda3\\envs\\pytorch\\lib\\site-packages\\torch\\nn\\functional.py:912:0\n",
      "  %113 : Float(1, 512, 13, 13) = onnx::Concat[axis=1](%110, %112) # D:\\Program\\miniconda3\\envs\\pytorch\\lib\\site-packages\\torch\\nn\\functional.py:807:0\n",
      "  %114 : Float(1, 1000, 13, 13) = onnx::Conv[dilations=[1, 1], group=1, kernel_shape=[1, 1], pads=[0, 0, 0, 0], strides=[1, 1]](%113, %classifier.1.weight, %classifier.1.bias) # D:\\Program\\miniconda3\\envs\\pytorch\\lib\\site-packages\\torch\\nn\\modules\\conv.py:342:0\n",
      "  %115 : Float(1, 1000, 13, 13) = onnx::Relu(%114) # D:\\Program\\miniconda3\\envs\\pytorch\\lib\\site-packages\\torch\\nn\\functional.py:912:0\n",
      "  %116 : Float(1, 1000, 1, 1) = onnx::GlobalAveragePool(%115) # D:\\Program\\miniconda3\\envs\\pytorch\\lib\\site-packages\\torch\\nn\\functional.py:768:0\n",
      "  %117 : Float(1, 1000) = onnx::Flatten[axis=1](%116) # D:\\Program\\miniconda3\\envs\\pytorch\\lib\\site-packages\\torchvision-0.5.0a0-py3.7-win-amd64.egg\\torchvision\\models\\squeezenet.py:102:0\n",
      "  return (%117)\n",
      "\n"
     ]
    }
   ],
   "source": [
    "# Export the model\n",
    "dummy_input = torch.autograd.Variable(torch.randn(1, 3, 224, 224))\n",
    "# torch_out = \n",
    "torch.onnx.export(squeezenet, dummy_input, 'squeezenet.onnx', export_params=True, verbose=True)      "
   ]
  },
  {
   "cell_type": "code",
   "execution_count": null,
   "metadata": {},
   "outputs": [],
   "source": []
  }
 ],
 "metadata": {
  "kernelspec": {
   "display_name": "Python 3",
   "language": "python",
   "name": "python3"
  },
  "language_info": {
   "codemirror_mode": {
    "name": "ipython",
    "version": 3
   },
   "file_extension": ".py",
   "mimetype": "text/x-python",
   "name": "python",
   "nbconvert_exporter": "python",
   "pygments_lexer": "ipython3",
   "version": "3.7.4"
  }
 },
 "nbformat": 4,
 "nbformat_minor": 4
}
