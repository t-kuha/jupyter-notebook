{
 "cells": [
  {
   "cell_type": "markdown",
   "metadata": {
    "colab_type": "text",
    "id": "L2OJaDGpGV1w"
   },
   "source": [
    "# MNIST in PyTorch\n",
    "\n",
    "- Based on https://github.com/pytorch/examples/blob/master/mnist/main.py"
   ]
  },
  {
   "cell_type": "markdown",
   "metadata": {
    "colab_type": "text",
    "id": "qheh2eSYdFsT"
   },
   "source": [
    "***\n",
    "\n",
    "## Install brevitas"
   ]
  },
  {
   "cell_type": "code",
   "execution_count": null,
   "metadata": {
    "colab": {
     "base_uri": "https://localhost:8080/",
     "height": 360
    },
    "colab_type": "code",
    "id": "M322mt4bdEfY",
    "outputId": "0b78ffbc-8e51-4cef-9f60-73148035b914"
   },
   "outputs": [],
   "source": [
    "!pip install git+https://github.com/Xilinx/brevitas.git"
   ]
  },
  {
   "cell_type": "markdown",
   "metadata": {
    "colab_type": "text",
    "id": "xUTR4k4FdI1C"
   },
   "source": [
    "***"
   ]
  },
  {
   "cell_type": "code",
   "execution_count": null,
   "metadata": {
    "colab": {},
    "colab_type": "code",
    "id": "-5oiRXmvGV1x"
   },
   "outputs": [],
   "source": [
    "import os"
   ]
  },
  {
   "cell_type": "code",
   "execution_count": null,
   "metadata": {
    "colab": {},
    "colab_type": "code",
    "id": "8LvD8utjGV1z"
   },
   "outputs": [],
   "source": [
    "import torch\n",
    "import torch.nn as nn\n",
    "import torch.nn.functional as F\n",
    "import torch.optim as optim\n",
    "from torchvision import datasets, transforms\n",
    "from torch.optim.lr_scheduler import StepLR"
   ]
  },
  {
   "cell_type": "code",
   "execution_count": null,
   "metadata": {
    "colab": {},
    "colab_type": "code",
    "id": "SjnqrKSwdaT0"
   },
   "outputs": [],
   "source": [
    "import brevitas.nn as qnn\n",
    "from brevitas.core.quant import QuantType"
   ]
  },
  {
   "cell_type": "markdown",
   "metadata": {
    "colab_type": "text",
    "id": "X6yUrHp-GV12"
   },
   "source": [
    "***\n",
    "\n",
    "## Define model etc."
   ]
  },
  {
   "cell_type": "code",
   "execution_count": null,
   "metadata": {
    "colab": {},
    "colab_type": "code",
    "id": "eH2DXoWiGV12"
   },
   "outputs": [],
   "source": [
    "class Net(nn.Module):\n",
    "    def __init__(self):\n",
    "        super(Net, self).__init__()\n",
    "        kwargs = {'weight_quant_type': QuantType.INT, 'weight_bit_width': 8}\n",
    "        self.conv1 = qnn.QuantConv2d(1, 32, 3, 1, **kwargs)\n",
    "        self.conv2 = qnn.QuantConv2d(32, 64, 3, 1, **kwargs)\n",
    "        self.dropout1 = nn.Dropout2d(0.25)\n",
    "        self.dropout2 = nn.Dropout2d(0.5)\n",
    "        self.fc1 = qnn.QuantLinear(9216, 128, bias=False, **kwargs)\n",
    "        self.fc2 = qnn.QuantLinear(128, 10, bias=False, **kwargs)\n",
    "\n",
    "    def forward(self, x):\n",
    "        x = self.conv1(x)\n",
    "        x = F.relu(x)\n",
    "        x = self.conv2(x)\n",
    "        x = F.max_pool2d(x, 2)\n",
    "        x = self.dropout1(x)\n",
    "        x = torch.flatten(x, 1)\n",
    "        x = self.fc1(x)\n",
    "        x = F.relu(x)\n",
    "        x = self.dropout2(x)\n",
    "        x = self.fc2(x)\n",
    "        output = F.log_softmax(x, dim=1)\n",
    "        return output"
   ]
  },
  {
   "cell_type": "code",
   "execution_count": null,
   "metadata": {
    "colab": {},
    "colab_type": "code",
    "id": "K5qg3lPdGV14"
   },
   "outputs": [],
   "source": [
    "def train(log_interval, model, device, train_loader, optimizer, epoch):\n",
    "    model.train()\n",
    "    for batch_idx, (data, target) in enumerate(train_loader):\n",
    "        data, target = data.to(device), target.to(device)\n",
    "        optimizer.zero_grad()\n",
    "        output = model(data)\n",
    "        loss = F.nll_loss(output, target)\n",
    "        loss.backward()\n",
    "        optimizer.step()\n",
    "        if batch_idx % log_interval == 0:\n",
    "            print('Train Epoch: {} [{}/{} ({:.0f}%)]\\tLoss: {:.6f}'.format(\n",
    "                epoch, batch_idx * len(data), len(train_loader.dataset),\n",
    "                100. * batch_idx / len(train_loader), loss.item()))"
   ]
  },
  {
   "cell_type": "code",
   "execution_count": null,
   "metadata": {
    "colab": {},
    "colab_type": "code",
    "id": "V-rf7b2LGV16"
   },
   "outputs": [],
   "source": [
    "def test(model, device, test_loader):\n",
    "    model.eval()\n",
    "    test_loss = 0\n",
    "    correct = 0\n",
    "    with torch.no_grad():\n",
    "        for data, target in test_loader:\n",
    "            data, target = data.to(device), target.to(device)\n",
    "            output = model(data)\n",
    "            test_loss += F.nll_loss(output, target, reduction='sum').item()  # sum up batch loss\n",
    "            pred = output.argmax(dim=1, keepdim=True)  # get the index of the max log-probability\n",
    "            correct += pred.eq(target.view_as(pred)).sum().item()\n",
    "\n",
    "    test_loss /= len(test_loader.dataset)\n",
    "\n",
    "    print('\\nTest set: Average loss: {:.4f}, Accuracy: {}/{} ({:.0f}%)\\n'.format(\n",
    "        test_loss, correct, len(test_loader.dataset),\n",
    "        100. * correct / len(test_loader.dataset)))"
   ]
  },
  {
   "cell_type": "markdown",
   "metadata": {
    "colab_type": "text",
    "id": "Bq7SM4c2GV18"
   },
   "source": [
    "***\n",
    "\n",
    "## Settings"
   ]
  },
  {
   "cell_type": "code",
   "execution_count": null,
   "metadata": {
    "colab": {},
    "colab_type": "code",
    "id": "GNui9IlPGV19"
   },
   "outputs": [],
   "source": [
    "batch_size=64\n",
    "test_batch_size=1000\n",
    "epochs = 14\n",
    "lr = 1\n",
    "gamma = 0.7\n",
    "seed = 1\n",
    "log_interval = 200\n",
    "\n",
    "data_dir = os.path.join(os.getcwd(), 'data')"
   ]
  },
  {
   "cell_type": "code",
   "execution_count": 9,
   "metadata": {
    "colab": {
     "base_uri": "https://localhost:8080/",
     "height": 34
    },
    "colab_type": "code",
    "id": "ieJveUGFGV1-",
    "outputId": "800e7d87-252b-4085-d625-32c251bba6a6"
   },
   "outputs": [
    {
     "name": "stdout",
     "output_type": "stream",
     "text": [
      "Using GPU...\n"
     ]
    }
   ],
   "source": [
    "use_cuda = torch.cuda.is_available()\n",
    "print('Using GPU...' if use_cuda else 'NOT using GPU...')\n",
    "\n",
    "device = torch.device('cuda:0' if use_cuda else 'cpu')\n",
    "kwargs = {'num_workers': 1, 'pin_memory': True} if use_cuda else {}"
   ]
  },
  {
   "cell_type": "code",
   "execution_count": 10,
   "metadata": {
    "colab": {
     "base_uri": "https://localhost:8080/",
     "height": 34
    },
    "colab_type": "code",
    "id": "7KRQTdNKGV2B",
    "outputId": "f1983da6-452b-45b2-ab6a-3a68601d501b"
   },
   "outputs": [
    {
     "data": {
      "text/plain": [
       "<torch._C.Generator at 0x7f6f80a56e30>"
      ]
     },
     "execution_count": 10,
     "metadata": {
      "tags": []
     },
     "output_type": "execute_result"
    }
   ],
   "source": [
    "torch.manual_seed(seed)"
   ]
  },
  {
   "cell_type": "markdown",
   "metadata": {
    "colab_type": "text",
    "id": "cQ7cJOg7GV2D"
   },
   "source": [
    "***\n",
    "\n",
    "## Get dataset"
   ]
  },
  {
   "cell_type": "code",
   "execution_count": 11,
   "metadata": {
    "colab": {
     "base_uri": "https://localhost:8080/",
     "height": 343
    },
    "colab_type": "code",
    "id": "powuaDIaGV2D",
    "outputId": "e5335b20-49bf-42ad-b3b3-98be6b1c844c"
   },
   "outputs": [
    {
     "name": "stderr",
     "output_type": "stream",
     "text": [
      "0it [00:00, ?it/s]"
     ]
    },
    {
     "name": "stdout",
     "output_type": "stream",
     "text": [
      "Downloading http://yann.lecun.com/exdb/mnist/train-images-idx3-ubyte.gz to /content/data/MNIST/raw/train-images-idx3-ubyte.gz\n"
     ]
    },
    {
     "name": "stderr",
     "output_type": "stream",
     "text": [
      "9920512it [00:01, 9083484.33it/s]                            \n"
     ]
    },
    {
     "name": "stdout",
     "output_type": "stream",
     "text": [
      "Extracting /content/data/MNIST/raw/train-images-idx3-ubyte.gz to /content/data/MNIST/raw\n"
     ]
    },
    {
     "name": "stderr",
     "output_type": "stream",
     "text": [
      "  0%|          | 0/28881 [00:00<?, ?it/s]"
     ]
    },
    {
     "name": "stdout",
     "output_type": "stream",
     "text": [
      "Downloading http://yann.lecun.com/exdb/mnist/train-labels-idx1-ubyte.gz to /content/data/MNIST/raw/train-labels-idx1-ubyte.gz\n"
     ]
    },
    {
     "name": "stderr",
     "output_type": "stream",
     "text": [
      "32768it [00:00, 137894.14it/s]           \n",
      "  0%|          | 0/1648877 [00:00<?, ?it/s]"
     ]
    },
    {
     "name": "stdout",
     "output_type": "stream",
     "text": [
      "Extracting /content/data/MNIST/raw/train-labels-idx1-ubyte.gz to /content/data/MNIST/raw\n",
      "Downloading http://yann.lecun.com/exdb/mnist/t10k-images-idx3-ubyte.gz to /content/data/MNIST/raw/t10k-images-idx3-ubyte.gz\n"
     ]
    },
    {
     "name": "stderr",
     "output_type": "stream",
     "text": [
      "1654784it [00:00, 2257605.48it/s]                            \n",
      "0it [00:00, ?it/s]"
     ]
    },
    {
     "name": "stdout",
     "output_type": "stream",
     "text": [
      "Extracting /content/data/MNIST/raw/t10k-images-idx3-ubyte.gz to /content/data/MNIST/raw\n",
      "Downloading http://yann.lecun.com/exdb/mnist/t10k-labels-idx1-ubyte.gz to /content/data/MNIST/raw/t10k-labels-idx1-ubyte.gz\n"
     ]
    },
    {
     "name": "stderr",
     "output_type": "stream",
     "text": [
      "8192it [00:00, 52985.28it/s]            \n"
     ]
    },
    {
     "name": "stdout",
     "output_type": "stream",
     "text": [
      "Extracting /content/data/MNIST/raw/t10k-labels-idx1-ubyte.gz to /content/data/MNIST/raw\n",
      "Processing...\n",
      "Done!\n"
     ]
    },
    {
     "data": {
      "text/plain": [
       "Dataset MNIST\n",
       "    Number of datapoints: 60000\n",
       "    Root location: /content/data\n",
       "    Split: Train"
      ]
     },
     "execution_count": 11,
     "metadata": {
      "tags": []
     },
     "output_type": "execute_result"
    }
   ],
   "source": [
    "# Since torchvision v0.2.1\n",
    "datasets.MNIST(data_dir, download=True)"
   ]
  },
  {
   "cell_type": "code",
   "execution_count": null,
   "metadata": {
    "colab": {},
    "colab_type": "code",
    "id": "7mQpxKiWGV2F"
   },
   "outputs": [],
   "source": [
    "train_loader = torch.utils.data.DataLoader(\n",
    "    datasets.MNIST(\n",
    "        data_dir, train=True, download=True,\n",
    "        transform=transforms.Compose([\n",
    "            transforms.ToTensor(),\n",
    "            transforms.Normalize((0.1307,), (0.3081,))\n",
    "        ])),\n",
    "    batch_size=batch_size, shuffle=True, num_workers=2)\n",
    "\n",
    "test_loader = torch.utils.data.DataLoader(\n",
    "    datasets.MNIST(\n",
    "        data_dir, train=False, \n",
    "        transform=transforms.Compose([\n",
    "            transforms.ToTensor(),\n",
    "            transforms.Normalize((0.1307,), (0.3081,))\n",
    "        ])),\n",
    "    batch_size=test_batch_size, shuffle=True, num_workers=2)"
   ]
  },
  {
   "cell_type": "markdown",
   "metadata": {
    "colab_type": "text",
    "id": "0GzoTU80GV2I"
   },
   "source": [
    "***\n",
    "\n",
    "## Start training"
   ]
  },
  {
   "cell_type": "code",
   "execution_count": null,
   "metadata": {
    "colab": {},
    "colab_type": "code",
    "id": "_N2LaYlqGV2J"
   },
   "outputs": [],
   "source": [
    "model = Net().to(device)\n",
    "optimizer = optim.Adadelta(model.parameters(), lr=lr)\n",
    "# optimizer = optim.SGD(model.parameters(), lr=lr, momentum=momentum)"
   ]
  },
  {
   "cell_type": "code",
   "execution_count": 14,
   "metadata": {
    "colab": {
     "base_uri": "https://localhost:8080/",
     "height": 1000
    },
    "colab_type": "code",
    "id": "p5-VNAwwGV2K",
    "outputId": "a4d92a81-e102-421b-abc7-20a35dda35ae",
    "scrolled": true
   },
   "outputs": [
    {
     "name": "stdout",
     "output_type": "stream",
     "text": [
      "Train Epoch: 0 [0/60000 (0%)]\tLoss: 2.292998\n",
      "Train Epoch: 0 [12800/60000 (21%)]\tLoss: 0.219303\n",
      "Train Epoch: 0 [25600/60000 (43%)]\tLoss: 0.201229\n",
      "Train Epoch: 0 [38400/60000 (64%)]\tLoss: 0.047194\n",
      "Train Epoch: 0 [51200/60000 (85%)]\tLoss: 0.193267\n",
      "\n",
      "Test set: Average loss: 0.0549, Accuracy: 9829/10000 (98%)\n",
      "\n",
      "Train Epoch: 1 [0/60000 (0%)]\tLoss: 0.158730\n",
      "Train Epoch: 1 [12800/60000 (21%)]\tLoss: 0.123765\n",
      "Train Epoch: 1 [25600/60000 (43%)]\tLoss: 0.011056\n",
      "Train Epoch: 1 [38400/60000 (64%)]\tLoss: 0.037853\n",
      "Train Epoch: 1 [51200/60000 (85%)]\tLoss: 0.015131\n",
      "\n",
      "Test set: Average loss: 0.0373, Accuracy: 9870/10000 (99%)\n",
      "\n",
      "Train Epoch: 2 [0/60000 (0%)]\tLoss: 0.054832\n",
      "Train Epoch: 2 [12800/60000 (21%)]\tLoss: 0.077076\n",
      "Train Epoch: 2 [25600/60000 (43%)]\tLoss: 0.002155\n",
      "Train Epoch: 2 [38400/60000 (64%)]\tLoss: 0.033118\n",
      "Train Epoch: 2 [51200/60000 (85%)]\tLoss: 0.021086\n",
      "\n",
      "Test set: Average loss: 0.0371, Accuracy: 9876/10000 (99%)\n",
      "\n",
      "Train Epoch: 3 [0/60000 (0%)]\tLoss: 0.083926\n",
      "Train Epoch: 3 [12800/60000 (21%)]\tLoss: 0.041648\n",
      "Train Epoch: 3 [25600/60000 (43%)]\tLoss: 0.083084\n",
      "Train Epoch: 3 [38400/60000 (64%)]\tLoss: 0.163990\n",
      "Train Epoch: 3 [51200/60000 (85%)]\tLoss: 0.060899\n",
      "\n",
      "Test set: Average loss: 0.0341, Accuracy: 9903/10000 (99%)\n",
      "\n",
      "Train Epoch: 4 [0/60000 (0%)]\tLoss: 0.014690\n",
      "Train Epoch: 4 [12800/60000 (21%)]\tLoss: 0.129500\n",
      "Train Epoch: 4 [25600/60000 (43%)]\tLoss: 0.010411\n",
      "Train Epoch: 4 [38400/60000 (64%)]\tLoss: 0.020367\n",
      "Train Epoch: 4 [51200/60000 (85%)]\tLoss: 0.006133\n",
      "\n",
      "Test set: Average loss: 0.0313, Accuracy: 9895/10000 (99%)\n",
      "\n",
      "Train Epoch: 5 [0/60000 (0%)]\tLoss: 0.027536\n",
      "Train Epoch: 5 [12800/60000 (21%)]\tLoss: 0.002021\n",
      "Train Epoch: 5 [25600/60000 (43%)]\tLoss: 0.008196\n",
      "Train Epoch: 5 [38400/60000 (64%)]\tLoss: 0.017591\n",
      "Train Epoch: 5 [51200/60000 (85%)]\tLoss: 0.083513\n",
      "\n",
      "Test set: Average loss: 0.0303, Accuracy: 9904/10000 (99%)\n",
      "\n",
      "Train Epoch: 6 [0/60000 (0%)]\tLoss: 0.009435\n",
      "Train Epoch: 6 [12800/60000 (21%)]\tLoss: 0.001300\n",
      "Train Epoch: 6 [25600/60000 (43%)]\tLoss: 0.003684\n",
      "Train Epoch: 6 [38400/60000 (64%)]\tLoss: 0.013813\n",
      "Train Epoch: 6 [51200/60000 (85%)]\tLoss: 0.003746\n",
      "\n",
      "Test set: Average loss: 0.0304, Accuracy: 9907/10000 (99%)\n",
      "\n",
      "Train Epoch: 7 [0/60000 (0%)]\tLoss: 0.006687\n",
      "Train Epoch: 7 [12800/60000 (21%)]\tLoss: 0.029465\n",
      "Train Epoch: 7 [25600/60000 (43%)]\tLoss: 0.009152\n",
      "Train Epoch: 7 [38400/60000 (64%)]\tLoss: 0.027175\n",
      "Train Epoch: 7 [51200/60000 (85%)]\tLoss: 0.000283\n",
      "\n",
      "Test set: Average loss: 0.0307, Accuracy: 9911/10000 (99%)\n",
      "\n",
      "Train Epoch: 8 [0/60000 (0%)]\tLoss: 0.000917\n",
      "Train Epoch: 8 [12800/60000 (21%)]\tLoss: 0.020815\n",
      "Train Epoch: 8 [25600/60000 (43%)]\tLoss: 0.008420\n",
      "Train Epoch: 8 [38400/60000 (64%)]\tLoss: 0.013134\n",
      "Train Epoch: 8 [51200/60000 (85%)]\tLoss: 0.014614\n",
      "\n",
      "Test set: Average loss: 0.0313, Accuracy: 9910/10000 (99%)\n",
      "\n",
      "Train Epoch: 9 [0/60000 (0%)]\tLoss: 0.003669\n",
      "Train Epoch: 9 [12800/60000 (21%)]\tLoss: 0.022229\n",
      "Train Epoch: 9 [25600/60000 (43%)]\tLoss: 0.017597\n",
      "Train Epoch: 9 [38400/60000 (64%)]\tLoss: 0.004860\n",
      "Train Epoch: 9 [51200/60000 (85%)]\tLoss: 0.002586\n",
      "\n",
      "Test set: Average loss: 0.0313, Accuracy: 9916/10000 (99%)\n",
      "\n",
      "Train Epoch: 10 [0/60000 (0%)]\tLoss: 0.022816\n",
      "Train Epoch: 10 [12800/60000 (21%)]\tLoss: 0.011771\n",
      "Train Epoch: 10 [25600/60000 (43%)]\tLoss: 0.032256\n",
      "Train Epoch: 10 [38400/60000 (64%)]\tLoss: 0.000902\n",
      "Train Epoch: 10 [51200/60000 (85%)]\tLoss: 0.010183\n",
      "\n",
      "Test set: Average loss: 0.0301, Accuracy: 9915/10000 (99%)\n",
      "\n",
      "Train Epoch: 11 [0/60000 (0%)]\tLoss: 0.000265\n",
      "Train Epoch: 11 [12800/60000 (21%)]\tLoss: 0.006484\n",
      "Train Epoch: 11 [25600/60000 (43%)]\tLoss: 0.001561\n",
      "Train Epoch: 11 [38400/60000 (64%)]\tLoss: 0.001357\n",
      "Train Epoch: 11 [51200/60000 (85%)]\tLoss: 0.014935\n",
      "\n",
      "Test set: Average loss: 0.0305, Accuracy: 9910/10000 (99%)\n",
      "\n",
      "Train Epoch: 12 [0/60000 (0%)]\tLoss: 0.123512\n",
      "Train Epoch: 12 [12800/60000 (21%)]\tLoss: 0.024943\n",
      "Train Epoch: 12 [25600/60000 (43%)]\tLoss: 0.013612\n",
      "Train Epoch: 12 [38400/60000 (64%)]\tLoss: 0.015137\n",
      "Train Epoch: 12 [51200/60000 (85%)]\tLoss: 0.002854\n",
      "\n",
      "Test set: Average loss: 0.0304, Accuracy: 9916/10000 (99%)\n",
      "\n",
      "Train Epoch: 13 [0/60000 (0%)]\tLoss: 0.017647\n",
      "Train Epoch: 13 [12800/60000 (21%)]\tLoss: 0.070078\n",
      "Train Epoch: 13 [25600/60000 (43%)]\tLoss: 0.050683\n",
      "Train Epoch: 13 [38400/60000 (64%)]\tLoss: 0.004578\n",
      "Train Epoch: 13 [51200/60000 (85%)]\tLoss: 0.008820\n",
      "\n",
      "Test set: Average loss: 0.0306, Accuracy: 9915/10000 (99%)\n",
      "\n"
     ]
    }
   ],
   "source": [
    "scheduler = StepLR(optimizer, step_size=1, gamma=gamma)\n",
    "for epoch in range(0, epochs):\n",
    "    train(log_interval, model, device, train_loader, optimizer, epoch)\n",
    "    test(model, device, test_loader)\n",
    "    scheduler.step()"
   ]
  },
  {
   "cell_type": "markdown",
   "metadata": {
    "colab_type": "text",
    "id": "7S96PeVOGV2M"
   },
   "source": [
    "***\n",
    "\n",
    "## Save trained model"
   ]
  },
  {
   "cell_type": "code",
   "execution_count": null,
   "metadata": {
    "colab": {},
    "colab_type": "code",
    "id": "1glFRE1fGV2N"
   },
   "outputs": [],
   "source": [
    "torch.save(model.state_dict(), \"mnist_cnn_quant.pt\")"
   ]
  }
 ],
 "metadata": {
  "accelerator": "GPU",
  "colab": {
   "collapsed_sections": [],
   "name": "train.ipynb",
   "provenance": [],
   "toc_visible": true
  },
  "kernelspec": {
   "display_name": "Python 3",
   "language": "python",
   "name": "python3"
  },
  "language_info": {
   "codemirror_mode": {
    "name": "ipython",
    "version": 3
   },
   "file_extension": ".py",
   "mimetype": "text/x-python",
   "name": "python",
   "nbconvert_exporter": "python",
   "pygments_lexer": "ipython3",
   "version": "3.7.6"
  }
 },
 "nbformat": 4,
 "nbformat_minor": 4
}
