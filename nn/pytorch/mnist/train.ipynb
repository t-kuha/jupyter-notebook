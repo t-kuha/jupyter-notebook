{
 "cells": [
  {
   "cell_type": "markdown",
   "metadata": {},
   "source": [
    "# MNIST in PyTorch"
   ]
  },
  {
   "cell_type": "code",
   "execution_count": 17,
   "metadata": {},
   "outputs": [],
   "source": [
    "import os"
   ]
  },
  {
   "cell_type": "code",
   "execution_count": 1,
   "metadata": {},
   "outputs": [],
   "source": [
    "import torch\n",
    "import torch.nn as nn\n",
    "import torch.nn.functional as F\n",
    "import torch.optim as optim\n",
    "from torchvision import datasets, transforms"
   ]
  },
  {
   "cell_type": "markdown",
   "metadata": {},
   "source": [
    "***\n",
    "\n",
    "## Define model etc."
   ]
  },
  {
   "cell_type": "code",
   "execution_count": 2,
   "metadata": {},
   "outputs": [],
   "source": [
    "class Net(nn.Module):\n",
    "    def __init__(self):\n",
    "        super(Net, self).__init__()\n",
    "        self.conv1 = nn.Conv2d(1, 10, kernel_size=5)\n",
    "        self.conv2 = nn.Conv2d(10, 20, kernel_size=5)\n",
    "        self.conv2_drop = nn.Dropout2d()\n",
    "        self.fc1 = nn.Linear(320, 50)\n",
    "        self.fc2 = nn.Linear(50, 10)\n",
    "\n",
    "    def forward(self, x):\n",
    "        x = F.relu(F.max_pool2d(self.conv1(x), 2))\n",
    "        x = F.relu(F.max_pool2d(self.conv2_drop(self.conv2(x)), 2))\n",
    "        x = x.view(-1, 320)\n",
    "        x = F.relu(self.fc1(x))\n",
    "        x = F.dropout(x, training=self.training)\n",
    "        x = self.fc2(x)\n",
    "        return F.log_softmax(x, dim=1)"
   ]
  },
  {
   "cell_type": "code",
   "execution_count": 3,
   "metadata": {},
   "outputs": [],
   "source": [
    "def train(log_interval, model, device, train_loader, optimizer, epoch):\n",
    "    model.train()\n",
    "    for batch_idx, (data, target) in enumerate(train_loader):\n",
    "        data, target = data.to(device), target.to(device)\n",
    "        optimizer.zero_grad()\n",
    "        output = model(data)\n",
    "        loss = F.nll_loss(output, target)\n",
    "        loss.backward()\n",
    "        optimizer.step()\n",
    "        if batch_idx % log_interval == 0:\n",
    "            print('Train Epoch: {} [{}/{} ({:.0f}%)]\\tLoss: {:.6f}'.format(\n",
    "                epoch, batch_idx * len(data), len(train_loader.dataset),\n",
    "                100. * batch_idx / len(train_loader), loss.item()))"
   ]
  },
  {
   "cell_type": "code",
   "execution_count": 4,
   "metadata": {},
   "outputs": [],
   "source": [
    "def test(model, device, test_loader):\n",
    "    model.eval()\n",
    "    test_loss = 0\n",
    "    correct = 0\n",
    "    with torch.no_grad():\n",
    "        for data, target in test_loader:\n",
    "            data, target = data.to(device), target.to(device)\n",
    "            output = model(data)\n",
    "            test_loss += F.nll_loss(output, target, size_average=False).item() # sum up batch loss\n",
    "            pred = output.max(1, keepdim=True)[1] # get the index of the max log-probability\n",
    "            correct += pred.eq(target.view_as(pred)).sum().item()\n",
    "\n",
    "    test_loss /= len(test_loader.dataset)\n",
    "    print('Test set: Average loss: {:.4f}, Accuracy: {}/{} ({:.0f}%)\\n'.format(\n",
    "        test_loss, correct, len(test_loader.dataset),\n",
    "        100. * correct / len(test_loader.dataset)))"
   ]
  },
  {
   "cell_type": "markdown",
   "metadata": {},
   "source": [
    "***\n",
    "\n",
    "## Settings"
   ]
  },
  {
   "cell_type": "code",
   "execution_count": 13,
   "metadata": {},
   "outputs": [],
   "source": [
    "batch_size=64\n",
    "test_batch_size=128\n",
    "data_dir = os.path.join(os.getcwd(), 'data')\n",
    "lr = 0.1\n",
    "momentum = 0.5\n",
    "epochs = 10"
   ]
  },
  {
   "cell_type": "code",
   "execution_count": 6,
   "metadata": {},
   "outputs": [
    {
     "name": "stdout",
     "output_type": "stream",
     "text": [
      "Using GPU...\n"
     ]
    }
   ],
   "source": [
    "use_cuda = torch.cuda.is_available()\n",
    "print('Using GPU...' if use_cuda else 'NOT using GPU...')\n",
    "\n",
    "device = torch.device('cuda:0' if use_cuda else 'cpu')"
   ]
  },
  {
   "cell_type": "code",
   "execution_count": 7,
   "metadata": {},
   "outputs": [
    {
     "data": {
      "text/plain": [
       "<torch._C.Generator at 0x19d6dac6490>"
      ]
     },
     "execution_count": 7,
     "metadata": {},
     "output_type": "execute_result"
    }
   ],
   "source": [
    "seed = 1\n",
    "torch.manual_seed(seed)"
   ]
  },
  {
   "cell_type": "markdown",
   "metadata": {},
   "source": [
    "***\n",
    "\n",
    "## Get dataset"
   ]
  },
  {
   "cell_type": "code",
   "execution_count": 8,
   "metadata": {},
   "outputs": [
    {
     "data": {
      "text/plain": [
       "Dataset MNIST\n",
       "    Number of datapoints: 60000\n",
       "    Root location: ./data\n",
       "    Split: Train"
      ]
     },
     "execution_count": 8,
     "metadata": {},
     "output_type": "execute_result"
    }
   ],
   "source": [
    "# Since torchvision v0.2.1\n",
    "datasets.MNIST(data_dir, download=True)"
   ]
  },
  {
   "cell_type": "code",
   "execution_count": 9,
   "metadata": {},
   "outputs": [],
   "source": [
    "train_loader = torch.utils.data.DataLoader(\n",
    "    datasets.MNIST(\n",
    "        data_dir, train=True, download=True,\n",
    "        transform=transforms.Compose([\n",
    "            transforms.ToTensor(),\n",
    "            transforms.Normalize((0.1307,), (0.3081,))\n",
    "        ])),\n",
    "    batch_size=batch_size, shuffle=True, num_workers=2)"
   ]
  },
  {
   "cell_type": "code",
   "execution_count": 10,
   "metadata": {},
   "outputs": [],
   "source": [
    "test_loader = torch.utils.data.DataLoader(\n",
    "    datasets.MNIST(\n",
    "        data_dir, train=False, \n",
    "        transform=transforms.Compose([\n",
    "            transforms.ToTensor(),\n",
    "            transforms.Normalize((0.1307,), (0.3081,))\n",
    "        ])),\n",
    "    batch_size=test_batch_size, shuffle=True, num_workers=2)"
   ]
  },
  {
   "cell_type": "markdown",
   "metadata": {},
   "source": [
    "***\n",
    "\n",
    "## Start training"
   ]
  },
  {
   "cell_type": "code",
   "execution_count": 11,
   "metadata": {},
   "outputs": [],
   "source": [
    "model = Net().to(device)\n",
    "optimizer = optim.SGD(model.parameters(), lr=lr, momentum=momentum)"
   ]
  },
  {
   "cell_type": "code",
   "execution_count": 16,
   "metadata": {
    "scrolled": true
   },
   "outputs": [
    {
     "name": "stdout",
     "output_type": "stream",
     "text": [
      "Train Epoch: 1 [0/60000 (0%)]\tLoss: 0.173539\n",
      "Train Epoch: 1 [15000/60000 (25%)]\tLoss: 0.110024\n",
      "Train Epoch: 1 [30000/60000 (50%)]\tLoss: 0.200376\n",
      "Train Epoch: 1 [45000/60000 (75%)]\tLoss: 0.167588\n",
      "\n",
      "Test set: Average loss: 0.0384, Accuracy: 9871/10000 (99%)\n",
      "\n",
      "Train Epoch: 2 [0/60000 (0%)]\tLoss: 0.151616\n",
      "Train Epoch: 2 [15000/60000 (25%)]\tLoss: 0.066877\n",
      "Train Epoch: 2 [30000/60000 (50%)]\tLoss: 0.099042\n",
      "Train Epoch: 2 [45000/60000 (75%)]\tLoss: 0.106680\n",
      "\n",
      "Test set: Average loss: 0.0429, Accuracy: 9854/10000 (99%)\n",
      "\n",
      "Train Epoch: 3 [0/60000 (0%)]\tLoss: 0.059298\n",
      "Train Epoch: 3 [15000/60000 (25%)]\tLoss: 0.103964\n",
      "Train Epoch: 3 [30000/60000 (50%)]\tLoss: 0.032571\n",
      "Train Epoch: 3 [45000/60000 (75%)]\tLoss: 0.015689\n",
      "\n",
      "Test set: Average loss: 0.0384, Accuracy: 9874/10000 (99%)\n",
      "\n",
      "Train Epoch: 4 [0/60000 (0%)]\tLoss: 0.048680\n",
      "Train Epoch: 4 [15000/60000 (25%)]\tLoss: 0.231229\n",
      "Train Epoch: 4 [30000/60000 (50%)]\tLoss: 0.110270\n",
      "Train Epoch: 4 [45000/60000 (75%)]\tLoss: 0.026107\n",
      "\n",
      "Test set: Average loss: 0.0385, Accuracy: 9875/10000 (99%)\n",
      "\n",
      "Train Epoch: 5 [0/60000 (0%)]\tLoss: 0.152998\n",
      "Train Epoch: 5 [15000/60000 (25%)]\tLoss: 0.199554\n",
      "Train Epoch: 5 [30000/60000 (50%)]\tLoss: 0.227833\n",
      "Train Epoch: 5 [45000/60000 (75%)]\tLoss: 0.200615\n",
      "\n",
      "Test set: Average loss: 0.0365, Accuracy: 9885/10000 (99%)\n",
      "\n",
      "Train Epoch: 6 [0/60000 (0%)]\tLoss: 0.099453\n",
      "Train Epoch: 6 [15000/60000 (25%)]\tLoss: 0.111508\n",
      "Train Epoch: 6 [30000/60000 (50%)]\tLoss: 0.078496\n",
      "Train Epoch: 6 [45000/60000 (75%)]\tLoss: 0.065431\n",
      "\n",
      "Test set: Average loss: 0.0372, Accuracy: 9864/10000 (99%)\n",
      "\n",
      "Train Epoch: 7 [0/60000 (0%)]\tLoss: 0.035768\n",
      "Train Epoch: 7 [15000/60000 (25%)]\tLoss: 0.205220\n",
      "Train Epoch: 7 [30000/60000 (50%)]\tLoss: 0.077400\n",
      "Train Epoch: 7 [45000/60000 (75%)]\tLoss: 0.148522\n",
      "\n",
      "Test set: Average loss: 0.0395, Accuracy: 9872/10000 (99%)\n",
      "\n",
      "Train Epoch: 8 [0/60000 (0%)]\tLoss: 0.037705\n",
      "Train Epoch: 8 [15000/60000 (25%)]\tLoss: 0.144387\n",
      "Train Epoch: 8 [30000/60000 (50%)]\tLoss: 0.185547\n",
      "Train Epoch: 8 [45000/60000 (75%)]\tLoss: 0.043278\n",
      "\n",
      "Test set: Average loss: 0.0384, Accuracy: 9880/10000 (99%)\n",
      "\n",
      "Train Epoch: 9 [0/60000 (0%)]\tLoss: 0.065445\n",
      "Train Epoch: 9 [15000/60000 (25%)]\tLoss: 0.178462\n",
      "Train Epoch: 9 [30000/60000 (50%)]\tLoss: 0.327920\n",
      "Train Epoch: 9 [45000/60000 (75%)]\tLoss: 0.029378\n",
      "\n",
      "Test set: Average loss: 0.0364, Accuracy: 9879/10000 (99%)\n",
      "\n",
      "Train Epoch: 10 [0/60000 (0%)]\tLoss: 0.113548\n",
      "Train Epoch: 10 [15000/60000 (25%)]\tLoss: 0.054244\n",
      "Train Epoch: 10 [30000/60000 (50%)]\tLoss: 0.148957\n",
      "Train Epoch: 10 [45000/60000 (75%)]\tLoss: 0.089808\n",
      "\n",
      "Test set: Average loss: 0.0382, Accuracy: 9869/10000 (99%)\n",
      "\n"
     ]
    }
   ],
   "source": [
    "for epoch in range(0, epochs):\n",
    "    train(500, model, device, train_loader, optimizer, epoch)\n",
    "    test(model, device, test_loader)"
   ]
  },
  {
   "cell_type": "markdown",
   "metadata": {},
   "source": [
    "***\n",
    "\n",
    "## Save trained model"
   ]
  },
  {
   "cell_type": "code",
   "execution_count": 15,
   "metadata": {},
   "outputs": [],
   "source": [
    "torch.save(model.state_dict(), 'mnist.pt')"
   ]
  },
  {
   "cell_type": "code",
   "execution_count": null,
   "metadata": {},
   "outputs": [],
   "source": []
  }
 ],
 "metadata": {
  "kernelspec": {
   "display_name": "Python 3",
   "language": "python",
   "name": "python3"
  },
  "language_info": {
   "codemirror_mode": {
    "name": "ipython",
    "version": 3
   },
   "file_extension": ".py",
   "mimetype": "text/x-python",
   "name": "python",
   "nbconvert_exporter": "python",
   "pygments_lexer": "ipython3",
   "version": "3.7.4"
  }
 },
 "nbformat": 4,
 "nbformat_minor": 4
}
