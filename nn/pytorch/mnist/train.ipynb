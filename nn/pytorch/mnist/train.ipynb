{
  "nbformat": 4,
  "nbformat_minor": 0,
  "metadata": {
    "kernelspec": {
      "name": "python3",
      "display_name": "Python 3"
    },
    "language_info": {
      "codemirror_mode": {
        "name": "ipython",
        "version": 3
      },
      "file_extension": ".py",
      "mimetype": "text/x-python",
      "name": "python",
      "nbconvert_exporter": "python",
      "pygments_lexer": "ipython3",
      "version": "3.7.4"
    },
    "colab": {
      "name": "train.ipynb",
      "provenance": [],
      "collapsed_sections": [],
      "toc_visible": true
    },
    "accelerator": "GPU"
  },
  "cells": [
    {
      "cell_type": "markdown",
      "metadata": {
        "id": "L2OJaDGpGV1w",
        "colab_type": "text"
      },
      "source": [
        "# MNIST in PyTorch\n",
        "\n",
        "- Based on https://github.com/pytorch/examples/blob/master/mnist/main.py"
      ]
    },
    {
      "cell_type": "code",
      "metadata": {
        "id": "-5oiRXmvGV1x",
        "colab_type": "code",
        "colab": {}
      },
      "source": [
        "import os"
      ],
      "execution_count": 0,
      "outputs": []
    },
    {
      "cell_type": "code",
      "metadata": {
        "id": "8LvD8utjGV1z",
        "colab_type": "code",
        "colab": {}
      },
      "source": [
        "import torch\n",
        "import torch.nn as nn\n",
        "import torch.nn.functional as F\n",
        "import torch.optim as optim\n",
        "from torchvision import datasets, transforms\n",
        "from torch.optim.lr_scheduler import StepLR"
      ],
      "execution_count": 0,
      "outputs": []
    },
    {
      "cell_type": "markdown",
      "metadata": {
        "id": "X6yUrHp-GV12",
        "colab_type": "text"
      },
      "source": [
        "***\n",
        "\n",
        "## Define model etc."
      ]
    },
    {
      "cell_type": "code",
      "metadata": {
        "id": "eH2DXoWiGV12",
        "colab_type": "code",
        "colab": {}
      },
      "source": [
        "class Net(nn.Module):\n",
        "    def __init__(self):\n",
        "        super(Net, self).__init__()\n",
        "        self.conv1 = nn.Conv2d(1, 32, 3, 1)\n",
        "        self.conv2 = nn.Conv2d(32, 64, 3, 1)\n",
        "        self.dropout1 = nn.Dropout2d(0.25)\n",
        "        self.dropout2 = nn.Dropout2d(0.5)\n",
        "        self.fc1 = nn.Linear(9216, 128)\n",
        "        self.fc2 = nn.Linear(128, 10)\n",
        "\n",
        "    def forward(self, x):\n",
        "        x = self.conv1(x)\n",
        "        x = F.relu(x)\n",
        "        x = self.conv2(x)\n",
        "        x = F.max_pool2d(x, 2)\n",
        "        x = self.dropout1(x)\n",
        "        x = torch.flatten(x, 1)\n",
        "        x = self.fc1(x)\n",
        "        x = F.relu(x)\n",
        "        x = self.dropout2(x)\n",
        "        x = self.fc2(x)\n",
        "        output = F.log_softmax(x, dim=1)\n",
        "        return output"
      ],
      "execution_count": 0,
      "outputs": []
    },
    {
      "cell_type": "code",
      "metadata": {
        "id": "K5qg3lPdGV14",
        "colab_type": "code",
        "colab": {}
      },
      "source": [
        "def train(log_interval, model, device, train_loader, optimizer, epoch):\n",
        "    model.train()\n",
        "    for batch_idx, (data, target) in enumerate(train_loader):\n",
        "        data, target = data.to(device), target.to(device)\n",
        "        optimizer.zero_grad()\n",
        "        output = model(data)\n",
        "        loss = F.nll_loss(output, target)\n",
        "        loss.backward()\n",
        "        optimizer.step()\n",
        "        if batch_idx % log_interval == 0:\n",
        "            print('Train Epoch: {} [{}/{} ({:.0f}%)]\\tLoss: {:.6f}'.format(\n",
        "                epoch, batch_idx * len(data), len(train_loader.dataset),\n",
        "                100. * batch_idx / len(train_loader), loss.item()))\n"
      ],
      "execution_count": 0,
      "outputs": []
    },
    {
      "cell_type": "code",
      "metadata": {
        "id": "V-rf7b2LGV16",
        "colab_type": "code",
        "colab": {}
      },
      "source": [
        "def test(model, device, test_loader):\n",
        "    model.eval()\n",
        "    test_loss = 0\n",
        "    correct = 0\n",
        "    with torch.no_grad():\n",
        "        for data, target in test_loader:\n",
        "            data, target = data.to(device), target.to(device)\n",
        "            output = model(data)\n",
        "            test_loss += F.nll_loss(output, target, reduction='sum').item()  # sum up batch loss\n",
        "            pred = output.argmax(dim=1, keepdim=True)  # get the index of the max log-probability\n",
        "            correct += pred.eq(target.view_as(pred)).sum().item()\n",
        "\n",
        "    test_loss /= len(test_loader.dataset)\n",
        "\n",
        "    print('\\nTest set: Average loss: {:.4f}, Accuracy: {}/{} ({:.0f}%)\\n'.format(\n",
        "        test_loss, correct, len(test_loader.dataset),\n",
        "        100. * correct / len(test_loader.dataset)))"
      ],
      "execution_count": 0,
      "outputs": []
    },
    {
      "cell_type": "markdown",
      "metadata": {
        "id": "Bq7SM4c2GV18",
        "colab_type": "text"
      },
      "source": [
        "***\n",
        "\n",
        "## Settings"
      ]
    },
    {
      "cell_type": "code",
      "metadata": {
        "id": "GNui9IlPGV19",
        "colab_type": "code",
        "colab": {}
      },
      "source": [
        "batch_size=64\n",
        "test_batch_size=1000\n",
        "epochs = 14\n",
        "lr = 1\n",
        "gamma = 0.7\n",
        "seed = 1\n",
        "log_interval = 200\n",
        "\n",
        "data_dir = os.path.join(os.getcwd(), 'data')"
      ],
      "execution_count": 0,
      "outputs": []
    },
    {
      "cell_type": "code",
      "metadata": {
        "id": "ieJveUGFGV1-",
        "colab_type": "code",
        "outputId": "6916f13c-7a6a-4745-d6bf-e8ff8ef8ff3c",
        "colab": {
          "base_uri": "https://localhost:8080/",
          "height": 34
        }
      },
      "source": [
        "use_cuda = torch.cuda.is_available()\n",
        "print('Using GPU...' if use_cuda else 'NOT using GPU...')\n",
        "\n",
        "device = torch.device('cuda:0' if use_cuda else 'cpu')\n",
        "kwargs = {'num_workers': 1, 'pin_memory': True} if use_cuda else {}"
      ],
      "execution_count": 7,
      "outputs": [
        {
          "output_type": "stream",
          "text": [
            "Using GPU...\n"
          ],
          "name": "stdout"
        }
      ]
    },
    {
      "cell_type": "code",
      "metadata": {
        "id": "7KRQTdNKGV2B",
        "colab_type": "code",
        "outputId": "690ba26d-2e52-4615-d1ea-7eb3968fe9ad",
        "colab": {
          "base_uri": "https://localhost:8080/",
          "height": 34
        }
      },
      "source": [
        "torch.manual_seed(seed)"
      ],
      "execution_count": 8,
      "outputs": [
        {
          "output_type": "execute_result",
          "data": {
            "text/plain": [
              "<torch._C.Generator at 0x7f0ab2f921f0>"
            ]
          },
          "metadata": {
            "tags": []
          },
          "execution_count": 8
        }
      ]
    },
    {
      "cell_type": "markdown",
      "metadata": {
        "id": "cQ7cJOg7GV2D",
        "colab_type": "text"
      },
      "source": [
        "***\n",
        "\n",
        "## Get dataset"
      ]
    },
    {
      "cell_type": "code",
      "metadata": {
        "id": "powuaDIaGV2D",
        "colab_type": "code",
        "outputId": "90c763dd-8664-429d-ea39-92753c76ae64",
        "colab": {
          "base_uri": "https://localhost:8080/",
          "height": 343
        }
      },
      "source": [
        "# Since torchvision v0.2.1\n",
        "datasets.MNIST(data_dir, download=True)"
      ],
      "execution_count": 9,
      "outputs": [
        {
          "output_type": "stream",
          "text": [
            "\r0it [00:00, ?it/s]"
          ],
          "name": "stderr"
        },
        {
          "output_type": "stream",
          "text": [
            "Downloading http://yann.lecun.com/exdb/mnist/train-images-idx3-ubyte.gz to /content/data/MNIST/raw/train-images-idx3-ubyte.gz\n"
          ],
          "name": "stdout"
        },
        {
          "output_type": "stream",
          "text": [
            "9920512it [00:01, 8616345.72it/s]                            \n"
          ],
          "name": "stderr"
        },
        {
          "output_type": "stream",
          "text": [
            "Extracting /content/data/MNIST/raw/train-images-idx3-ubyte.gz to /content/data/MNIST/raw\n"
          ],
          "name": "stdout"
        },
        {
          "output_type": "stream",
          "text": [
            "  0%|          | 0/28881 [00:00<?, ?it/s]"
          ],
          "name": "stderr"
        },
        {
          "output_type": "stream",
          "text": [
            "Downloading http://yann.lecun.com/exdb/mnist/train-labels-idx1-ubyte.gz to /content/data/MNIST/raw/train-labels-idx1-ubyte.gz\n"
          ],
          "name": "stdout"
        },
        {
          "output_type": "stream",
          "text": [
            "32768it [00:00, 129094.90it/s]           \n",
            "  0%|          | 0/1648877 [00:00<?, ?it/s]"
          ],
          "name": "stderr"
        },
        {
          "output_type": "stream",
          "text": [
            "Extracting /content/data/MNIST/raw/train-labels-idx1-ubyte.gz to /content/data/MNIST/raw\n",
            "Downloading http://yann.lecun.com/exdb/mnist/t10k-images-idx3-ubyte.gz to /content/data/MNIST/raw/t10k-images-idx3-ubyte.gz\n"
          ],
          "name": "stdout"
        },
        {
          "output_type": "stream",
          "text": [
            "1654784it [00:00, 2130695.19it/s]                            \n",
            "0it [00:00, ?it/s]"
          ],
          "name": "stderr"
        },
        {
          "output_type": "stream",
          "text": [
            "Extracting /content/data/MNIST/raw/t10k-images-idx3-ubyte.gz to /content/data/MNIST/raw\n",
            "Downloading http://yann.lecun.com/exdb/mnist/t10k-labels-idx1-ubyte.gz to /content/data/MNIST/raw/t10k-labels-idx1-ubyte.gz\n"
          ],
          "name": "stdout"
        },
        {
          "output_type": "stream",
          "text": [
            "8192it [00:00, 49305.67it/s]            \n"
          ],
          "name": "stderr"
        },
        {
          "output_type": "stream",
          "text": [
            "Extracting /content/data/MNIST/raw/t10k-labels-idx1-ubyte.gz to /content/data/MNIST/raw\n",
            "Processing...\n",
            "Done!\n"
          ],
          "name": "stdout"
        },
        {
          "output_type": "execute_result",
          "data": {
            "text/plain": [
              "Dataset MNIST\n",
              "    Number of datapoints: 60000\n",
              "    Root location: /content/data\n",
              "    Split: Train"
            ]
          },
          "metadata": {
            "tags": []
          },
          "execution_count": 9
        }
      ]
    },
    {
      "cell_type": "code",
      "metadata": {
        "id": "7mQpxKiWGV2F",
        "colab_type": "code",
        "colab": {}
      },
      "source": [
        "train_loader = torch.utils.data.DataLoader(\n",
        "    datasets.MNIST(\n",
        "        data_dir, train=True, download=True,\n",
        "        transform=transforms.Compose([\n",
        "            transforms.ToTensor(),\n",
        "            transforms.Normalize((0.1307,), (0.3081,))\n",
        "        ])),\n",
        "    batch_size=batch_size, shuffle=True, num_workers=2)\n",
        "\n",
        "test_loader = torch.utils.data.DataLoader(\n",
        "    datasets.MNIST(\n",
        "        data_dir, train=False, \n",
        "        transform=transforms.Compose([\n",
        "            transforms.ToTensor(),\n",
        "            transforms.Normalize((0.1307,), (0.3081,))\n",
        "        ])),\n",
        "    batch_size=test_batch_size, shuffle=True, num_workers=2)"
      ],
      "execution_count": 0,
      "outputs": []
    },
    {
      "cell_type": "markdown",
      "metadata": {
        "id": "0GzoTU80GV2I",
        "colab_type": "text"
      },
      "source": [
        "***\n",
        "\n",
        "## Start training"
      ]
    },
    {
      "cell_type": "code",
      "metadata": {
        "id": "_N2LaYlqGV2J",
        "colab_type": "code",
        "colab": {}
      },
      "source": [
        "model = Net().to(device)\n",
        "optimizer = optim.Adadelta(model.parameters(), lr=lr)\n",
        "# optimizer = optim.SGD(model.parameters(), lr=lr, momentum=momentum)"
      ],
      "execution_count": 0,
      "outputs": []
    },
    {
      "cell_type": "code",
      "metadata": {
        "scrolled": true,
        "id": "p5-VNAwwGV2K",
        "colab_type": "code",
        "outputId": "f6e642c0-e0c6-4e95-d711-2ba7558d735c",
        "colab": {
          "base_uri": "https://localhost:8080/",
          "height": 1000
        }
      },
      "source": [
        "scheduler = StepLR(optimizer, step_size=1, gamma=gamma)\n",
        "for epoch in range(0, epochs):\n",
        "    train(log_interval, model, device, train_loader, optimizer, epoch)\n",
        "    test(model, device, test_loader)\n",
        "    scheduler.step()"
      ],
      "execution_count": 12,
      "outputs": [
        {
          "output_type": "stream",
          "text": [
            "Train Epoch: 0 [0/60000 (0%)]\tLoss: 2.327989\n",
            "Train Epoch: 0 [12800/60000 (21%)]\tLoss: 0.326843\n",
            "Train Epoch: 0 [25600/60000 (43%)]\tLoss: 0.185185\n",
            "Train Epoch: 0 [38400/60000 (64%)]\tLoss: 0.145754\n",
            "Train Epoch: 0 [51200/60000 (85%)]\tLoss: 0.216581\n",
            "\n",
            "Test set: Average loss: 0.0583, Accuracy: 9811/10000 (98%)\n",
            "\n",
            "Train Epoch: 1 [0/60000 (0%)]\tLoss: 0.158418\n",
            "Train Epoch: 1 [12800/60000 (21%)]\tLoss: 0.016682\n",
            "Train Epoch: 1 [25600/60000 (43%)]\tLoss: 0.014943\n",
            "Train Epoch: 1 [38400/60000 (64%)]\tLoss: 0.080406\n",
            "Train Epoch: 1 [51200/60000 (85%)]\tLoss: 0.201064\n",
            "\n",
            "Test set: Average loss: 0.0396, Accuracy: 9875/10000 (99%)\n",
            "\n",
            "Train Epoch: 2 [0/60000 (0%)]\tLoss: 0.048407\n",
            "Train Epoch: 2 [12800/60000 (21%)]\tLoss: 0.046408\n",
            "Train Epoch: 2 [25600/60000 (43%)]\tLoss: 0.014332\n",
            "Train Epoch: 2 [38400/60000 (64%)]\tLoss: 0.044078\n",
            "Train Epoch: 2 [51200/60000 (85%)]\tLoss: 0.018092\n",
            "\n",
            "Test set: Average loss: 0.0344, Accuracy: 9895/10000 (99%)\n",
            "\n",
            "Train Epoch: 3 [0/60000 (0%)]\tLoss: 0.028440\n",
            "Train Epoch: 3 [12800/60000 (21%)]\tLoss: 0.067505\n",
            "Train Epoch: 3 [25600/60000 (43%)]\tLoss: 0.002588\n",
            "Train Epoch: 3 [38400/60000 (64%)]\tLoss: 0.006471\n",
            "Train Epoch: 3 [51200/60000 (85%)]\tLoss: 0.012226\n",
            "\n",
            "Test set: Average loss: 0.0354, Accuracy: 9893/10000 (99%)\n",
            "\n",
            "Train Epoch: 4 [0/60000 (0%)]\tLoss: 0.042367\n",
            "Train Epoch: 4 [12800/60000 (21%)]\tLoss: 0.016059\n",
            "Train Epoch: 4 [25600/60000 (43%)]\tLoss: 0.041734\n",
            "Train Epoch: 4 [38400/60000 (64%)]\tLoss: 0.006022\n",
            "Train Epoch: 4 [51200/60000 (85%)]\tLoss: 0.023107\n",
            "\n",
            "Test set: Average loss: 0.0319, Accuracy: 9911/10000 (99%)\n",
            "\n",
            "Train Epoch: 5 [0/60000 (0%)]\tLoss: 0.070714\n",
            "Train Epoch: 5 [12800/60000 (21%)]\tLoss: 0.076530\n",
            "Train Epoch: 5 [25600/60000 (43%)]\tLoss: 0.009077\n",
            "Train Epoch: 5 [38400/60000 (64%)]\tLoss: 0.022977\n",
            "Train Epoch: 5 [51200/60000 (85%)]\tLoss: 0.012849\n",
            "\n",
            "Test set: Average loss: 0.0338, Accuracy: 9903/10000 (99%)\n",
            "\n",
            "Train Epoch: 6 [0/60000 (0%)]\tLoss: 0.001094\n",
            "Train Epoch: 6 [12800/60000 (21%)]\tLoss: 0.048505\n",
            "Train Epoch: 6 [25600/60000 (43%)]\tLoss: 0.055670\n",
            "Train Epoch: 6 [38400/60000 (64%)]\tLoss: 0.529916\n",
            "Train Epoch: 6 [51200/60000 (85%)]\tLoss: 0.006290\n",
            "\n",
            "Test set: Average loss: 0.0309, Accuracy: 9907/10000 (99%)\n",
            "\n",
            "Train Epoch: 7 [0/60000 (0%)]\tLoss: 0.011044\n",
            "Train Epoch: 7 [12800/60000 (21%)]\tLoss: 0.015032\n",
            "Train Epoch: 7 [25600/60000 (43%)]\tLoss: 0.010289\n",
            "Train Epoch: 7 [38400/60000 (64%)]\tLoss: 0.004365\n",
            "Train Epoch: 7 [51200/60000 (85%)]\tLoss: 0.007367\n",
            "\n",
            "Test set: Average loss: 0.0299, Accuracy: 9914/10000 (99%)\n",
            "\n",
            "Train Epoch: 8 [0/60000 (0%)]\tLoss: 0.019975\n",
            "Train Epoch: 8 [12800/60000 (21%)]\tLoss: 0.016722\n",
            "Train Epoch: 8 [25600/60000 (43%)]\tLoss: 0.044840\n",
            "Train Epoch: 8 [38400/60000 (64%)]\tLoss: 0.010929\n",
            "Train Epoch: 8 [51200/60000 (85%)]\tLoss: 0.000511\n",
            "\n",
            "Test set: Average loss: 0.0294, Accuracy: 9909/10000 (99%)\n",
            "\n",
            "Train Epoch: 9 [0/60000 (0%)]\tLoss: 0.039413\n",
            "Train Epoch: 9 [12800/60000 (21%)]\tLoss: 0.042177\n",
            "Train Epoch: 9 [25600/60000 (43%)]\tLoss: 0.009713\n",
            "Train Epoch: 9 [38400/60000 (64%)]\tLoss: 0.153566\n",
            "Train Epoch: 9 [51200/60000 (85%)]\tLoss: 0.086269\n",
            "\n",
            "Test set: Average loss: 0.0294, Accuracy: 9912/10000 (99%)\n",
            "\n",
            "Train Epoch: 10 [0/60000 (0%)]\tLoss: 0.006693\n",
            "Train Epoch: 10 [12800/60000 (21%)]\tLoss: 0.014871\n",
            "Train Epoch: 10 [25600/60000 (43%)]\tLoss: 0.025677\n",
            "Train Epoch: 10 [38400/60000 (64%)]\tLoss: 0.007806\n",
            "Train Epoch: 10 [51200/60000 (85%)]\tLoss: 0.006190\n",
            "\n",
            "Test set: Average loss: 0.0298, Accuracy: 9913/10000 (99%)\n",
            "\n",
            "Train Epoch: 11 [0/60000 (0%)]\tLoss: 0.000501\n",
            "Train Epoch: 11 [12800/60000 (21%)]\tLoss: 0.007573\n",
            "Train Epoch: 11 [25600/60000 (43%)]\tLoss: 0.044302\n",
            "Train Epoch: 11 [38400/60000 (64%)]\tLoss: 0.004778\n",
            "Train Epoch: 11 [51200/60000 (85%)]\tLoss: 0.017544\n",
            "\n",
            "Test set: Average loss: 0.0291, Accuracy: 9915/10000 (99%)\n",
            "\n",
            "Train Epoch: 12 [0/60000 (0%)]\tLoss: 0.005818\n",
            "Train Epoch: 12 [12800/60000 (21%)]\tLoss: 0.002804\n",
            "Train Epoch: 12 [25600/60000 (43%)]\tLoss: 0.019356\n",
            "Train Epoch: 12 [38400/60000 (64%)]\tLoss: 0.024110\n",
            "Train Epoch: 12 [51200/60000 (85%)]\tLoss: 0.002419\n",
            "\n",
            "Test set: Average loss: 0.0289, Accuracy: 9915/10000 (99%)\n",
            "\n",
            "Train Epoch: 13 [0/60000 (0%)]\tLoss: 0.075330\n",
            "Train Epoch: 13 [12800/60000 (21%)]\tLoss: 0.002293\n",
            "Train Epoch: 13 [25600/60000 (43%)]\tLoss: 0.019193\n",
            "Train Epoch: 13 [38400/60000 (64%)]\tLoss: 0.010807\n",
            "Train Epoch: 13 [51200/60000 (85%)]\tLoss: 0.005316\n",
            "\n",
            "Test set: Average loss: 0.0287, Accuracy: 9913/10000 (99%)\n",
            "\n"
          ],
          "name": "stdout"
        }
      ]
    },
    {
      "cell_type": "markdown",
      "metadata": {
        "id": "7S96PeVOGV2M",
        "colab_type": "text"
      },
      "source": [
        "***\n",
        "\n",
        "## Save trained model"
      ]
    },
    {
      "cell_type": "code",
      "metadata": {
        "id": "1glFRE1fGV2N",
        "colab_type": "code",
        "colab": {}
      },
      "source": [
        "torch.save(model.state_dict(), \"mnist_cnn.pt\")"
      ],
      "execution_count": 0,
      "outputs": []
    }
  ]
}