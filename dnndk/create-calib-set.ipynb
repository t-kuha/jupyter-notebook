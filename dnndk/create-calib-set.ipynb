{
 "cells": [
  {
   "cell_type": "markdown",
   "metadata": {},
   "source": [
    "# Create calibration dataset for DNNDK"
   ]
  },
  {
   "cell_type": "code",
   "execution_count": 21,
   "metadata": {},
   "outputs": [],
   "source": [
    "import tensorflow as tf"
   ]
  },
  {
   "cell_type": "code",
   "execution_count": 22,
   "metadata": {},
   "outputs": [],
   "source": [
    "import os\n",
    "import shutil\n",
    "import glob"
   ]
  },
  {
   "cell_type": "code",
   "execution_count": 23,
   "metadata": {},
   "outputs": [],
   "source": [
    "import random"
   ]
  },
  {
   "cell_type": "code",
   "execution_count": 24,
   "metadata": {},
   "outputs": [],
   "source": [
    "from tqdm import tqdm"
   ]
  },
  {
   "cell_type": "code",
   "execution_count": 25,
   "metadata": {},
   "outputs": [
    {
     "name": "stdout",
     "output_type": "stream",
     "text": [
      "TensorFlow version: 1.14.0\n"
     ]
    }
   ],
   "source": [
    "print(\"TensorFlow version: %s\" % tf.__version__)"
   ]
  },
  {
   "cell_type": "markdown",
   "metadata": {},
   "source": [
    "***\n",
    "\n",
    "- Settings"
   ]
  },
  {
   "cell_type": "code",
   "execution_count": 26,
   "metadata": {},
   "outputs": [],
   "source": [
    "dir_train = \"D:\\\\dataset\\\\imagenet\\\\train\""
   ]
  },
  {
   "cell_type": "code",
   "execution_count": 27,
   "metadata": {},
   "outputs": [],
   "source": [
    "output_dir = '_calib'"
   ]
  },
  {
   "cell_type": "code",
   "execution_count": 28,
   "metadata": {},
   "outputs": [],
   "source": [
    "image_list = 'calib.txt'"
   ]
  },
  {
   "cell_type": "code",
   "execution_count": 29,
   "metadata": {},
   "outputs": [],
   "source": [
    "img_size = 224"
   ]
  },
  {
   "cell_type": "markdown",
   "metadata": {},
   "source": [
    "- List calibration images"
   ]
  },
  {
   "cell_type": "code",
   "execution_count": 30,
   "metadata": {},
   "outputs": [],
   "source": [
    "if os.path.exists(output_dir):\n",
    "    shutil.rmtree(output_dir)\n",
    "os.mkdir(output_dir)"
   ]
  },
  {
   "cell_type": "code",
   "execution_count": 31,
   "metadata": {},
   "outputs": [],
   "source": [
    "# Enumerate sub directories\n",
    "dirs = glob.glob(os.path.join(dir_train, '**', ''), recursive=False)"
   ]
  },
  {
   "cell_type": "code",
   "execution_count": 32,
   "metadata": {},
   "outputs": [],
   "source": [
    "calib_imgs = list()\n",
    "for d in dirs:\n",
    "    imgs = glob.glob(os.path.join(d, '*.JPEG'))\n",
    "    calib_imgs.append( imgs[int(random.uniform(0, len(imgs) - 1))] )"
   ]
  },
  {
   "cell_type": "markdown",
   "metadata": {},
   "source": [
    "- Save to destination folder after resizing"
   ]
  },
  {
   "cell_type": "code",
   "execution_count": 33,
   "metadata": {},
   "outputs": [],
   "source": [
    "tf.enable_eager_execution()"
   ]
  },
  {
   "cell_type": "code",
   "execution_count": 34,
   "metadata": {},
   "outputs": [],
   "source": [
    "def calc_new_size(img, smallest_side):\n",
    "    height = tf.cast(img.shape[0], dtype=tf.float32)  # Height\n",
    "    width =  tf.cast(img.shape[1], dtype=tf.float32)  # Width\n",
    "    smallest_side = tf.cast(smallest_side, dtype=tf.float32)\n",
    "    scale = tf.cond(tf.greater(height, width),\n",
    "                  lambda: smallest_side / width,\n",
    "                  lambda: smallest_side / height)\n",
    "\n",
    "    new_height = tf.multiply(height, scale)\n",
    "    new_width = tf.multiply(width, scale)\n",
    "\n",
    "    offset_h = tf.cast(tf.subtract(new_height, smallest_side) / 2, tf.int32)\n",
    "    offset_w = tf.cast(tf.subtract(new_width, smallest_side) / 2, tf.int32)\n",
    "    \n",
    "    new_height = tf.cast(new_height, tf.int32)\n",
    "    new_width  = tf.cast(new_width, tf.int32)\n",
    "    \n",
    "    return new_height, new_width, offset_h, offset_w"
   ]
  },
  {
   "cell_type": "code",
   "execution_count": 35,
   "metadata": {},
   "outputs": [
    {
     "name": "stderr",
     "output_type": "stream",
     "text": [
      "Progress: 100%|████████████████████████████████████████████████████████████████████| 1000/1000 [02:21<00:00,  6.58it/s]"
     ]
    }
   ],
   "source": [
    "bar = tqdm(total = len(calib_imgs))\n",
    "bar.set_description('Progress')\n",
    "\n",
    "for img_path in calib_imgs:\n",
    "    with tf.gfile.GFile(img_path, 'rb') as fr:\n",
    "        img = tf.image.decode_image(fr.read())\n",
    "\n",
    "        # Calculate Offset & size after resize\n",
    "        new_height, new_width, offset_h, offset_w = calc_new_size(img, img_size + 1)\n",
    "\n",
    "        # expand_dims(): Input to resize_bilinear must be a 4-D tensor\n",
    "        img_resize = tf.image.resize_bilinear(\n",
    "            tf.expand_dims(img, 0), [new_height, new_width], align_corners=False)\n",
    "\n",
    "        # Crop\n",
    "        img2 = tf.image.crop_to_bounding_box(\n",
    "            img_resize, offset_h, offset_w, img_size, img_size)\n",
    "\n",
    "        # Save as .png\n",
    "        _, name = os.path.split(img_path)\n",
    "        name = os.path.splitext(name)[0]\n",
    "\n",
    "        png_data = tf.image.encode_png(tf.cast(img2[0], dtype=tf.uint8))\n",
    "        with tf.gfile.GFile(os.path.join(output_dir, name + '.png'), 'wb') as fw:\n",
    "            fw.write(png_data.numpy())\n",
    "        \n",
    "    # Update progress bar\n",
    "    bar.update(1)"
   ]
  },
  {
   "cell_type": "code",
   "execution_count": 36,
   "metadata": {},
   "outputs": [],
   "source": [
    "with open(os.path.join(output_dir, image_list), 'w') as f_list:\n",
    "    # Save list of images\n",
    "    _, name = os.path.split(img_path)\n",
    "    name = os.path.splitext(name)[0]\n",
    "    f_list.write(output_dir+'/'+name+'.png'+'\\n')"
   ]
  },
  {
   "cell_type": "code",
   "execution_count": null,
   "metadata": {},
   "outputs": [],
   "source": []
  }
 ],
 "metadata": {
  "kernelspec": {
   "display_name": "Python 3",
   "language": "python",
   "name": "python3"
  },
  "language_info": {
   "codemirror_mode": {
    "name": "ipython",
    "version": 3
   },
   "file_extension": ".py",
   "mimetype": "text/x-python",
   "name": "python",
   "nbconvert_exporter": "python",
   "pygments_lexer": "ipython3",
   "version": "3.7.4"
  }
 },
 "nbformat": 4,
 "nbformat_minor": 4
}
