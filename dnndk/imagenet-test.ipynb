{
 "cells": [
  {
   "cell_type": "markdown",
   "metadata": {},
   "source": [
    "# Evaluation of frozen/quantized graph"
   ]
  },
  {
   "cell_type": "code",
   "execution_count": 1,
   "metadata": {},
   "outputs": [],
   "source": [
    "import os\n",
    "import cv2\n",
    "import numpy as np\n",
    "import urllib"
   ]
  },
  {
   "cell_type": "code",
   "execution_count": 2,
   "metadata": {},
   "outputs": [],
   "source": [
    "import tensorflow as tf"
   ]
  },
  {
   "cell_type": "code",
   "execution_count": 3,
   "metadata": {},
   "outputs": [],
   "source": [
    "# Use CPU\n",
    "os.environ[\"CUDA_VISIBLE_DEVICES\"] = '-1'"
   ]
  },
  {
   "cell_type": "code",
   "execution_count": 4,
   "metadata": {},
   "outputs": [
    {
     "name": "stdout",
     "output_type": "stream",
     "text": [
      "TensorFlow Version: 1.15.0\n"
     ]
    }
   ],
   "source": [
    "print(\"TensorFlow Version: %s\" % tf.__version__)"
   ]
  },
  {
   "cell_type": "markdown",
   "metadata": {},
   "source": [
    "## WordNet ID vs. words vs. class\n",
    "\n",
    "- Figure out class No. from WordNet ID"
   ]
  },
  {
   "cell_type": "code",
   "execution_count": 5,
   "metadata": {},
   "outputs": [],
   "source": [
    "# Class No. vs. word\n",
    "label_file = 'ImageNetLabels.txt'\n",
    "if not os.path.exists(label_file):\n",
    "    dl = urllib.request.urlretrieve(\n",
    "        'https://storage.googleapis.com/download.tensorflow.org/data/ImageNetLabels.txt',\n",
    "        label_file)\n",
    "    \n",
    "imagenet_labels = np.array(open(label_file).read().splitlines())"
   ]
  },
  {
   "cell_type": "code",
   "execution_count": 6,
   "metadata": {},
   "outputs": [],
   "source": [
    "# WordNet ID vs. word\n",
    "words_file = 'words.txt'\n",
    "if not os.path.exists(words_file):\n",
    "    dl = urllib.request.urlretrieve(\n",
    "        'http://image-net.org/archive/words.txt',\n",
    "        words_file)\n",
    "    \n",
    "wn_ids = {}\n",
    "with open(words_file, 'r') as f:\n",
    "    for line in f:\n",
    "        elem = line.split(sep='\\t')\n",
    "        elem[1] = elem[1].replace('\\n', '').rsplit(sep=',')[0]\n",
    "        wn_ids.update( {elem[1]: elem[0]} )"
   ]
  },
  {
   "cell_type": "code",
   "execution_count": 7,
   "metadata": {},
   "outputs": [],
   "source": [
    "wn_id_to_word = {}\n",
    "for lb in imagenet_labels:\n",
    "    wn_id_to_word.update( {wn_ids[lb]: lb} )"
   ]
  },
  {
   "cell_type": "markdown",
   "metadata": {},
   "source": [
    "## Load model"
   ]
  },
  {
   "cell_type": "code",
   "execution_count": 8,
   "metadata": {},
   "outputs": [
    {
     "data": {
      "text/plain": [
       "17085200"
      ]
     },
     "execution_count": 8,
     "metadata": {},
     "output_type": "execute_result"
    }
   ],
   "source": [
    "input_graph_def = tf.Graph().as_graph_def()\n",
    "input_graph_def.ParseFromString(tf.gfile.GFile('frozen.pb', 'rb').read())"
   ]
  },
  {
   "cell_type": "code",
   "execution_count": 9,
   "metadata": {},
   "outputs": [],
   "source": [
    "tf.import_graph_def(input_graph_def, name = '')"
   ]
  },
  {
   "cell_type": "code",
   "execution_count": 10,
   "metadata": {},
   "outputs": [],
   "source": [
    "# Show node names\n",
    "# for node in input_graph_def.node:\n",
    "#     print(node.name)"
   ]
  },
  {
   "cell_type": "code",
   "execution_count": 11,
   "metadata": {},
   "outputs": [],
   "source": [
    "input_node = 'input'\n",
    "output_node = 'MobilenetV1/Predictions/Reshape_1'"
   ]
  },
  {
   "cell_type": "code",
   "execution_count": 12,
   "metadata": {},
   "outputs": [],
   "source": [
    "# Get input & output tensors\n",
    "images_in = tf.get_default_graph().get_tensor_by_name(input_node+':0')\n",
    "output = tf.get_default_graph().get_tensor_by_name(output_node+':0')"
   ]
  },
  {
   "cell_type": "code",
   "execution_count": 13,
   "metadata": {},
   "outputs": [
    {
     "name": "stdout",
     "output_type": "stream",
     "text": [
      "Input  tensor shape: (?, 224, 224, 3)\n",
      "Output tensor shape: (?, 1001)\n"
     ]
    }
   ],
   "source": [
    "print('Input  tensor shape: %s' % images_in.shape)\n",
    "print('Output tensor shape: %s' % output.shape)"
   ]
  },
  {
   "cell_type": "code",
   "execution_count": 14,
   "metadata": {},
   "outputs": [],
   "source": [
    "labels = tf.placeholder(tf.int32, shape=[None, output.shape[1].value])"
   ]
  },
  {
   "cell_type": "markdown",
   "metadata": {},
   "source": [
    "## Load image"
   ]
  },
  {
   "cell_type": "code",
   "execution_count": 15,
   "metadata": {},
   "outputs": [],
   "source": [
    "img_path = os.path.join('_calib', 'n01530575_10101.png')"
   ]
  },
  {
   "cell_type": "code",
   "execution_count": 16,
   "metadata": {},
   "outputs": [],
   "source": [
    "# Load as RGB image\n",
    "img = cv2.imread(img_path)\n",
    "img = cv2.cvtColor(img, cv2.COLOR_BGR2RGB)"
   ]
  },
  {
   "cell_type": "code",
   "execution_count": 17,
   "metadata": {},
   "outputs": [],
   "source": [
    "# Normalization - ImageNet ver.\n",
    "# MEAN_RGB = np.reshape(np.asarray([0.485, 0.456, 0.406]), [1, 1, 3])\n",
    "# STDDEV_RGB = np.reshape(np.asarray([0.229, 0.224, 0.225]), [1, 1, 3])\n",
    "\n",
    "# x_test = img.astype(np.float32)\n",
    "# x_test = np.divide((x_test/255.0 - MEAN_RGB), STDDEV_RGB)\n",
    "# x_test = np.expand_dims(x_test, axis=0)"
   ]
  },
  {
   "cell_type": "code",
   "execution_count": 18,
   "metadata": {},
   "outputs": [],
   "source": [
    "# Normalization - Xilinx ver.\n",
    "x_test = img.astype(np.float32)\n",
    "x_test = 2*(x_test/255.0 - 0.5)\n",
    "x_test = np.expand_dims(x_test, axis=0)"
   ]
  },
  {
   "cell_type": "code",
   "execution_count": 19,
   "metadata": {},
   "outputs": [],
   "source": [
    "# Ground truth\n",
    "y_test = np.zeros(output.shape[1].value)\n",
    "y_test = np.expand_dims(y_test, axis=0)"
   ]
  },
  {
   "cell_type": "code",
   "execution_count": 20,
   "metadata": {},
   "outputs": [],
   "source": [
    "# Get WordNet ID\n",
    "img_id = os.path.split(img_path)[1].split('_')[0]\n",
    "idx = list(wn_id_to_word).index(img_id)\n",
    "y_test[0][idx] = 1\n",
    "# print(idx)"
   ]
  },
  {
   "cell_type": "markdown",
   "metadata": {},
   "source": [
    "***\n",
    "\n",
    "## Inference"
   ]
  },
  {
   "cell_type": "code",
   "execution_count": 21,
   "metadata": {},
   "outputs": [],
   "source": [
    "# top 5 and top 1 accuracy\n",
    "in_top5 = tf.nn.in_top_k(predictions=output, targets=tf.argmax(labels, 1), k=5)\n",
    "in_top1 = tf.nn.in_top_k(predictions=output, targets=tf.argmax(labels, 1), k=1)\n",
    "top5_acc = tf.reduce_mean(tf.cast(in_top5, tf.float32))\n",
    "top1_acc = tf.reduce_mean(tf.cast(in_top1, tf.float32))"
   ]
  },
  {
   "cell_type": "code",
   "execution_count": 22,
   "metadata": {},
   "outputs": [],
   "source": [
    "# Create the Computational graph\n",
    "with tf.Session() as sess:\n",
    "    sess.run(tf.initializers.global_variables())\n",
    "\n",
    "    feed_dict = {images_in: x_test, labels: y_test}\n",
    "    t5_acc, t1_acc, logits = sess.run([top5_acc, top1_acc, output], feed_dict)\n",
    "\n",
    "#     print ('Top 1 accuracy with validation set: {:1.4f}'.format(t1_acc))\n",
    "#     print ('Top 5 accuracy with validation set: {:1.4f}'.format(t5_acc))"
   ]
  },
  {
   "cell_type": "markdown",
   "metadata": {},
   "source": [
    "***\n",
    "\n",
    "## Show result"
   ]
  },
  {
   "cell_type": "code",
   "execution_count": 23,
   "metadata": {},
   "outputs": [
    {
     "name": "stdout",
     "output_type": "stream",
     "text": [
      "Top 1 accuracy with validation set: 1.0000\n",
      "Top 5 accuracy with validation set: 1.0000\n"
     ]
    }
   ],
   "source": [
    "print ('Top 1 accuracy with validation set: {:1.4f}'.format(t1_acc))\n",
    "print ('Top 5 accuracy with validation set: {:1.4f}'.format(t5_acc))"
   ]
  },
  {
   "cell_type": "code",
   "execution_count": 24,
   "metadata": {},
   "outputs": [
    {
     "name": "stdout",
     "output_type": "stream",
     "text": [
      "brambling: 0.9999\n"
     ]
    }
   ],
   "source": [
    "result = np.argmax(logits, axis=1)\n",
    "for r in result:\n",
    "    print('%s: %.4f' % (list(wn_id_to_word.values())[r], logits[0][r]) )"
   ]
  },
  {
   "cell_type": "code",
   "execution_count": null,
   "metadata": {},
   "outputs": [],
   "source": []
  }
 ],
 "metadata": {
  "kernelspec": {
   "display_name": "Python 3",
   "language": "python",
   "name": "python3"
  },
  "language_info": {
   "codemirror_mode": {
    "name": "ipython",
    "version": 3
   },
   "file_extension": ".py",
   "mimetype": "text/x-python",
   "name": "python",
   "nbconvert_exporter": "python",
   "pygments_lexer": "ipython3",
   "version": "3.7.4"
  }
 },
 "nbformat": 4,
 "nbformat_minor": 4
}
