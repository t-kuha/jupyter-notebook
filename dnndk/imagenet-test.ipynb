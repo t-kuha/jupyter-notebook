{
 "cells": [
  {
   "cell_type": "markdown",
   "metadata": {},
   "source": [
    "# Evaluation of frozen/quantized graph"
   ]
  },
  {
   "cell_type": "code",
   "execution_count": 1,
   "metadata": {},
   "outputs": [],
   "source": [
    "import os\n",
    "import cv2\n",
    "import numpy as np"
   ]
  },
  {
   "cell_type": "code",
   "execution_count": 2,
   "metadata": {},
   "outputs": [],
   "source": [
    "import urllib"
   ]
  },
  {
   "cell_type": "code",
   "execution_count": 3,
   "metadata": {},
   "outputs": [],
   "source": [
    "import tensorflow as tf"
   ]
  },
  {
   "cell_type": "code",
   "execution_count": 4,
   "metadata": {},
   "outputs": [],
   "source": [
    "# Use CPU\n",
    "os.environ[\"CUDA_VISIBLE_DEVICES\"] = '-1'"
   ]
  },
  {
   "cell_type": "code",
   "execution_count": 5,
   "metadata": {},
   "outputs": [
    {
     "name": "stdout",
     "output_type": "stream",
     "text": [
      "TensorFlow Version: 1.15.0\n"
     ]
    }
   ],
   "source": [
    "print(\"TensorFlow Version: %s\" % tf.__version__)"
   ]
  },
  {
   "cell_type": "markdown",
   "metadata": {},
   "source": [
    "## WordNet ID vs. words"
   ]
  },
  {
   "cell_type": "code",
   "execution_count": 6,
   "metadata": {},
   "outputs": [],
   "source": [
    "label_file = 'ImageNetLabels.txt'\n",
    "if not os.path.exists(label_file):\n",
    "    dl = urllib.request.urlretrieve(\n",
    "        'https://storage.googleapis.com/download.tensorflow.org/data/ImageNetLabels.txt',\n",
    "        label_file)\n",
    "    \n",
    "imagenet_labels = np.array(open(label_file).read().splitlines())"
   ]
  },
  {
   "cell_type": "code",
   "execution_count": 7,
   "metadata": {},
   "outputs": [],
   "source": [
    "words_file = 'words.txt'\n",
    "if not os.path.exists(words_file):\n",
    "    dl = urllib.request.urlretrieve(\n",
    "        'http://image-net.org/archive/words.txt',\n",
    "        words_file)\n",
    "    \n",
    "wn_ids = {}\n",
    "with open(words_file, 'r') as f:\n",
    "    for line in f:\n",
    "        elem = line.split(sep='\\t')\n",
    "        elem[1] = elem[1].replace('\\n', '').rsplit(sep=',')[0]\n",
    "        wn_ids.update( {elem[1]: elem[0]} )"
   ]
  },
  {
   "cell_type": "code",
   "execution_count": 8,
   "metadata": {},
   "outputs": [],
   "source": [
    "ll = list()\n",
    "for lb in imagenet_labels:\n",
    "    ll.append( (wn_ids[lb], lb) )"
   ]
  },
  {
   "cell_type": "markdown",
   "metadata": {},
   "source": [
    "## Load model"
   ]
  },
  {
   "cell_type": "code",
   "execution_count": 10,
   "metadata": {},
   "outputs": [
    {
     "data": {
      "text/plain": [
       "26683736"
      ]
     },
     "execution_count": 10,
     "metadata": {},
     "output_type": "execute_result"
    }
   ],
   "source": [
    "input_graph_def = tf.Graph().as_graph_def()\n",
    "input_graph_def.ParseFromString(tf.gfile.GFile('saved_model.pb', 'rb').read())"
   ]
  },
  {
   "cell_type": "code",
   "execution_count": 11,
   "metadata": {},
   "outputs": [],
   "source": [
    "tf.import_graph_def(input_graph_def, name = '')"
   ]
  },
  {
   "cell_type": "code",
   "execution_count": 12,
   "metadata": {},
   "outputs": [],
   "source": [
    "# Show node names\n",
    "# for node in input_graph_def.node:\n",
    "#     print(node.name)"
   ]
  },
  {
   "cell_type": "code",
   "execution_count": 13,
   "metadata": {},
   "outputs": [],
   "source": [
    "input_node = 'input'\n",
    "output_node = 'InceptionV1/Logits/Predictions/Softmax'"
   ]
  },
  {
   "cell_type": "code",
   "execution_count": 14,
   "metadata": {},
   "outputs": [],
   "source": [
    "# Get input placeholders & tensors\n",
    "images_in = tf.get_default_graph().get_tensor_by_name(input_node+':0')"
   ]
  },
  {
   "cell_type": "code",
   "execution_count": 108,
   "metadata": {},
   "outputs": [],
   "source": [
    "# get output tensors\n",
    "logits = tf.get_default_graph().get_tensor_by_name(output_node+':0')"
   ]
  },
  {
   "cell_type": "code",
   "execution_count": 16,
   "metadata": {},
   "outputs": [
    {
     "name": "stdout",
     "output_type": "stream",
     "text": [
      "Input  tensor shape: (?, 224, 224, 3)\n",
      "Output tensor shape: (?, 1001)\n"
     ]
    }
   ],
   "source": [
    "print('Input  tensor shape: %s' % images_in.shape)\n",
    "print('Output tensor shape: %s' % logits.shape)"
   ]
  },
  {
   "cell_type": "code",
   "execution_count": 17,
   "metadata": {},
   "outputs": [],
   "source": [
    "labels = tf.placeholder(tf.int32, shape=[None, logits.shape[1].value])"
   ]
  },
  {
   "cell_type": "markdown",
   "metadata": {},
   "source": [
    "## Load image"
   ]
  },
  {
   "cell_type": "code",
   "execution_count": 102,
   "metadata": {},
   "outputs": [],
   "source": [
    "img_path = os.path.join('_calib', 'n01530575_10101.png')"
   ]
  },
  {
   "cell_type": "code",
   "execution_count": 103,
   "metadata": {},
   "outputs": [],
   "source": [
    "# Load as RGB image\n",
    "img = cv2.imread(img_path)\n",
    "img = cv2.cvtColor(img, cv2.COLOR_BGR2RGB)"
   ]
  },
  {
   "cell_type": "code",
   "execution_count": 104,
   "metadata": {},
   "outputs": [],
   "source": [
    "# Derived from ImageNet data\n",
    "MEAN_RGB = np.reshape(np.asarray([0.485, 0.456, 0.406]), [1, 1, 3])\n",
    "STDDEV_RGB = np.reshape(np.asarray([0.229, 0.224, 0.225]), [1, 1, 3])"
   ]
  },
  {
   "cell_type": "code",
   "execution_count": 105,
   "metadata": {},
   "outputs": [],
   "source": [
    "x_test = img.astype(np.float32)\n",
    "# Normalization\n",
    "x_test = np.divide((x_test/255.0 - MEAN_RGB), STDDEV_RGB)\n",
    "x_test = np.expand_dims(x_test, axis=0)"
   ]
  },
  {
   "cell_type": "code",
   "execution_count": 109,
   "metadata": {},
   "outputs": [],
   "source": [
    "# Ground truth\n",
    "y_test = np.zeros(logits.shape[1].value)\n",
    "y_test = np.expand_dims(y_test, axis=0)"
   ]
  },
  {
   "cell_type": "code",
   "execution_count": 110,
   "metadata": {},
   "outputs": [],
   "source": [
    "# Get WordNet ID\n",
    "img_id = os.path.split(img_path)[1].split('_')[0]\n",
    "keys = [k for k, v in wn_ids.items() if v == img_id]\n",
    "idx = ll.index((img_id, keys[0]))\n",
    "y_test[0][idx] = 1\n",
    "# print(idx)"
   ]
  },
  {
   "cell_type": "markdown",
   "metadata": {},
   "source": [
    "***\n",
    "\n",
    "## Inference"
   ]
  },
  {
   "cell_type": "code",
   "execution_count": 112,
   "metadata": {},
   "outputs": [],
   "source": [
    "# top 5 and top 1 accuracy\n",
    "in_top5 = tf.nn.in_top_k(predictions=logits, targets=tf.argmax(labels, 1), k=5)\n",
    "in_top1 = tf.nn.in_top_k(predictions=logits, targets=tf.argmax(labels, 1), k=1)\n",
    "top5_acc = tf.reduce_mean(tf.cast(in_top5, tf.float32))\n",
    "top1_acc = tf.reduce_mean(tf.cast(in_top1, tf.float32))"
   ]
  },
  {
   "cell_type": "code",
   "execution_count": 113,
   "metadata": {},
   "outputs": [
    {
     "name": "stdout",
     "output_type": "stream",
     "text": [
      "Top 1 accuracy with validation set: 1.0000\n",
      "Top 5 accuracy with validation set: 1.0000\n"
     ]
    }
   ],
   "source": [
    "# Create the Computational graph\n",
    "with tf.Session() as sess:\n",
    "    sess.run(tf.initializers.global_variables())\n",
    "\n",
    "    feed_dict = {images_in: x_test, labels: y_test}\n",
    "    t5_acc, t1_acc, logits = sess.run([top5_acc, top1_acc, logits], feed_dict)\n",
    "\n",
    "#     print ('Top 1 accuracy with validation set: {:1.4f}'.format(t1_acc))\n",
    "#     print ('Top 5 accuracy with validation set: {:1.4f}'.format(t5_acc))"
   ]
  },
  {
   "cell_type": "markdown",
   "metadata": {},
   "source": [
    "***\n",
    "\n",
    "## Show result"
   ]
  },
  {
   "cell_type": "code",
   "execution_count": 115,
   "metadata": {},
   "outputs": [
    {
     "name": "stdout",
     "output_type": "stream",
     "text": [
      "Top 1 accuracy with validation set: 1.0000\n",
      "Top 5 accuracy with validation set: 1.0000\n"
     ]
    }
   ],
   "source": [
    "print ('Top 1 accuracy with validation set: {:1.4f}'.format(t1_acc))\n",
    "print ('Top 5 accuracy with validation set: {:1.4f}'.format(t5_acc))"
   ]
  },
  {
   "cell_type": "code",
   "execution_count": 114,
   "metadata": {},
   "outputs": [
    {
     "name": "stdout",
     "output_type": "stream",
     "text": [
      "brambling: 0.627223\n"
     ]
    }
   ],
   "source": [
    "result = np.argmax(logits, axis=1)\n",
    "# prob = logits[result]\n",
    "for r in result:\n",
    "    print('%s: %.4f' % (ll[r][1], logits[0][r]) )"
   ]
  }
 ],
 "metadata": {
  "kernelspec": {
   "display_name": "Python 3",
   "language": "python",
   "name": "python3"
  },
  "language_info": {
   "codemirror_mode": {
    "name": "ipython",
    "version": 3
   },
   "file_extension": ".py",
   "mimetype": "text/x-python",
   "name": "python",
   "nbconvert_exporter": "python",
   "pygments_lexer": "ipython3",
   "version": "3.7.4"
  }
 },
 "nbformat": 4,
 "nbformat_minor": 4
}
